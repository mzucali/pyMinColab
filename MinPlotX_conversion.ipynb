{
  "nbformat": 4,
  "nbformat_minor": 0,
  "metadata": {
    "colab": {
      "provenance": [],
      "authorship_tag": "ABX9TyNAXA6ewNR4xRakvK1iPmku",
      "include_colab_link": true
    },
    "kernelspec": {
      "name": "python3",
      "display_name": "Python 3"
    },
    "language_info": {
      "name": "python"
    }
  },
  "cells": [
    {
      "cell_type": "markdown",
      "metadata": {
        "id": "view-in-github",
        "colab_type": "text"
      },
      "source": [
        "<a href=\"https://colab.research.google.com/github/mzucali/pyMinColab/blob/main/MinPlotX_conversion.ipynb\" target=\"_parent\"><img src=\"https://colab.research.google.com/assets/colab-badge.svg\" alt=\"Open In Colab\"/></a>"
      ]
    },
    {
      "cell_type": "code",
      "source": [
        "!pip install pandas xlsxwriter"
      ],
      "metadata": {
        "id": "CrcrVgS1QdxZ"
      },
      "execution_count": null,
      "outputs": []
    },
    {
      "cell_type": "code",
      "execution_count": 4,
      "metadata": {
        "colab": {
          "base_uri": "https://localhost:8080/"
        },
        "id": "kRfjTFktP5Uj",
        "outputId": "05c4f5d2-cd54-4f4c-cee0-d6e7e159855e"
      },
      "outputs": [
        {
          "output_type": "stream",
          "name": "stdout",
          "text": [
            "File has been split into sheets and saved as output.xlsx\n"
          ]
        }
      ],
      "source": [
        "import pandas as pd\n",
        "\n",
        "# Load the Excel file\n",
        "input_file = '16_17-1-25-ox.xlsx'  # Replace with your input file name\n",
        "output_file = 'output.xlsx'  # Replace with your desired output file name\n",
        "\n",
        "# Read the Excel file into a DataFrame\n",
        "df = pd.read_excel(input_file)\n",
        "\n",
        "# Get unique values in the 'mineral' column\n",
        "unique_minerals = df['Mineral'].unique()\n",
        "\n",
        "# Create a Pandas Excel writer using XlsxWriter as the engine\n",
        "with pd.ExcelWriter(output_file, engine='xlsxwriter') as writer:\n",
        "    for mineral in unique_minerals:\n",
        "        # Filter the DataFrame for the current mineral\n",
        "        mineral_df = df[df['Mineral'] == mineral]\n",
        "\n",
        "        # Write the DataFrame to a new sheet\n",
        "        mineral_df.to_excel(writer, sheet_name=mineral, index=False)\n",
        "\n",
        "print(f\"File has been split into sheets and saved as {output_file}\")"
      ]
    },
    {
      "cell_type": "code",
      "source": [
        "import pandas as pd\n",
        "\n",
        "def csv_to_excel(csv_file, excel_file):\n",
        "    # Read CSV into pandas DataFrame\n",
        "    df = pd.read_csv(csv_file, sep'\t')\n",
        "\n",
        "    # Write DataFrame to Excel\n",
        "    df.to_excel(excel_file, index=False)\n",
        "\n",
        "# Replace 'input.csv' and 'output.xlsx' with your file paths\n",
        "csv_to_excel('input.csv', 'output.xlsx')\n"
      ],
      "metadata": {
        "id": "Dozirhh3oegC"
      },
      "execution_count": null,
      "outputs": []
    }
  ]
}
