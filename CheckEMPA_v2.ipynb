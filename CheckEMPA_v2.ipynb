{
  "cells": [
    {
      "cell_type": "markdown",
      "metadata": {
        "id": "view-in-github",
        "colab_type": "text"
      },
      "source": [
        "<a href=\"https://colab.research.google.com/github/mzucali/pyMinColab/blob/main/CheckEMPA_v2.ipynb\" target=\"_parent\"><img src=\"https://colab.research.google.com/assets/colab-badge.svg\" alt=\"Open In Colab\"/></a>"
      ]
    },
    {
      "cell_type": "markdown",
      "id": "0ba7eb0b-614e-4107-a6d5-20a24e8a576d",
      "metadata": {
        "id": "0ba7eb0b-614e-4107-a6d5-20a24e8a576d"
      },
      "source": [
        "# CHECK ANALISI EMPA"
      ]
    },
    {
      "cell_type": "code",
      "execution_count": null,
      "id": "cc1817e8-5b1f-4d55-a9a4-fdfa46c6d572",
      "metadata": {
        "id": "cc1817e8-5b1f-4d55-a9a4-fdfa46c6d572"
      },
      "outputs": [],
      "source": [
        "import sys\n",
        "print('Python: {}'.format(sys.version))\n",
        "# scipy\n",
        "import scipy\n",
        "print('scipy: {}'.format(scipy.__version__))\n",
        "# numpy\n",
        "import numpy\n",
        "print('numpy: {}'.format(numpy.__version__))\n",
        "# matplotlib\n",
        "import matplotlib\n",
        "print('matplotlib: {}'.format(matplotlib.__version__))\n",
        "# pandas\n",
        "import pandas\n",
        "print('pandas: {}'.format(pandas.__version__))\n",
        "# scikit-learn\n",
        "import sklearn\n",
        "print('sklearn: {}'.format(sklearn.__version__))\n",
        "import pandasgui\n",
        "import ipympl\n",
        "#%matplotlib widget\n",
        "import seaborn as sns\n",
        "import ipywidgets as widgets\n",
        "import io"
      ]
    },
    {
      "cell_type": "code",
      "execution_count": null,
      "id": "69cd00d0-b2ef-4f50-ae37-1c04787e0b12",
      "metadata": {
        "id": "69cd00d0-b2ef-4f50-ae37-1c04787e0b12"
      },
      "outputs": [],
      "source": [
        "from pandas import read_csv, read_excel\n",
        "from pandas.plotting import scatter_matrix\n",
        "from matplotlib import pyplot as plt\n",
        "from pandasgui import show"
      ]
    },
    {
      "cell_type": "markdown",
      "id": "48cf3f80-9bf4-411c-9567-8b24556d127f",
      "metadata": {
        "jp-MarkdownHeadingCollapsed": true,
        "tags": [],
        "id": "48cf3f80-9bf4-411c-9567-8b24556d127f"
      },
      "source": [
        "## UPLOAD DATA FILE"
      ]
    },
    {
      "cell_type": "code",
      "execution_count": null,
      "id": "bd87507d-9db1-44b5-99aa-6756bb2d40b5",
      "metadata": {
        "tags": [],
        "id": "bd87507d-9db1-44b5-99aa-6756bb2d40b5"
      },
      "outputs": [],
      "source": [
        "uploader=widgets.FileUpload(\n",
        "    accept='*.xlsx',  # Accepted file extension e.g. '.txt', '.pdf', 'image/*', 'image/*,.pdf'\n",
        "    multiple=False  # True to accept multiple files upload else False\n",
        ")"
      ]
    },
    {
      "cell_type": "code",
      "execution_count": null,
      "id": "31b247a9-dc75-44ad-908c-7ba36ee761f4",
      "metadata": {
        "tags": [],
        "id": "31b247a9-dc75-44ad-908c-7ba36ee761f4"
      },
      "outputs": [],
      "source": [
        "uploader"
      ]
    },
    {
      "cell_type": "code",
      "execution_count": null,
      "id": "2163c347-e5c8-4302-a412-19d535060709",
      "metadata": {
        "tags": [],
        "id": "2163c347-e5c8-4302-a412-19d535060709"
      },
      "outputs": [],
      "source": [
        "uploader.value[0]\n",
        "uploaded_file = uploader.value[0]\n",
        "data=read_excel(io.BytesIO(uploaded_file.content))"
      ]
    },
    {
      "cell_type": "markdown",
      "id": "0cab7764-b4aa-481a-8f07-e5b112f75ef1",
      "metadata": {
        "id": "0cab7764-b4aa-481a-8f07-e5b112f75ef1"
      },
      "source": [
        "## RUN"
      ]
    },
    {
      "cell_type": "code",
      "execution_count": null,
      "id": "edf06771-c570-496d-b73b-13f061b7d7f2",
      "metadata": {
        "tags": [],
        "id": "edf06771-c570-496d-b73b-13f061b7d7f2"
      },
      "outputs": [],
      "source": [
        "fnOX='/Users/miki/Dropbox/Mac/Downloads/9-3-23-ox.txt'\n",
        "fnSD='/Users/miki/Dropbox/Mac/Downloads/9-3-23-SD.txt'\n",
        "\n",
        "\n",
        "#fnSummary='/Users/miki/Dropbox/Development/MLMachineLearning/pythonML/ML_test2023/minerals/testSD/4-4-23.txt'\n",
        "#OX = read_csv(fnOX, sep='\\t', skiprows=2, skipfooter=5, engine='python') #engine='python'\n",
        "#OX = read_csv(fnOX)\n",
        "#OX = read_csv(fnOX, skiprows=2, sep='\\t')[:-5]\n",
        "#SD = read_csv(fnSD, skiprows=2, sep='\\t')[:-5]\n",
        "OX = read_csv(fnOX, sep='\\t')\n",
        "#OX = read_csv(fnOX, sep='\\t', skiprows=[1])\n",
        "SD = read_csv(fnSD, sep='\\t', skiprows=[1])\n",
        "print(OX)\n",
        "print(SD)\n",
        "#print(OX.columns)\n",
        "#OX.rename(columns=lambda x: x.replace(' ', ''), inplace=True)\n",
        "print(OX.columns)\n",
        "#print(SD.columns)\n",
        "#SD.rename(columns=lambda x: x.replace(' ', ''), inplace=True)\n",
        "print(SD.columns)"
      ]
    },
    {
      "cell_type": "code",
      "execution_count": null,
      "id": "3c98c018-e14d-437c-bf49-1583fc9c6c1a",
      "metadata": {
        "tags": [],
        "id": "3c98c018-e14d-437c-bf49-1583fc9c6c1a"
      },
      "outputs": [],
      "source": [
        "OX.head()"
      ]
    },
    {
      "cell_type": "code",
      "execution_count": null,
      "id": "4d1477db-5cbe-4940-889b-a11ce2ef22fa",
      "metadata": {
        "tags": [],
        "id": "4d1477db-5cbe-4940-889b-a11ce2ef22fa"
      },
      "outputs": [],
      "source": [
        "SD.head()"
      ]
    },
    {
      "cell_type": "code",
      "execution_count": null,
      "id": "25944679-aac4-4a52-aa3e-99b2d8d054bf",
      "metadata": {
        "tags": [],
        "id": "25944679-aac4-4a52-aa3e-99b2d8d054bf"
      },
      "outputs": [],
      "source": [
        "## kjkajkja\n",
        "plt.scatter(OX.SiO2, SD.Si, label='Si', color='blue')\n",
        "plt.scatter(OX.Al2O3, SD.Al, label='Al', color='red')\n",
        "plt.scatter(OX.MnO, SD.Mn, label='Mn', color='yellow')\n",
        "plt.scatter(OX.FeO, SD.Fe, label='Fe', color='black')\n",
        "#plt.scatter(OX.Na2O, SD.Na, label='Na', color='orange')\n",
        "#plt.scatter(OX.TiO2, SD.Ti, label='Ti', color='black', marker='s')\n",
        "\n",
        "#plt.scatter(df1['X'], df1['Y'], label='DataFrame 1', color='blue')\n",
        "\n",
        "# Adding labels and title\n",
        "plt.ylabel('SD %')\n",
        "plt.xlabel('Ox wt%')\n",
        "plt.title('Scatter Plot from Different DataFrames')\n",
        "#plt.xlim(0, 100)\n",
        "#plt.ylim(0, 100)\n",
        "# Adding legend\n",
        "plt.legend()\n",
        "\n",
        "plt.show()"
      ]
    },
    {
      "cell_type": "code",
      "execution_count": null,
      "id": "72e79453-93b6-47d4-a6d7-ff6d8a308269",
      "metadata": {
        "tags": [],
        "id": "72e79453-93b6-47d4-a6d7-ff6d8a308269"
      },
      "outputs": [],
      "source": [
        "data.head(3)\n",
        "data.tail(3)\n",
        "data.index\n",
        "data.columns\n"
      ]
    },
    {
      "cell_type": "code",
      "execution_count": null,
      "id": "c8b82181-fe50-4350-8878-cbed209f4502",
      "metadata": {
        "tags": [],
        "id": "c8b82181-fe50-4350-8878-cbed209f4502"
      },
      "outputs": [],
      "source": [
        "#data = read_excel(infile)\n",
        "#\n",
        "data['Mineral'].unique()\n",
        "data[data['Mineral']==\"grt\"].plot()\n",
        "plt.show()"
      ]
    },
    {
      "cell_type": "code",
      "execution_count": null,
      "id": "3b59a9ba-8ebb-488e-baae-381a259e0e85",
      "metadata": {
        "tags": [],
        "id": "3b59a9ba-8ebb-488e-baae-381a259e0e85"
      },
      "outputs": [],
      "source": [
        "data.to_numpy()"
      ]
    },
    {
      "cell_type": "markdown",
      "id": "85d55316-a00c-403c-84e7-a132b7d2123d",
      "metadata": {
        "id": "85d55316-a00c-403c-84e7-a132b7d2123d"
      },
      "source": [
        "## UPLOAD REFERENCE FILE"
      ]
    },
    {
      "cell_type": "code",
      "execution_count": null,
      "id": "62a88155-f49b-44c4-afd4-c30ca1f279d0",
      "metadata": {
        "tags": [],
        "id": "62a88155-f49b-44c4-afd4-c30ca1f279d0"
      },
      "outputs": [],
      "source": [
        "#infile = '/Users/miki/Dropbox/Development/MLMachineLearning/pythonML/ML_test2023/minerals/test_minerals_ML.xlsx'\n",
        "#reference= '/Users/miki/Dropbox/Development/MLMachineLearning/pythonML/ML_test2023/minerals/QMIN_ALLminerals.xlsx'\n",
        "reference= '/Users/miki/Dropbox/Development/MLMachineLearning/pythonML/QMineral_Modeller-master/data_input/minerals_balanced.csv'\n",
        "#referenceGRT= '/Users/miki/Dropbox/Development/MLMachineLearning/pythonML/ML_test2023/minerals/garnet_model.xlsx'"
      ]
    },
    {
      "cell_type": "code",
      "execution_count": null,
      "id": "cfe0c160-8df7-48d2-b36d-3c99ef2ec5aa",
      "metadata": {
        "tags": [],
        "id": "cfe0c160-8df7-48d2-b36d-3c99ef2ec5aa",
        "outputId": "3c4ae216-7aae-45c4-96d9-af253510a49c"
      },
      "outputs": [
        {
          "name": "stdout",
          "output_type": "stream",
          "text": [
            "(286738, 31)\n"
          ]
        }
      ],
      "source": [
        "#data_REF = read_excel(reference)\n",
        "data_REF = read_csv(reference)\n",
        "print(data_REF.shape)"
      ]
    },
    {
      "cell_type": "code",
      "execution_count": null,
      "id": "ecba6e82-56fd-4d5e-8abc-a775c3b0ce8f",
      "metadata": {
        "tags": [],
        "id": "ecba6e82-56fd-4d5e-8abc-a775c3b0ce8f"
      },
      "outputs": [],
      "source": [
        "data_REF.head(3)\n",
        "#data_REF.tail(5)\n",
        "#data_REF[\"GROUP\"].unique()\n",
        "\n",
        "#dataGRT.plot()\n",
        "#plt.show()\n",
        "#data_REF[\"TOTAL\"].head(3)\n",
        "#data_REF[\"TOTAL\"].describe()"
      ]
    },
    {
      "cell_type": "code",
      "execution_count": null,
      "id": "8d6b516f-fab1-48e8-894d-ed6c4885e641",
      "metadata": {
        "tags": [],
        "id": "8d6b516f-fab1-48e8-894d-ed6c4885e641"
      },
      "outputs": [],
      "source": [
        "#data_REF.plot()\n",
        "data_REF[data_REF[\"GROUP\"]==\"GARNET\"].shape\n",
        "data_REF[data_REF[\"GROUP\"]==\"GARNET\"].head()\n",
        "#data_REF[data_REF[\"GROUP\"]==\"GARNET\"]."
      ]
    },
    {
      "cell_type": "code",
      "execution_count": null,
      "id": "9bf868e5-da63-4053-922f-3a4a43824bb7",
      "metadata": {
        "tags": [],
        "id": "9bf868e5-da63-4053-922f-3a4a43824bb7"
      },
      "outputs": [],
      "source": [
        "#data_REF[data_REF[\"GROUP\"]==\"GARNET\"].plot(x=\"SOMA\", y=[\"SIO2\", \"MGO\",\"AL2O3\"])\n",
        "#data_REF[data_REF[\"GROUP\"]==\"GARNET\"].plot(kind=\"scatter\",x=\"SOMA\", y=\"SIO2\")\n",
        "#data_REF[data_REF[\"GROUP\"]==\"GARNET\"].to_excel('GARNET.xlsx')\n",
        "#plt.show()\n",
        "sum = data_REF[data_REF[\"GROUP\"]==\"GARNET\"].iloc[:,7:-2].astype(float).sum(axis=1)\n",
        "sum"
      ]
    },
    {
      "cell_type": "code",
      "execution_count": null,
      "id": "96616a8a-58ac-402f-9812-790ea698fb02",
      "metadata": {
        "tags": [],
        "id": "96616a8a-58ac-402f-9812-790ea698fb02"
      },
      "outputs": [],
      "source": [
        "data_REF.head(3)\n",
        "data_REF[\"SOMA\"].describe()"
      ]
    },
    {
      "cell_type": "code",
      "execution_count": null,
      "id": "3ea25b72-3e20-4ac6-befb-565d451904e9",
      "metadata": {
        "tags": [],
        "id": "3ea25b72-3e20-4ac6-befb-565d451904e9"
      },
      "outputs": [],
      "source": [
        "sns.scatterplot( x=data_REF[\"SOMA\"], y=data_REF[\"SIO2\"])\n",
        "plt.show()\n",
        "data_REF[\"SOMA\"].describe()"
      ]
    },
    {
      "cell_type": "code",
      "execution_count": null,
      "id": "951776d7-739b-474f-a83e-a7d21dbf8916",
      "metadata": {
        "tags": [],
        "id": "951776d7-739b-474f-a83e-a7d21dbf8916"
      },
      "outputs": [],
      "source": [
        "data_REF[\"GROUP\"].unique()"
      ]
    },
    {
      "cell_type": "code",
      "execution_count": null,
      "id": "68c211f8-9d50-4369-9dfa-e45572cf4ab6",
      "metadata": {
        "tags": [],
        "id": "68c211f8-9d50-4369-9dfa-e45572cf4ab6"
      },
      "outputs": [],
      "source": [
        "data_REF[data_REF['GROUP']==\"GARNET\"].size"
      ]
    },
    {
      "cell_type": "code",
      "execution_count": null,
      "id": "1b431e7a-0231-4baa-b775-1de7ac950141",
      "metadata": {
        "tags": [],
        "id": "1b431e7a-0231-4baa-b775-1de7ac950141"
      },
      "outputs": [],
      "source": []
    },
    {
      "cell_type": "code",
      "execution_count": null,
      "id": "a625342b-ac84-4590-a35e-99760b464e4c",
      "metadata": {
        "tags": [],
        "id": "a625342b-ac84-4590-a35e-99760b464e4c"
      },
      "outputs": [],
      "source": [
        "#data_REF['Totale'].plot()\n",
        "grt=data_REF[data_REF['GROUP']==\"GARNET\"]\n",
        "sns.scatterplot(data=grt, x=\"SIO2\", y=sum)\n",
        "plt.show()\n",
        "sns.histoplot(data=grt)"
      ]
    },
    {
      "cell_type": "code",
      "execution_count": null,
      "id": "3bfccd36-6891-4ee0-a1f6-70bc7a41dd68",
      "metadata": {
        "tags": [],
        "id": "3bfccd36-6891-4ee0-a1f6-70bc7a41dd68"
      },
      "outputs": [],
      "source": []
    },
    {
      "cell_type": "markdown",
      "id": "a0ae2e71-4b6c-4c97-a8a5-cbbe328ec242",
      "metadata": {
        "tags": [],
        "id": "a0ae2e71-4b6c-4c97-a8a5-cbbe328ec242"
      },
      "source": [
        "## Filter DATA by MINERAL"
      ]
    },
    {
      "cell_type": "code",
      "execution_count": null,
      "id": "ad08daf8-3b7c-44c6-b601-57041286064e",
      "metadata": {
        "tags": [],
        "id": "ad08daf8-3b7c-44c6-b601-57041286064e"
      },
      "outputs": [],
      "source": [
        "#isGrt = data(data['Mineral']==\"GT\" | data['Mineral']==\"grt\")\n",
        "isGrt = data['Mineral']==\"grt\"\n",
        "#isGrt = data['Mineral']==\"grt\"\n",
        "isGrt\n",
        "\n",
        "#gapminder_2002 = gapminder[is_2002]\n",
        "data_isGrt = data[isGrt]\n",
        "sns.scatterplot(data=data_REF[data_REF['GROUP']==\"GARNET\"], x=\"SIO2\", y=\"AL2O3\", hue=\"GROUP\", palette=['red'])\n",
        "#sns.scatterplot(data=data, x=\"SiO2\", y=\"Al2O3\",  hue=\"Mineral\")\n",
        "plt.show()\n",
        "sns.scatterplot(data=data_isGrt, x=\"SiO2\", y=\"Al2O3\", hue=\"Mineral\", marker=\"X\", palette=['blue'])\n",
        "\n",
        "plt.show()\n"
      ]
    },
    {
      "cell_type": "code",
      "execution_count": null,
      "id": "c0a488bf-4e12-4697-a54a-9829901a2105",
      "metadata": {
        "tags": [],
        "id": "c0a488bf-4e12-4697-a54a-9829901a2105"
      },
      "outputs": [],
      "source": [
        "#data.plot(kind=\"box\")\n",
        "sns.boxplot(data)\n",
        "plt.show()"
      ]
    },
    {
      "cell_type": "code",
      "execution_count": null,
      "id": "db5bec16-8f71-4365-81f2-997bd6d55d8c",
      "metadata": {
        "tags": [],
        "id": "db5bec16-8f71-4365-81f2-997bd6d55d8c"
      },
      "outputs": [],
      "source": [
        "#axs = data.plot.area(figsize=(12, 4), subplots=True)\n",
        "#plt.show()\n",
        "sns.histplot(data)\n",
        "plt.show()"
      ]
    },
    {
      "cell_type": "code",
      "execution_count": null,
      "id": "9ae06f26-25a1-46c8-9e5f-3021c7ae4d71",
      "metadata": {
        "tags": [],
        "id": "9ae06f26-25a1-46c8-9e5f-3021c7ae4d71"
      },
      "outputs": [],
      "source": [
        "%who_ls"
      ]
    },
    {
      "cell_type": "code",
      "execution_count": null,
      "id": "6e160833-e9c5-4c6f-9629-75ad22994b1c",
      "metadata": {
        "tags": [],
        "id": "6e160833-e9c5-4c6f-9629-75ad22994b1c"
      },
      "outputs": [],
      "source": [
        "%whos"
      ]
    },
    {
      "cell_type": "markdown",
      "id": "fdfe8d29-c8b6-4bf1-ac6e-7f3953d81c5d",
      "metadata": {
        "id": "fdfe8d29-c8b6-4bf1-ac6e-7f3953d81c5d"
      },
      "source": [
        "## Calc Total"
      ]
    },
    {
      "cell_type": "code",
      "execution_count": null,
      "id": "1b7a0a9b-ff04-40fb-9b1d-fdb9f82deec9",
      "metadata": {
        "tags": [],
        "id": "1b7a0a9b-ff04-40fb-9b1d-fdb9f82deec9"
      },
      "outputs": [],
      "source": [
        "if 'Total_new' in data_REF.columns:\n",
        "    print(\"Yes\")\n",
        "    del data_REF['Total_new']\n",
        "    data_REF\n",
        "else:\n",
        "    print(\"No\")\n",
        "total = data_REF.iloc[:,2:-1].astype(float).sum(axis=1)\n",
        "sns.histplot(total)\n",
        "plt.show()"
      ]
    },
    {
      "cell_type": "code",
      "execution_count": null,
      "id": "a7dc7f24-a138-4173-a280-7cd79ee9743e",
      "metadata": {
        "tags": [],
        "id": "a7dc7f24-a138-4173-a280-7cd79ee9743e"
      },
      "outputs": [],
      "source": [
        "data_REF_check = data_REF.copy()\n",
        "data_REF_check['Total_new'] = total\n",
        "#data_REF['Total_new'] = total\n",
        "#newData = data.copy()\n",
        "#print(total)\n",
        "#sns.histplot(total).set(title='Total Hist1')\n",
        "#plt.show()\n",
        "data_REF_check[data_REF_check[\"REFERENCE MINERAL\"]==\"Garnet\"][\"Total_new\"]\n",
        "#dr.loc[dr['Total_new']]\n",
        "#dr[\"Total_new\"]\n",
        "sns.histplot(data_REF_check[data_REF_check[\"REFERENCE MINERAL\"]==\"Garnet\"][\"Total_new\"]).set(title='Total Hist Ref_Check')\n",
        "plt.show()\n",
        "#print(data['Mineral'])\n",
        "\n",
        "#sns.histplot(data_REF).set(title='Hist ALL')\n",
        "#plt.show()"
      ]
    },
    {
      "cell_type": "code",
      "execution_count": null,
      "id": "01d4ed89-f936-474a-996e-b35a11797f03",
      "metadata": {
        "tags": [],
        "id": "01d4ed89-f936-474a-996e-b35a11797f03"
      },
      "outputs": [],
      "source": [
        "data_REF_check[data_REF_check[\"REFERENCE MINERAL\"]==\"Garnet\"].to_excel(\"outgrt.xlsx\")"
      ]
    },
    {
      "cell_type": "code",
      "execution_count": null,
      "id": "5be06e96-f37f-4e6f-9ded-66cded7abd47",
      "metadata": {
        "tags": [],
        "id": "5be06e96-f37f-4e6f-9ded-66cded7abd47"
      },
      "outputs": [],
      "source": [
        "data_REF['Total_new'].describe()"
      ]
    },
    {
      "cell_type": "code",
      "execution_count": null,
      "id": "73e704e3-d715-45a0-b4e2-72c5ae884384",
      "metadata": {
        "tags": [],
        "id": "73e704e3-d715-45a0-b4e2-72c5ae884384"
      },
      "outputs": [],
      "source": [
        "sns.scatterplot(data=data_REF, x=\"SIO2\", y=\"Total_new\", marker=\"X\")\n",
        "plt.show()"
      ]
    },
    {
      "cell_type": "code",
      "execution_count": null,
      "id": "def3eeda-9924-45b6-a94f-f082cf26b3e0",
      "metadata": {
        "tags": [],
        "id": "def3eeda-9924-45b6-a94f-f082cf26b3e0"
      },
      "outputs": [],
      "source": [
        "#!/Users/miki/miniconda3/bin/pip3 install seaborn"
      ]
    },
    {
      "cell_type": "code",
      "execution_count": null,
      "id": "0492cf45-3902-4994-b071-e7398541fe53",
      "metadata": {
        "tags": [],
        "id": "0492cf45-3902-4994-b071-e7398541fe53"
      },
      "outputs": [],
      "source": [
        "##!/Users/miki/miniconda3/bin/pip3 install git+https://github.com/adamerose/pandasgui.git\n"
      ]
    },
    {
      "cell_type": "code",
      "execution_count": null,
      "id": "90ec9c2d-dd58-4679-a232-588e70785c3d",
      "metadata": {
        "tags": [],
        "id": "90ec9c2d-dd58-4679-a232-588e70785c3d"
      },
      "outputs": [],
      "source": [
        "gui = show(data,dataGRT)"
      ]
    },
    {
      "cell_type": "code",
      "execution_count": null,
      "id": "c1184533-493e-4317-a380-c8d5a16bb4bd",
      "metadata": {
        "tags": [],
        "id": "c1184533-493e-4317-a380-c8d5a16bb4bd"
      },
      "outputs": [],
      "source": [
        "sns.histplot(data['SiO2']).set(title='Hist ALL')\n",
        "plt.show()"
      ]
    },
    {
      "cell_type": "code",
      "execution_count": null,
      "id": "01063b35-0517-4938-b2c9-4a98cad049f5",
      "metadata": {
        "id": "01063b35-0517-4938-b2c9-4a98cad049f5"
      },
      "outputs": [],
      "source": []
    }
  ],
  "metadata": {
    "kernelspec": {
      "display_name": "Python 3 (ipykernel)",
      "language": "python",
      "name": "python3"
    },
    "language_info": {
      "codemirror_mode": {
        "name": "ipython",
        "version": 3
      },
      "file_extension": ".py",
      "mimetype": "text/x-python",
      "name": "python",
      "nbconvert_exporter": "python",
      "pygments_lexer": "ipython3",
      "version": "3.11.5"
    },
    "colab": {
      "provenance": [],
      "include_colab_link": true
    }
  },
  "nbformat": 4,
  "nbformat_minor": 5
}