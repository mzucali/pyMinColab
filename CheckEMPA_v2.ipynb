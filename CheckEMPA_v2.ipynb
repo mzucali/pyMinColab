{
  "cells": [
    {
      "cell_type": "markdown",
      "metadata": {
        "id": "view-in-github",
        "colab_type": "text"
      },
      "source": [
        "<a href=\"https://colab.research.google.com/github/mzucali/pyMinColab/blob/main/CheckEMPA_v2.ipynb\" target=\"_parent\"><img src=\"https://colab.research.google.com/assets/colab-badge.svg\" alt=\"Open In Colab\"/></a>"
      ]
    },
    {
      "cell_type": "markdown",
      "id": "0ba7eb0b-614e-4107-a6d5-20a24e8a576d",
      "metadata": {
        "id": "0ba7eb0b-614e-4107-a6d5-20a24e8a576d"
      },
      "source": [
        "# CHECK ANALISI EMPA"
      ]
    },
    {
      "cell_type": "code",
      "execution_count": 20,
      "id": "cc1817e8-5b1f-4d55-a9a4-fdfa46c6d572",
      "metadata": {
        "id": "cc1817e8-5b1f-4d55-a9a4-fdfa46c6d572",
        "outputId": "631ea240-988b-47be-faa7-7bf357aa6e4f",
        "colab": {
          "base_uri": "https://localhost:8080/"
        }
      },
      "outputs": [
        {
          "output_type": "stream",
          "name": "stdout",
          "text": [
            "Python: 3.10.12 (main, Jun 11 2023, 05:26:28) [GCC 11.4.0]\n",
            "scipy: 1.11.3\n",
            "numpy: 1.23.5\n",
            "matplotlib: 3.7.1\n",
            "pandas: 1.5.3\n",
            "sklearn: 1.2.2\n"
          ]
        }
      ],
      "source": [
        "import sys\n",
        "print('Python: {}'.format(sys.version))\n",
        "# scipy\n",
        "import scipy\n",
        "print('scipy: {}'.format(scipy.__version__))\n",
        "# numpy\n",
        "import numpy\n",
        "print('numpy: {}'.format(numpy.__version__))\n",
        "# matplotlib\n",
        "import matplotlib\n",
        "print('matplotlib: {}'.format(matplotlib.__version__))\n",
        "# pandas\n",
        "import pandas\n",
        "print('pandas: {}'.format(pandas.__version__))\n",
        "# scikit-learn\n",
        "import sklearn\n",
        "print('sklearn: {}'.format(sklearn.__version__))\n",
        "#import pandasgui\n",
        "#import ipympl\n",
        "#%matplotlib widget\n",
        "import seaborn as sns\n",
        "import ipywidgets as widgets\n",
        "import io"
      ]
    },
    {
      "cell_type": "code",
      "execution_count": 21,
      "id": "69cd00d0-b2ef-4f50-ae37-1c04787e0b12",
      "metadata": {
        "id": "69cd00d0-b2ef-4f50-ae37-1c04787e0b12"
      },
      "outputs": [],
      "source": [
        "from pandas import read_csv, read_excel\n",
        "from pandas.plotting import scatter_matrix\n",
        "from matplotlib import pyplot as plt\n",
        "#from pandasgui import show"
      ]
    },
    {
      "cell_type": "markdown",
      "id": "48cf3f80-9bf4-411c-9567-8b24556d127f",
      "metadata": {
        "jp-MarkdownHeadingCollapsed": true,
        "tags": [],
        "id": "48cf3f80-9bf4-411c-9567-8b24556d127f"
      },
      "source": [
        "## UPLOAD DATA FILE\n",
        "File FORMAT -\n",
        "\n",
        "1) the first 3 rows will be skipped\n",
        "\n",
        "2) the last 5 rows will be skipped\n"
      ]
    },
    {
      "cell_type": "markdown",
      "source": [
        "## OX data upload\n",
        "*COLAB* upload"
      ],
      "metadata": {
        "id": "pbhvLL5SoZQF"
      },
      "id": "pbhvLL5SoZQF"
    },
    {
      "cell_type": "markdown",
      "source": [
        "Upload OX file"
      ],
      "metadata": {
        "id": "Q9IBb4HUPZ-8"
      },
      "id": "Q9IBb4HUPZ-8"
    },
    {
      "cell_type": "code",
      "source": [
        "## COLAB file UPLOAD\n",
        "# load and read summary file from EMPA\n",
        "from google.colab import files\n",
        "uploaded = files.upload()\n",
        "\n",
        "for fnOX in uploaded.keys():\n",
        "  print('User uploaded file \"{name}\" with length {length} bytes'.format(\n",
        "      name=fnOX, length=len(uploaded[fnOX])))"
      ],
      "metadata": {
        "id": "2rhUt2c7oMA-",
        "colab": {
          "base_uri": "https://localhost:8080/",
          "height": 92
        },
        "outputId": "0bb207ea-39e4-4ea2-d54e-8811ef2f6ae9"
      },
      "id": "2rhUt2c7oMA-",
      "execution_count": 22,
      "outputs": [
        {
          "output_type": "display_data",
          "data": {
            "text/plain": [
              "<IPython.core.display.HTML object>"
            ],
            "text/html": [
              "\n",
              "     <input type=\"file\" id=\"files-f5306da8-283c-4ce8-ae33-98b74907a804\" name=\"files[]\" multiple disabled\n",
              "        style=\"border:none\" />\n",
              "     <output id=\"result-f5306da8-283c-4ce8-ae33-98b74907a804\">\n",
              "      Upload widget is only available when the cell has been executed in the\n",
              "      current browser session. Please rerun this cell to enable.\n",
              "      </output>\n",
              "      <script>// Copyright 2017 Google LLC\n",
              "//\n",
              "// Licensed under the Apache License, Version 2.0 (the \"License\");\n",
              "// you may not use this file except in compliance with the License.\n",
              "// You may obtain a copy of the License at\n",
              "//\n",
              "//      http://www.apache.org/licenses/LICENSE-2.0\n",
              "//\n",
              "// Unless required by applicable law or agreed to in writing, software\n",
              "// distributed under the License is distributed on an \"AS IS\" BASIS,\n",
              "// WITHOUT WARRANTIES OR CONDITIONS OF ANY KIND, either express or implied.\n",
              "// See the License for the specific language governing permissions and\n",
              "// limitations under the License.\n",
              "\n",
              "/**\n",
              " * @fileoverview Helpers for google.colab Python module.\n",
              " */\n",
              "(function(scope) {\n",
              "function span(text, styleAttributes = {}) {\n",
              "  const element = document.createElement('span');\n",
              "  element.textContent = text;\n",
              "  for (const key of Object.keys(styleAttributes)) {\n",
              "    element.style[key] = styleAttributes[key];\n",
              "  }\n",
              "  return element;\n",
              "}\n",
              "\n",
              "// Max number of bytes which will be uploaded at a time.\n",
              "const MAX_PAYLOAD_SIZE = 100 * 1024;\n",
              "\n",
              "function _uploadFiles(inputId, outputId) {\n",
              "  const steps = uploadFilesStep(inputId, outputId);\n",
              "  const outputElement = document.getElementById(outputId);\n",
              "  // Cache steps on the outputElement to make it available for the next call\n",
              "  // to uploadFilesContinue from Python.\n",
              "  outputElement.steps = steps;\n",
              "\n",
              "  return _uploadFilesContinue(outputId);\n",
              "}\n",
              "\n",
              "// This is roughly an async generator (not supported in the browser yet),\n",
              "// where there are multiple asynchronous steps and the Python side is going\n",
              "// to poll for completion of each step.\n",
              "// This uses a Promise to block the python side on completion of each step,\n",
              "// then passes the result of the previous step as the input to the next step.\n",
              "function _uploadFilesContinue(outputId) {\n",
              "  const outputElement = document.getElementById(outputId);\n",
              "  const steps = outputElement.steps;\n",
              "\n",
              "  const next = steps.next(outputElement.lastPromiseValue);\n",
              "  return Promise.resolve(next.value.promise).then((value) => {\n",
              "    // Cache the last promise value to make it available to the next\n",
              "    // step of the generator.\n",
              "    outputElement.lastPromiseValue = value;\n",
              "    return next.value.response;\n",
              "  });\n",
              "}\n",
              "\n",
              "/**\n",
              " * Generator function which is called between each async step of the upload\n",
              " * process.\n",
              " * @param {string} inputId Element ID of the input file picker element.\n",
              " * @param {string} outputId Element ID of the output display.\n",
              " * @return {!Iterable<!Object>} Iterable of next steps.\n",
              " */\n",
              "function* uploadFilesStep(inputId, outputId) {\n",
              "  const inputElement = document.getElementById(inputId);\n",
              "  inputElement.disabled = false;\n",
              "\n",
              "  const outputElement = document.getElementById(outputId);\n",
              "  outputElement.innerHTML = '';\n",
              "\n",
              "  const pickedPromise = new Promise((resolve) => {\n",
              "    inputElement.addEventListener('change', (e) => {\n",
              "      resolve(e.target.files);\n",
              "    });\n",
              "  });\n",
              "\n",
              "  const cancel = document.createElement('button');\n",
              "  inputElement.parentElement.appendChild(cancel);\n",
              "  cancel.textContent = 'Cancel upload';\n",
              "  const cancelPromise = new Promise((resolve) => {\n",
              "    cancel.onclick = () => {\n",
              "      resolve(null);\n",
              "    };\n",
              "  });\n",
              "\n",
              "  // Wait for the user to pick the files.\n",
              "  const files = yield {\n",
              "    promise: Promise.race([pickedPromise, cancelPromise]),\n",
              "    response: {\n",
              "      action: 'starting',\n",
              "    }\n",
              "  };\n",
              "\n",
              "  cancel.remove();\n",
              "\n",
              "  // Disable the input element since further picks are not allowed.\n",
              "  inputElement.disabled = true;\n",
              "\n",
              "  if (!files) {\n",
              "    return {\n",
              "      response: {\n",
              "        action: 'complete',\n",
              "      }\n",
              "    };\n",
              "  }\n",
              "\n",
              "  for (const file of files) {\n",
              "    const li = document.createElement('li');\n",
              "    li.append(span(file.name, {fontWeight: 'bold'}));\n",
              "    li.append(span(\n",
              "        `(${file.type || 'n/a'}) - ${file.size} bytes, ` +\n",
              "        `last modified: ${\n",
              "            file.lastModifiedDate ? file.lastModifiedDate.toLocaleDateString() :\n",
              "                                    'n/a'} - `));\n",
              "    const percent = span('0% done');\n",
              "    li.appendChild(percent);\n",
              "\n",
              "    outputElement.appendChild(li);\n",
              "\n",
              "    const fileDataPromise = new Promise((resolve) => {\n",
              "      const reader = new FileReader();\n",
              "      reader.onload = (e) => {\n",
              "        resolve(e.target.result);\n",
              "      };\n",
              "      reader.readAsArrayBuffer(file);\n",
              "    });\n",
              "    // Wait for the data to be ready.\n",
              "    let fileData = yield {\n",
              "      promise: fileDataPromise,\n",
              "      response: {\n",
              "        action: 'continue',\n",
              "      }\n",
              "    };\n",
              "\n",
              "    // Use a chunked sending to avoid message size limits. See b/62115660.\n",
              "    let position = 0;\n",
              "    do {\n",
              "      const length = Math.min(fileData.byteLength - position, MAX_PAYLOAD_SIZE);\n",
              "      const chunk = new Uint8Array(fileData, position, length);\n",
              "      position += length;\n",
              "\n",
              "      const base64 = btoa(String.fromCharCode.apply(null, chunk));\n",
              "      yield {\n",
              "        response: {\n",
              "          action: 'append',\n",
              "          file: file.name,\n",
              "          data: base64,\n",
              "        },\n",
              "      };\n",
              "\n",
              "      let percentDone = fileData.byteLength === 0 ?\n",
              "          100 :\n",
              "          Math.round((position / fileData.byteLength) * 100);\n",
              "      percent.textContent = `${percentDone}% done`;\n",
              "\n",
              "    } while (position < fileData.byteLength);\n",
              "  }\n",
              "\n",
              "  // All done.\n",
              "  yield {\n",
              "    response: {\n",
              "      action: 'complete',\n",
              "    }\n",
              "  };\n",
              "}\n",
              "\n",
              "scope.google = scope.google || {};\n",
              "scope.google.colab = scope.google.colab || {};\n",
              "scope.google.colab._files = {\n",
              "  _uploadFiles,\n",
              "  _uploadFilesContinue,\n",
              "};\n",
              "})(self);\n",
              "</script> "
            ]
          },
          "metadata": {}
        },
        {
          "output_type": "stream",
          "name": "stdout",
          "text": [
            "Saving 4-4-23-ox.txt to 4-4-23-ox (1).txt\n",
            "User uploaded file \"4-4-23-ox (1).txt\" with length 2771 bytes\n"
          ]
        }
      ]
    },
    {
      "cell_type": "markdown",
      "source": [
        "Upload SD file"
      ],
      "metadata": {
        "id": "7QShckX8PdUi"
      },
      "id": "7QShckX8PdUi"
    },
    {
      "cell_type": "code",
      "source": [
        "## COLAB file UPLOAD\n",
        "from google.colab import files\n",
        "uploaded = files.upload()\n",
        "\n",
        "for fnSD in uploaded.keys():\n",
        "  print('User uploaded file \"{name}\" with length {length} bytes'.format(\n",
        "      name=fnSD, length=len(uploaded[fnSD])))"
      ],
      "metadata": {
        "id": "alQkn3iio1yE",
        "colab": {
          "base_uri": "https://localhost:8080/",
          "height": 92
        },
        "outputId": "780eec00-1b02-4dda-c38a-3c2f35bf94fb"
      },
      "id": "alQkn3iio1yE",
      "execution_count": 23,
      "outputs": [
        {
          "output_type": "display_data",
          "data": {
            "text/plain": [
              "<IPython.core.display.HTML object>"
            ],
            "text/html": [
              "\n",
              "     <input type=\"file\" id=\"files-74d9ccee-4206-4850-8bcc-987c774e3013\" name=\"files[]\" multiple disabled\n",
              "        style=\"border:none\" />\n",
              "     <output id=\"result-74d9ccee-4206-4850-8bcc-987c774e3013\">\n",
              "      Upload widget is only available when the cell has been executed in the\n",
              "      current browser session. Please rerun this cell to enable.\n",
              "      </output>\n",
              "      <script>// Copyright 2017 Google LLC\n",
              "//\n",
              "// Licensed under the Apache License, Version 2.0 (the \"License\");\n",
              "// you may not use this file except in compliance with the License.\n",
              "// You may obtain a copy of the License at\n",
              "//\n",
              "//      http://www.apache.org/licenses/LICENSE-2.0\n",
              "//\n",
              "// Unless required by applicable law or agreed to in writing, software\n",
              "// distributed under the License is distributed on an \"AS IS\" BASIS,\n",
              "// WITHOUT WARRANTIES OR CONDITIONS OF ANY KIND, either express or implied.\n",
              "// See the License for the specific language governing permissions and\n",
              "// limitations under the License.\n",
              "\n",
              "/**\n",
              " * @fileoverview Helpers for google.colab Python module.\n",
              " */\n",
              "(function(scope) {\n",
              "function span(text, styleAttributes = {}) {\n",
              "  const element = document.createElement('span');\n",
              "  element.textContent = text;\n",
              "  for (const key of Object.keys(styleAttributes)) {\n",
              "    element.style[key] = styleAttributes[key];\n",
              "  }\n",
              "  return element;\n",
              "}\n",
              "\n",
              "// Max number of bytes which will be uploaded at a time.\n",
              "const MAX_PAYLOAD_SIZE = 100 * 1024;\n",
              "\n",
              "function _uploadFiles(inputId, outputId) {\n",
              "  const steps = uploadFilesStep(inputId, outputId);\n",
              "  const outputElement = document.getElementById(outputId);\n",
              "  // Cache steps on the outputElement to make it available for the next call\n",
              "  // to uploadFilesContinue from Python.\n",
              "  outputElement.steps = steps;\n",
              "\n",
              "  return _uploadFilesContinue(outputId);\n",
              "}\n",
              "\n",
              "// This is roughly an async generator (not supported in the browser yet),\n",
              "// where there are multiple asynchronous steps and the Python side is going\n",
              "// to poll for completion of each step.\n",
              "// This uses a Promise to block the python side on completion of each step,\n",
              "// then passes the result of the previous step as the input to the next step.\n",
              "function _uploadFilesContinue(outputId) {\n",
              "  const outputElement = document.getElementById(outputId);\n",
              "  const steps = outputElement.steps;\n",
              "\n",
              "  const next = steps.next(outputElement.lastPromiseValue);\n",
              "  return Promise.resolve(next.value.promise).then((value) => {\n",
              "    // Cache the last promise value to make it available to the next\n",
              "    // step of the generator.\n",
              "    outputElement.lastPromiseValue = value;\n",
              "    return next.value.response;\n",
              "  });\n",
              "}\n",
              "\n",
              "/**\n",
              " * Generator function which is called between each async step of the upload\n",
              " * process.\n",
              " * @param {string} inputId Element ID of the input file picker element.\n",
              " * @param {string} outputId Element ID of the output display.\n",
              " * @return {!Iterable<!Object>} Iterable of next steps.\n",
              " */\n",
              "function* uploadFilesStep(inputId, outputId) {\n",
              "  const inputElement = document.getElementById(inputId);\n",
              "  inputElement.disabled = false;\n",
              "\n",
              "  const outputElement = document.getElementById(outputId);\n",
              "  outputElement.innerHTML = '';\n",
              "\n",
              "  const pickedPromise = new Promise((resolve) => {\n",
              "    inputElement.addEventListener('change', (e) => {\n",
              "      resolve(e.target.files);\n",
              "    });\n",
              "  });\n",
              "\n",
              "  const cancel = document.createElement('button');\n",
              "  inputElement.parentElement.appendChild(cancel);\n",
              "  cancel.textContent = 'Cancel upload';\n",
              "  const cancelPromise = new Promise((resolve) => {\n",
              "    cancel.onclick = () => {\n",
              "      resolve(null);\n",
              "    };\n",
              "  });\n",
              "\n",
              "  // Wait for the user to pick the files.\n",
              "  const files = yield {\n",
              "    promise: Promise.race([pickedPromise, cancelPromise]),\n",
              "    response: {\n",
              "      action: 'starting',\n",
              "    }\n",
              "  };\n",
              "\n",
              "  cancel.remove();\n",
              "\n",
              "  // Disable the input element since further picks are not allowed.\n",
              "  inputElement.disabled = true;\n",
              "\n",
              "  if (!files) {\n",
              "    return {\n",
              "      response: {\n",
              "        action: 'complete',\n",
              "      }\n",
              "    };\n",
              "  }\n",
              "\n",
              "  for (const file of files) {\n",
              "    const li = document.createElement('li');\n",
              "    li.append(span(file.name, {fontWeight: 'bold'}));\n",
              "    li.append(span(\n",
              "        `(${file.type || 'n/a'}) - ${file.size} bytes, ` +\n",
              "        `last modified: ${\n",
              "            file.lastModifiedDate ? file.lastModifiedDate.toLocaleDateString() :\n",
              "                                    'n/a'} - `));\n",
              "    const percent = span('0% done');\n",
              "    li.appendChild(percent);\n",
              "\n",
              "    outputElement.appendChild(li);\n",
              "\n",
              "    const fileDataPromise = new Promise((resolve) => {\n",
              "      const reader = new FileReader();\n",
              "      reader.onload = (e) => {\n",
              "        resolve(e.target.result);\n",
              "      };\n",
              "      reader.readAsArrayBuffer(file);\n",
              "    });\n",
              "    // Wait for the data to be ready.\n",
              "    let fileData = yield {\n",
              "      promise: fileDataPromise,\n",
              "      response: {\n",
              "        action: 'continue',\n",
              "      }\n",
              "    };\n",
              "\n",
              "    // Use a chunked sending to avoid message size limits. See b/62115660.\n",
              "    let position = 0;\n",
              "    do {\n",
              "      const length = Math.min(fileData.byteLength - position, MAX_PAYLOAD_SIZE);\n",
              "      const chunk = new Uint8Array(fileData, position, length);\n",
              "      position += length;\n",
              "\n",
              "      const base64 = btoa(String.fromCharCode.apply(null, chunk));\n",
              "      yield {\n",
              "        response: {\n",
              "          action: 'append',\n",
              "          file: file.name,\n",
              "          data: base64,\n",
              "        },\n",
              "      };\n",
              "\n",
              "      let percentDone = fileData.byteLength === 0 ?\n",
              "          100 :\n",
              "          Math.round((position / fileData.byteLength) * 100);\n",
              "      percent.textContent = `${percentDone}% done`;\n",
              "\n",
              "    } while (position < fileData.byteLength);\n",
              "  }\n",
              "\n",
              "  // All done.\n",
              "  yield {\n",
              "    response: {\n",
              "      action: 'complete',\n",
              "    }\n",
              "  };\n",
              "}\n",
              "\n",
              "scope.google = scope.google || {};\n",
              "scope.google.colab = scope.google.colab || {};\n",
              "scope.google.colab._files = {\n",
              "  _uploadFiles,\n",
              "  _uploadFilesContinue,\n",
              "};\n",
              "})(self);\n",
              "</script> "
            ]
          },
          "metadata": {}
        },
        {
          "output_type": "stream",
          "name": "stdout",
          "text": [
            "Saving 4-4-23-sd.txt to 4-4-23-sd.txt\n",
            "User uploaded file \"4-4-23-sd.txt\" with length 2795 bytes\n"
          ]
        }
      ]
    },
    {
      "cell_type": "markdown",
      "source": [
        "## Jupyter file Upload NO SE SI USA COLAB!!!\n",
        "\n"
      ],
      "metadata": {
        "id": "Be1sz9lYofF1"
      },
      "id": "Be1sz9lYofF1"
    },
    {
      "cell_type": "code",
      "execution_count": null,
      "id": "bd87507d-9db1-44b5-99aa-6756bb2d40b5",
      "metadata": {
        "tags": [],
        "id": "bd87507d-9db1-44b5-99aa-6756bb2d40b5"
      },
      "outputs": [],
      "source": [
        "uploader=widgets.FileUpload(\n",
        "    accept='*.xlsx',  # Accepted file extension e.g. '.txt', '.pdf', 'image/*', 'image/*,.pdf'\n",
        "    multiple=False  # True to accept multiple files upload else False\n",
        ")"
      ]
    },
    {
      "cell_type": "code",
      "execution_count": null,
      "id": "31b247a9-dc75-44ad-908c-7ba36ee761f4",
      "metadata": {
        "tags": [],
        "id": "31b247a9-dc75-44ad-908c-7ba36ee761f4"
      },
      "outputs": [],
      "source": [
        "uploader"
      ]
    },
    {
      "cell_type": "code",
      "execution_count": null,
      "id": "2163c347-e5c8-4302-a412-19d535060709",
      "metadata": {
        "tags": [],
        "id": "2163c347-e5c8-4302-a412-19d535060709"
      },
      "outputs": [],
      "source": [
        "uploader.value[0]\n",
        "uploaded_file = uploader.value[0]\n",
        "data=read_excel(io.BytesIO(uploaded_file.content))"
      ]
    },
    {
      "cell_type": "markdown",
      "id": "0cab7764-b4aa-481a-8f07-e5b112f75ef1",
      "metadata": {
        "id": "0cab7764-b4aa-481a-8f07-e5b112f75ef1"
      },
      "source": [
        "## RUN"
      ]
    },
    {
      "cell_type": "code",
      "execution_count": 24,
      "id": "edf06771-c570-496d-b73b-13f061b7d7f2",
      "metadata": {
        "tags": [],
        "id": "edf06771-c570-496d-b73b-13f061b7d7f2",
        "colab": {
          "base_uri": "https://localhost:8080/"
        },
        "outputId": "1b47be38-a2db-47a9-8104-0a840bae45ac"
      },
      "outputs": [
        {
          "output_type": "stream",
          "name": "stdout",
          "text": [
            "        No.    Na2O  Al2O3    TiO2     MnO      K2O      MgO   SiO2   Cr2O3  \\\n",
            "0       1    0.1180  16.63  5.7000  0.0826   9.9400  11.7600  36.75  0.0426   \n",
            "1       2    0.1750  16.80  5.4600  0.0000   9.8300  11.7600  36.80  0.0077   \n",
            "2       3    0.0891  16.45  5.2100  0.0154   9.9800  11.9900  36.52  0.0407   \n",
            "3       4    0.1076  16.86  5.7300  0.0000   9.8300  12.1500  36.58  0.0299   \n",
            "4       5    0.1128  16.89  5.6400  0.0505   9.9800  12.2100  36.56  0.0000   \n",
            "5       6    6.2300  27.38  0.0103  0.0030   0.2975   0.0108  56.71  0.0303   \n",
            "6       7    6.0400  27.70  0.0000  0.0105   0.3111   0.0000  56.41  0.0040   \n",
            "7       8    0.1201  16.43  6.7000  0.0731   9.7300  10.8300  36.62  0.0379   \n",
            "8       9    1.2062  18.58  0.0559  0.0157  14.5800   0.0029  64.50  0.0137   \n",
            "9      10    0.8196  18.96  0.0647  0.0022  15.2800   0.0181  63.82  0.0000   \n",
            "10     11    0.0972  16.25  5.5000  0.0000   9.8200  12.3200  36.56  0.0000   \n",
            "11     12    0.1061  16.46  5.2400  0.0782   9.7900  12.5600  36.26  0.0000   \n",
            "12     13    0.0000  20.82  0.0592  0.0552   0.1688  17.8900  27.81  0.0711   \n",
            "13     14    0.1249  16.48  4.8100  0.0000   9.7200  12.3100  36.15  0.0526   \n",
            "14     15    0.0794  16.39  5.4000  0.0556   9.8700  12.5200  36.47  0.0000   \n",
            "15     16    0.0561  16.32  5.3900  0.0161   9.8100  12.2500  36.07  0.0115   \n",
            "\n",
            "        FeO     CaO     Total     Comment  \n",
            "0   16.0000  0.0000   97.0233   MF2078-1   \n",
            "1   15.8300  0.0000   96.6628   MF2078-2   \n",
            "2   16.7400  0.0000   97.0353   MF2078-3   \n",
            "3   15.2100  0.0243   96.5219   MF2078-4   \n",
            "4   15.3700  0.0000   96.8134   MF2078-5   \n",
            "5    0.0611  9.4500  100.1829   MF2078-6   \n",
            "6    0.1360  9.9800  100.5915   MF2078-7   \n",
            "7   16.8900  0.0282   97.4594   MF2078-8   \n",
            "8    0.2287  0.0623   99.2455   MF2078-9   \n",
            "9    0.3085  0.0348   99.3080  MF2078-10   \n",
            "10  16.1100  0.0170   96.6742  MF2078-11   \n",
            "11  16.2100  0.0000   96.7043  MF2078-12   \n",
            "12  22.7400  0.0000   89.6143  MF2078-13   \n",
            "13  15.9700  0.0000   95.6176  MF2078-14   \n",
            "14  15.7800  0.0000   96.5651  MF2078-15   \n",
            "15  16.1800  0.0053   96.1091  MF2078-16   \n",
            "        No.      Na    Al      Ti       Mn     K      Mg    Si      Cr     Fe  \\\n",
            "0       1     27.61  0.69    1.66    35.30  0.64    0.97  0.46   79.03   0.95   \n",
            "1       2     16.81  0.69    1.70   100.00  0.64    0.97  0.45  454.94   0.96   \n",
            "2       3     36.03  0.70    1.74   201.86  0.64    0.96  0.46   86.73   0.93   \n",
            "3       4     30.23  0.69    1.65   100.00  0.64    0.95  0.46  116.75   0.98   \n",
            "4       5     29.04  0.69    1.68    57.30  0.64    0.95  0.46  100.00   0.97   \n",
            "5       6      1.72  0.50  283.20   916.71  4.88  167.04  0.36  112.52  45.27   \n",
            "6       7      1.76  0.50  100.00   244.46  4.60  100.00  0.36  865.13  22.96   \n",
            "7       8     29.03  0.70    1.52    43.70  0.64    1.01  0.46   93.65   0.93   \n",
            "8       9      4.39  0.61   55.20   176.70  0.53  572.47  0.33  244.10  14.74   \n",
            "9      10      5.50  0.60   48.85  1193.03  0.52   87.60  0.33  100.00  11.81   \n",
            "10     11     34.82  0.70    1.67   100.00  0.64    0.95  0.46  100.00   0.95   \n",
            "11     12     33.03  0.70    1.73    36.43  0.64    0.94  0.46  100.00   0.94   \n",
            "12     13    100.00  0.64   52.79    51.99  7.41    0.80  0.54   44.02   0.79   \n",
            "13     14     24.75  0.70    1.85   100.00  0.65    0.95  0.46   64.31   0.95   \n",
            "14     15     39.14  0.70    1.70    52.98  0.64    0.94  0.46  100.00   0.96   \n",
            "15     16     61.99  0.70    1.71   181.88  0.64    0.95  0.46  301.21   0.95   \n",
            "\n",
            "        Ca    Total     Comment  \n",
            "0   100.00   247.31   MF2078-1   \n",
            "1   100.00   677.16   MF2078-2   \n",
            "2   100.00   430.05   MF2078-3   \n",
            "3    53.89   306.24   MF2078-4   \n",
            "4   100.00   291.73   MF2078-5   \n",
            "5     0.64  1532.84   MF2078-6   \n",
            "6     0.62  1340.39   MF2078-7   \n",
            "7    46.76   218.40   MF2078-8   \n",
            "8    22.14  1091.21   MF2078-9   \n",
            "9    36.24  1484.48  MF2078-10   \n",
            "10   77.56   317.75  MF2078-11   \n",
            "11  100.00   274.87  MF2078-12   \n",
            "12  100.00   358.98  MF2078-13   \n",
            "13  100.00   294.62  MF2078-14   \n",
            "14  100.00   297.52  MF2078-15   \n",
            "15  248.39   798.88  MF2078-16   \n",
            "Index(['No.', 'Na2O', 'Al2O3', 'TiO2', 'MnO', 'K2O', 'MgO', 'SiO2', 'Cr2O3',\n",
            "       'FeO', 'CaO', 'Total', 'Comment'],\n",
            "      dtype='object')\n",
            "Index(['No.', 'Na', 'Al', 'Ti', 'Mn', 'K', 'Mg', 'Si', 'Cr', 'Fe', 'Ca',\n",
            "       'Total', 'Comment'],\n",
            "      dtype='object')\n"
          ]
        }
      ],
      "source": [
        "#fnOX='/Users/miki/Dropbox/Mac/Downloads/9-3-23-ox.txt'\n",
        "#fnSD='/Users/miki/Dropbox/Mac/Downloads/9-3-23-SD.txt'\n",
        "\n",
        "with open(fnOX, 'r') as file:\n",
        "    lines = file.readlines()\n",
        "\n",
        "specific_text = 'Mass percent'\n",
        "if any(line.startswith(specific_text) for line in lines):\n",
        "  OX = read_csv(fnOX, sep='\\t',skiprows=3)[:-5]\n",
        "else:\n",
        "  OX = read_csv(fnOX, sep='\\t')\n",
        "\n",
        "with open(fnSD, 'r') as file:\n",
        "    lines = file.readlines()\n",
        "\n",
        "specific_text = 'Counting error(%)'\n",
        "if any(line.startswith(specific_text) for line in lines):\n",
        "  SD = read_csv(fnSD, sep='\\t',skiprows=3)[:-5]\n",
        "else:\n",
        "  SD = read_csv(fnSD, sep='\\t')\n",
        "\n",
        "\n",
        "\n",
        "#fnSummary='/Users/miki/Dropbox/Development/MLMachineLearning/pythonML/ML_test2023/minerals/testSD/4-4-23.txt'\n",
        "#OX = read_csv(fnOX, sep='\\t', skiprows=2, skipfooter=5, engine='python') #engine='python'\n",
        "#OX = read_csv(fnOX)\n",
        "#OX = read_csv(fnOX, skiprows=2, sep='\\t')[:-5]\n",
        "#SD = read_csv(fnSD, skiprows=2, sep='\\t')[:-5]\n",
        "#OX = read_csv(fnOX, sep='\\t',skiprows=3)[:-5]\n",
        "#SD = read_csv(fnSD, sep='\\t',skiprows=3)[:-5]\n",
        "#OX = read_csv(fnOX, sep='\\t', skiprows=[1])\n",
        "#SD = read_csv(fnSD, sep='\\t')\n",
        "\n",
        "## remove UNWANTED spaces COLUMNS\n",
        "OX.columns = OX.columns.str.strip()\n",
        "SD.columns = SD.columns.str.strip()\n",
        "\n",
        "print(OX)\n",
        "print(SD)\n",
        "#print(OX.columns)\n",
        "#OX.rename(columns=lambda x: x.replace(' ', ''), inplace=True)\n",
        "print(OX.columns)\n",
        "#print(SD.columns)\n",
        "#SD.rename(columns=lambda x: x.replace(' ', ''), inplace=True)\n",
        "print(SD.columns)"
      ]
    },
    {
      "cell_type": "code",
      "execution_count": 25,
      "id": "3c98c018-e14d-437c-bf49-1583fc9c6c1a",
      "metadata": {
        "tags": [],
        "id": "3c98c018-e14d-437c-bf49-1583fc9c6c1a",
        "colab": {
          "base_uri": "https://localhost:8080/",
          "height": 206
        },
        "outputId": "c84a3f8b-212a-4ce4-c723-24daa70fc01f"
      },
      "outputs": [
        {
          "output_type": "execute_result",
          "data": {
            "text/plain": [
              "       No.    Na2O  Al2O3  TiO2     MnO   K2O    MgO   SiO2   Cr2O3    FeO  \\\n",
              "0      1    0.1180  16.63  5.70  0.0826  9.94  11.76  36.75  0.0426  16.00   \n",
              "1      2    0.1750  16.80  5.46  0.0000  9.83  11.76  36.80  0.0077  15.83   \n",
              "2      3    0.0891  16.45  5.21  0.0154  9.98  11.99  36.52  0.0407  16.74   \n",
              "3      4    0.1076  16.86  5.73  0.0000  9.83  12.15  36.58  0.0299  15.21   \n",
              "4      5    0.1128  16.89  5.64  0.0505  9.98  12.21  36.56  0.0000  15.37   \n",
              "\n",
              "      CaO    Total    Comment  \n",
              "0  0.0000  97.0233  MF2078-1   \n",
              "1  0.0000  96.6628  MF2078-2   \n",
              "2  0.0000  97.0353  MF2078-3   \n",
              "3  0.0243  96.5219  MF2078-4   \n",
              "4  0.0000  96.8134  MF2078-5   "
            ],
            "text/html": [
              "\n",
              "  <div id=\"df-008c89f7-7553-4499-94a9-e3fcf395d083\" class=\"colab-df-container\">\n",
              "    <div>\n",
              "<style scoped>\n",
              "    .dataframe tbody tr th:only-of-type {\n",
              "        vertical-align: middle;\n",
              "    }\n",
              "\n",
              "    .dataframe tbody tr th {\n",
              "        vertical-align: top;\n",
              "    }\n",
              "\n",
              "    .dataframe thead th {\n",
              "        text-align: right;\n",
              "    }\n",
              "</style>\n",
              "<table border=\"1\" class=\"dataframe\">\n",
              "  <thead>\n",
              "    <tr style=\"text-align: right;\">\n",
              "      <th></th>\n",
              "      <th>No.</th>\n",
              "      <th>Na2O</th>\n",
              "      <th>Al2O3</th>\n",
              "      <th>TiO2</th>\n",
              "      <th>MnO</th>\n",
              "      <th>K2O</th>\n",
              "      <th>MgO</th>\n",
              "      <th>SiO2</th>\n",
              "      <th>Cr2O3</th>\n",
              "      <th>FeO</th>\n",
              "      <th>CaO</th>\n",
              "      <th>Total</th>\n",
              "      <th>Comment</th>\n",
              "    </tr>\n",
              "  </thead>\n",
              "  <tbody>\n",
              "    <tr>\n",
              "      <th>0</th>\n",
              "      <td>1</td>\n",
              "      <td>0.1180</td>\n",
              "      <td>16.63</td>\n",
              "      <td>5.70</td>\n",
              "      <td>0.0826</td>\n",
              "      <td>9.94</td>\n",
              "      <td>11.76</td>\n",
              "      <td>36.75</td>\n",
              "      <td>0.0426</td>\n",
              "      <td>16.00</td>\n",
              "      <td>0.0000</td>\n",
              "      <td>97.0233</td>\n",
              "      <td>MF2078-1</td>\n",
              "    </tr>\n",
              "    <tr>\n",
              "      <th>1</th>\n",
              "      <td>2</td>\n",
              "      <td>0.1750</td>\n",
              "      <td>16.80</td>\n",
              "      <td>5.46</td>\n",
              "      <td>0.0000</td>\n",
              "      <td>9.83</td>\n",
              "      <td>11.76</td>\n",
              "      <td>36.80</td>\n",
              "      <td>0.0077</td>\n",
              "      <td>15.83</td>\n",
              "      <td>0.0000</td>\n",
              "      <td>96.6628</td>\n",
              "      <td>MF2078-2</td>\n",
              "    </tr>\n",
              "    <tr>\n",
              "      <th>2</th>\n",
              "      <td>3</td>\n",
              "      <td>0.0891</td>\n",
              "      <td>16.45</td>\n",
              "      <td>5.21</td>\n",
              "      <td>0.0154</td>\n",
              "      <td>9.98</td>\n",
              "      <td>11.99</td>\n",
              "      <td>36.52</td>\n",
              "      <td>0.0407</td>\n",
              "      <td>16.74</td>\n",
              "      <td>0.0000</td>\n",
              "      <td>97.0353</td>\n",
              "      <td>MF2078-3</td>\n",
              "    </tr>\n",
              "    <tr>\n",
              "      <th>3</th>\n",
              "      <td>4</td>\n",
              "      <td>0.1076</td>\n",
              "      <td>16.86</td>\n",
              "      <td>5.73</td>\n",
              "      <td>0.0000</td>\n",
              "      <td>9.83</td>\n",
              "      <td>12.15</td>\n",
              "      <td>36.58</td>\n",
              "      <td>0.0299</td>\n",
              "      <td>15.21</td>\n",
              "      <td>0.0243</td>\n",
              "      <td>96.5219</td>\n",
              "      <td>MF2078-4</td>\n",
              "    </tr>\n",
              "    <tr>\n",
              "      <th>4</th>\n",
              "      <td>5</td>\n",
              "      <td>0.1128</td>\n",
              "      <td>16.89</td>\n",
              "      <td>5.64</td>\n",
              "      <td>0.0505</td>\n",
              "      <td>9.98</td>\n",
              "      <td>12.21</td>\n",
              "      <td>36.56</td>\n",
              "      <td>0.0000</td>\n",
              "      <td>15.37</td>\n",
              "      <td>0.0000</td>\n",
              "      <td>96.8134</td>\n",
              "      <td>MF2078-5</td>\n",
              "    </tr>\n",
              "  </tbody>\n",
              "</table>\n",
              "</div>\n",
              "    <div class=\"colab-df-buttons\">\n",
              "\n",
              "  <div class=\"colab-df-container\">\n",
              "    <button class=\"colab-df-convert\" onclick=\"convertToInteractive('df-008c89f7-7553-4499-94a9-e3fcf395d083')\"\n",
              "            title=\"Convert this dataframe to an interactive table.\"\n",
              "            style=\"display:none;\">\n",
              "\n",
              "  <svg xmlns=\"http://www.w3.org/2000/svg\" height=\"24px\" viewBox=\"0 -960 960 960\">\n",
              "    <path d=\"M120-120v-720h720v720H120Zm60-500h600v-160H180v160Zm220 220h160v-160H400v160Zm0 220h160v-160H400v160ZM180-400h160v-160H180v160Zm440 0h160v-160H620v160ZM180-180h160v-160H180v160Zm440 0h160v-160H620v160Z\"/>\n",
              "  </svg>\n",
              "    </button>\n",
              "\n",
              "  <style>\n",
              "    .colab-df-container {\n",
              "      display:flex;\n",
              "      gap: 12px;\n",
              "    }\n",
              "\n",
              "    .colab-df-convert {\n",
              "      background-color: #E8F0FE;\n",
              "      border: none;\n",
              "      border-radius: 50%;\n",
              "      cursor: pointer;\n",
              "      display: none;\n",
              "      fill: #1967D2;\n",
              "      height: 32px;\n",
              "      padding: 0 0 0 0;\n",
              "      width: 32px;\n",
              "    }\n",
              "\n",
              "    .colab-df-convert:hover {\n",
              "      background-color: #E2EBFA;\n",
              "      box-shadow: 0px 1px 2px rgba(60, 64, 67, 0.3), 0px 1px 3px 1px rgba(60, 64, 67, 0.15);\n",
              "      fill: #174EA6;\n",
              "    }\n",
              "\n",
              "    .colab-df-buttons div {\n",
              "      margin-bottom: 4px;\n",
              "    }\n",
              "\n",
              "    [theme=dark] .colab-df-convert {\n",
              "      background-color: #3B4455;\n",
              "      fill: #D2E3FC;\n",
              "    }\n",
              "\n",
              "    [theme=dark] .colab-df-convert:hover {\n",
              "      background-color: #434B5C;\n",
              "      box-shadow: 0px 1px 3px 1px rgba(0, 0, 0, 0.15);\n",
              "      filter: drop-shadow(0px 1px 2px rgba(0, 0, 0, 0.3));\n",
              "      fill: #FFFFFF;\n",
              "    }\n",
              "  </style>\n",
              "\n",
              "    <script>\n",
              "      const buttonEl =\n",
              "        document.querySelector('#df-008c89f7-7553-4499-94a9-e3fcf395d083 button.colab-df-convert');\n",
              "      buttonEl.style.display =\n",
              "        google.colab.kernel.accessAllowed ? 'block' : 'none';\n",
              "\n",
              "      async function convertToInteractive(key) {\n",
              "        const element = document.querySelector('#df-008c89f7-7553-4499-94a9-e3fcf395d083');\n",
              "        const dataTable =\n",
              "          await google.colab.kernel.invokeFunction('convertToInteractive',\n",
              "                                                    [key], {});\n",
              "        if (!dataTable) return;\n",
              "\n",
              "        const docLinkHtml = 'Like what you see? Visit the ' +\n",
              "          '<a target=\"_blank\" href=https://colab.research.google.com/notebooks/data_table.ipynb>data table notebook</a>'\n",
              "          + ' to learn more about interactive tables.';\n",
              "        element.innerHTML = '';\n",
              "        dataTable['output_type'] = 'display_data';\n",
              "        await google.colab.output.renderOutput(dataTable, element);\n",
              "        const docLink = document.createElement('div');\n",
              "        docLink.innerHTML = docLinkHtml;\n",
              "        element.appendChild(docLink);\n",
              "      }\n",
              "    </script>\n",
              "  </div>\n",
              "\n",
              "\n",
              "<div id=\"df-693fb025-7e44-4240-a52e-78c8d428a89c\">\n",
              "  <button class=\"colab-df-quickchart\" onclick=\"quickchart('df-693fb025-7e44-4240-a52e-78c8d428a89c')\"\n",
              "            title=\"Suggest charts\"\n",
              "            style=\"display:none;\">\n",
              "\n",
              "<svg xmlns=\"http://www.w3.org/2000/svg\" height=\"24px\"viewBox=\"0 0 24 24\"\n",
              "     width=\"24px\">\n",
              "    <g>\n",
              "        <path d=\"M19 3H5c-1.1 0-2 .9-2 2v14c0 1.1.9 2 2 2h14c1.1 0 2-.9 2-2V5c0-1.1-.9-2-2-2zM9 17H7v-7h2v7zm4 0h-2V7h2v10zm4 0h-2v-4h2v4z\"/>\n",
              "    </g>\n",
              "</svg>\n",
              "  </button>\n",
              "\n",
              "<style>\n",
              "  .colab-df-quickchart {\n",
              "      --bg-color: #E8F0FE;\n",
              "      --fill-color: #1967D2;\n",
              "      --hover-bg-color: #E2EBFA;\n",
              "      --hover-fill-color: #174EA6;\n",
              "      --disabled-fill-color: #AAA;\n",
              "      --disabled-bg-color: #DDD;\n",
              "  }\n",
              "\n",
              "  [theme=dark] .colab-df-quickchart {\n",
              "      --bg-color: #3B4455;\n",
              "      --fill-color: #D2E3FC;\n",
              "      --hover-bg-color: #434B5C;\n",
              "      --hover-fill-color: #FFFFFF;\n",
              "      --disabled-bg-color: #3B4455;\n",
              "      --disabled-fill-color: #666;\n",
              "  }\n",
              "\n",
              "  .colab-df-quickchart {\n",
              "    background-color: var(--bg-color);\n",
              "    border: none;\n",
              "    border-radius: 50%;\n",
              "    cursor: pointer;\n",
              "    display: none;\n",
              "    fill: var(--fill-color);\n",
              "    height: 32px;\n",
              "    padding: 0;\n",
              "    width: 32px;\n",
              "  }\n",
              "\n",
              "  .colab-df-quickchart:hover {\n",
              "    background-color: var(--hover-bg-color);\n",
              "    box-shadow: 0 1px 2px rgba(60, 64, 67, 0.3), 0 1px 3px 1px rgba(60, 64, 67, 0.15);\n",
              "    fill: var(--button-hover-fill-color);\n",
              "  }\n",
              "\n",
              "  .colab-df-quickchart-complete:disabled,\n",
              "  .colab-df-quickchart-complete:disabled:hover {\n",
              "    background-color: var(--disabled-bg-color);\n",
              "    fill: var(--disabled-fill-color);\n",
              "    box-shadow: none;\n",
              "  }\n",
              "\n",
              "  .colab-df-spinner {\n",
              "    border: 2px solid var(--fill-color);\n",
              "    border-color: transparent;\n",
              "    border-bottom-color: var(--fill-color);\n",
              "    animation:\n",
              "      spin 1s steps(1) infinite;\n",
              "  }\n",
              "\n",
              "  @keyframes spin {\n",
              "    0% {\n",
              "      border-color: transparent;\n",
              "      border-bottom-color: var(--fill-color);\n",
              "      border-left-color: var(--fill-color);\n",
              "    }\n",
              "    20% {\n",
              "      border-color: transparent;\n",
              "      border-left-color: var(--fill-color);\n",
              "      border-top-color: var(--fill-color);\n",
              "    }\n",
              "    30% {\n",
              "      border-color: transparent;\n",
              "      border-left-color: var(--fill-color);\n",
              "      border-top-color: var(--fill-color);\n",
              "      border-right-color: var(--fill-color);\n",
              "    }\n",
              "    40% {\n",
              "      border-color: transparent;\n",
              "      border-right-color: var(--fill-color);\n",
              "      border-top-color: var(--fill-color);\n",
              "    }\n",
              "    60% {\n",
              "      border-color: transparent;\n",
              "      border-right-color: var(--fill-color);\n",
              "    }\n",
              "    80% {\n",
              "      border-color: transparent;\n",
              "      border-right-color: var(--fill-color);\n",
              "      border-bottom-color: var(--fill-color);\n",
              "    }\n",
              "    90% {\n",
              "      border-color: transparent;\n",
              "      border-bottom-color: var(--fill-color);\n",
              "    }\n",
              "  }\n",
              "</style>\n",
              "\n",
              "  <script>\n",
              "    async function quickchart(key) {\n",
              "      const quickchartButtonEl =\n",
              "        document.querySelector('#' + key + ' button');\n",
              "      quickchartButtonEl.disabled = true;  // To prevent multiple clicks.\n",
              "      quickchartButtonEl.classList.add('colab-df-spinner');\n",
              "      try {\n",
              "        const charts = await google.colab.kernel.invokeFunction(\n",
              "            'suggestCharts', [key], {});\n",
              "      } catch (error) {\n",
              "        console.error('Error during call to suggestCharts:', error);\n",
              "      }\n",
              "      quickchartButtonEl.classList.remove('colab-df-spinner');\n",
              "      quickchartButtonEl.classList.add('colab-df-quickchart-complete');\n",
              "    }\n",
              "    (() => {\n",
              "      let quickchartButtonEl =\n",
              "        document.querySelector('#df-693fb025-7e44-4240-a52e-78c8d428a89c button');\n",
              "      quickchartButtonEl.style.display =\n",
              "        google.colab.kernel.accessAllowed ? 'block' : 'none';\n",
              "    })();\n",
              "  </script>\n",
              "</div>\n",
              "    </div>\n",
              "  </div>\n"
            ]
          },
          "metadata": {},
          "execution_count": 25
        }
      ],
      "source": [
        "OX.head()"
      ]
    },
    {
      "cell_type": "code",
      "source": [
        "OX.columns"
      ],
      "metadata": {
        "id": "0ZRRd556Jhgp",
        "outputId": "ec6c1445-a7a6-46ab-a7a7-c1e866d66482",
        "colab": {
          "base_uri": "https://localhost:8080/"
        }
      },
      "id": "0ZRRd556Jhgp",
      "execution_count": 26,
      "outputs": [
        {
          "output_type": "execute_result",
          "data": {
            "text/plain": [
              "Index(['No.', 'Na2O', 'Al2O3', 'TiO2', 'MnO', 'K2O', 'MgO', 'SiO2', 'Cr2O3',\n",
              "       'FeO', 'CaO', 'Total', 'Comment'],\n",
              "      dtype='object')"
            ]
          },
          "metadata": {},
          "execution_count": 26
        }
      ]
    },
    {
      "cell_type": "code",
      "execution_count": null,
      "id": "4d1477db-5cbe-4940-889b-a11ce2ef22fa",
      "metadata": {
        "tags": [],
        "id": "4d1477db-5cbe-4940-889b-a11ce2ef22fa"
      },
      "outputs": [],
      "source": [
        "SD.head()"
      ]
    },
    {
      "cell_type": "code",
      "execution_count": 29,
      "id": "25944679-aac4-4a52-aa3e-99b2d8d054bf",
      "metadata": {
        "tags": [],
        "id": "25944679-aac4-4a52-aa3e-99b2d8d054bf",
        "colab": {
          "base_uri": "https://localhost:8080/",
          "height": 472
        },
        "outputId": "2de9f7e6-1c75-46e8-9521-10287f1d5dcb"
      },
      "outputs": [
        {
          "output_type": "display_data",
          "data": {
            "text/plain": [
              "<Figure size 640x480 with 1 Axes>"
            ],
            "image/png": "[encoded data removed]"
          },
          "metadata": {}
        }
      ],
      "source": [
        "## kjkajkja\n",
        "plt.scatter(OX.SiO2, SD.Si, label='Si', color='blue')\n",
        "plt.scatter(OX.Al2O3, SD.Al, label='Al', color='red')\n",
        "plt.scatter(OX.MnO, SD.Mn, label='Mn', color='yellow')\n",
        "plt.scatter(OX.FeO, SD.Fe, label='Fe', color='black')\n",
        "#plt.scatter(OX.Na2O, SD.Na, label='Na', color='orange')\n",
        "#plt.scatter(OX.TiO2, SD.Ti, label='Ti', color='black', marker='s')\n",
        "\n",
        "#plt.scatter(df1['X'], df1['Y'], label='DataFrame 1', color='blue')\n",
        "\n",
        "# Adding labels and title\n",
        "plt.ylabel('SD %')\n",
        "plt.xlabel('Ox wt%')\n",
        "plt.title('Scatter Plot from Different DataFrames')\n",
        "#plt.xlim(0, 100)\n",
        "#plt.ylim(0, 100)\n",
        "# Adding legend\n",
        "plt.legend()\n",
        "\n",
        "plt.show()"
      ]
    },
    {
      "cell_type": "code",
      "execution_count": null,
      "id": "72e79453-93b6-47d4-a6d7-ff6d8a308269",
      "metadata": {
        "tags": [],
        "id": "72e79453-93b6-47d4-a6d7-ff6d8a308269"
      },
      "outputs": [],
      "source": [
        "data.head(3)\n",
        "data.tail(3)\n",
        "data.index\n",
        "data.columns\n"
      ]
    },
    {
      "cell_type": "code",
      "execution_count": null,
      "id": "c8b82181-fe50-4350-8878-cbed209f4502",
      "metadata": {
        "tags": [],
        "id": "c8b82181-fe50-4350-8878-cbed209f4502"
      },
      "outputs": [],
      "source": [
        "#data = read_excel(infile)\n",
        "#\n",
        "data['Mineral'].unique()\n",
        "data[data['Mineral']==\"grt\"].plot()\n",
        "plt.show()"
      ]
    },
    {
      "cell_type": "code",
      "execution_count": null,
      "id": "3b59a9ba-8ebb-488e-baae-381a259e0e85",
      "metadata": {
        "tags": [],
        "id": "3b59a9ba-8ebb-488e-baae-381a259e0e85"
      },
      "outputs": [],
      "source": [
        "data.to_numpy()"
      ]
    },
    {
      "cell_type": "markdown",
      "id": "85d55316-a00c-403c-84e7-a132b7d2123d",
      "metadata": {
        "id": "85d55316-a00c-403c-84e7-a132b7d2123d"
      },
      "source": [
        "## UPLOAD REFERENCE FILE"
      ]
    },
    {
      "cell_type": "code",
      "execution_count": null,
      "id": "62a88155-f49b-44c4-afd4-c30ca1f279d0",
      "metadata": {
        "tags": [],
        "id": "62a88155-f49b-44c4-afd4-c30ca1f279d0"
      },
      "outputs": [],
      "source": [
        "#infile = '/Users/miki/Dropbox/Development/MLMachineLearning/pythonML/ML_test2023/minerals/test_minerals_ML.xlsx'\n",
        "#reference= '/Users/miki/Dropbox/Development/MLMachineLearning/pythonML/ML_test2023/minerals/QMIN_ALLminerals.xlsx'\n",
        "reference= '/Users/miki/Dropbox/Development/MLMachineLearning/pythonML/QMineral_Modeller-master/data_input/minerals_balanced.csv'\n",
        "#referenceGRT= '/Users/miki/Dropbox/Development/MLMachineLearning/pythonML/ML_test2023/minerals/garnet_model.xlsx'"
      ]
    },
    {
      "cell_type": "code",
      "execution_count": null,
      "id": "cfe0c160-8df7-48d2-b36d-3c99ef2ec5aa",
      "metadata": {
        "tags": [],
        "id": "cfe0c160-8df7-48d2-b36d-3c99ef2ec5aa"
      },
      "outputs": [],
      "source": [
        "#data_REF = read_excel(reference)\n",
        "data_REF = read_csv(reference)\n",
        "print(data_REF.shape)"
      ]
    },
    {
      "cell_type": "code",
      "execution_count": null,
      "id": "ecba6e82-56fd-4d5e-8abc-a775c3b0ce8f",
      "metadata": {
        "tags": [],
        "id": "ecba6e82-56fd-4d5e-8abc-a775c3b0ce8f"
      },
      "outputs": [],
      "source": [
        "data_REF.head(3)\n",
        "#data_REF.tail(5)\n",
        "#data_REF[\"GROUP\"].unique()\n",
        "\n",
        "#dataGRT.plot()\n",
        "#plt.show()\n",
        "#data_REF[\"TOTAL\"].head(3)\n",
        "#data_REF[\"TOTAL\"].describe()"
      ]
    },
    {
      "cell_type": "code",
      "execution_count": null,
      "id": "8d6b516f-fab1-48e8-894d-ed6c4885e641",
      "metadata": {
        "tags": [],
        "id": "8d6b516f-fab1-48e8-894d-ed6c4885e641"
      },
      "outputs": [],
      "source": [
        "#data_REF.plot()\n",
        "data_REF[data_REF[\"GROUP\"]==\"GARNET\"].shape\n",
        "data_REF[data_REF[\"GROUP\"]==\"GARNET\"].head()\n",
        "#data_REF[data_REF[\"GROUP\"]==\"GARNET\"]."
      ]
    },
    {
      "cell_type": "code",
      "execution_count": null,
      "id": "9bf868e5-da63-4053-922f-3a4a43824bb7",
      "metadata": {
        "tags": [],
        "id": "9bf868e5-da63-4053-922f-3a4a43824bb7"
      },
      "outputs": [],
      "source": [
        "#data_REF[data_REF[\"GROUP\"]==\"GARNET\"].plot(x=\"SOMA\", y=[\"SIO2\", \"MGO\",\"AL2O3\"])\n",
        "#data_REF[data_REF[\"GROUP\"]==\"GARNET\"].plot(kind=\"scatter\",x=\"SOMA\", y=\"SIO2\")\n",
        "#data_REF[data_REF[\"GROUP\"]==\"GARNET\"].to_excel('GARNET.xlsx')\n",
        "#plt.show()\n",
        "sum = data_REF[data_REF[\"GROUP\"]==\"GARNET\"].iloc[:,7:-2].astype(float).sum(axis=1)\n",
        "sum"
      ]
    },
    {
      "cell_type": "code",
      "execution_count": null,
      "id": "96616a8a-58ac-402f-9812-790ea698fb02",
      "metadata": {
        "tags": [],
        "id": "96616a8a-58ac-402f-9812-790ea698fb02"
      },
      "outputs": [],
      "source": [
        "data_REF.head(3)\n",
        "data_REF[\"SOMA\"].describe()"
      ]
    },
    {
      "cell_type": "code",
      "execution_count": null,
      "id": "3ea25b72-3e20-4ac6-befb-565d451904e9",
      "metadata": {
        "tags": [],
        "id": "3ea25b72-3e20-4ac6-befb-565d451904e9"
      },
      "outputs": [],
      "source": [
        "sns.scatterplot( x=data_REF[\"SOMA\"], y=data_REF[\"SIO2\"])\n",
        "plt.show()\n",
        "data_REF[\"SOMA\"].describe()"
      ]
    },
    {
      "cell_type": "code",
      "execution_count": null,
      "id": "951776d7-739b-474f-a83e-a7d21dbf8916",
      "metadata": {
        "tags": [],
        "id": "951776d7-739b-474f-a83e-a7d21dbf8916"
      },
      "outputs": [],
      "source": [
        "data_REF[\"GROUP\"].unique()"
      ]
    },
    {
      "cell_type": "code",
      "execution_count": null,
      "id": "68c211f8-9d50-4369-9dfa-e45572cf4ab6",
      "metadata": {
        "tags": [],
        "id": "68c211f8-9d50-4369-9dfa-e45572cf4ab6"
      },
      "outputs": [],
      "source": [
        "data_REF[data_REF['GROUP']==\"GARNET\"].size"
      ]
    },
    {
      "cell_type": "code",
      "execution_count": null,
      "id": "1b431e7a-0231-4baa-b775-1de7ac950141",
      "metadata": {
        "tags": [],
        "id": "1b431e7a-0231-4baa-b775-1de7ac950141"
      },
      "outputs": [],
      "source": [
        "plt."
      ]
    },
    {
      "cell_type": "code",
      "execution_count": null,
      "id": "a625342b-ac84-4590-a35e-99760b464e4c",
      "metadata": {
        "tags": [],
        "id": "a625342b-ac84-4590-a35e-99760b464e4c"
      },
      "outputs": [],
      "source": [
        "#data_REF['Totale'].plot()\n",
        "grt=data_REF[data_REF['GROUP']==\"GARNET\"]\n",
        "sns.scatterplot(data=grt, x=\"SIO2\", y=sum)\n",
        "plt.show()\n",
        "sns.histoplot(data=grt)"
      ]
    },
    {
      "cell_type": "code",
      "execution_count": null,
      "id": "3bfccd36-6891-4ee0-a1f6-70bc7a41dd68",
      "metadata": {
        "tags": [],
        "id": "3bfccd36-6891-4ee0-a1f6-70bc7a41dd68"
      },
      "outputs": [],
      "source": []
    },
    {
      "cell_type": "markdown",
      "id": "a0ae2e71-4b6c-4c97-a8a5-cbbe328ec242",
      "metadata": {
        "tags": [],
        "id": "a0ae2e71-4b6c-4c97-a8a5-cbbe328ec242"
      },
      "source": [
        "## Filter DATA by MINERAL"
      ]
    },
    {
      "cell_type": "code",
      "execution_count": null,
      "id": "ad08daf8-3b7c-44c6-b601-57041286064e",
      "metadata": {
        "tags": [],
        "id": "ad08daf8-3b7c-44c6-b601-57041286064e"
      },
      "outputs": [],
      "source": [
        "#isGrt = data(data['Mineral']==\"GT\" | data['Mineral']==\"grt\")\n",
        "isGrt = data['Mineral']==\"grt\"\n",
        "#isGrt = data['Mineral']==\"grt\"\n",
        "isGrt\n",
        "\n",
        "#gapminder_2002 = gapminder[is_2002]\n",
        "data_isGrt = data[isGrt]\n",
        "sns.scatterplot(data=data_REF[data_REF['GROUP']==\"GARNET\"], x=\"SIO2\", y=\"AL2O3\", hue=\"GROUP\", palette=['red'])\n",
        "#sns.scatterplot(data=data, x=\"SiO2\", y=\"Al2O3\",  hue=\"Mineral\")\n",
        "plt.show()\n",
        "sns.scatterplot(data=data_isGrt, x=\"SiO2\", y=\"Al2O3\", hue=\"Mineral\", marker=\"X\", palette=['blue'])\n",
        "\n",
        "plt.show()\n"
      ]
    },
    {
      "cell_type": "code",
      "execution_count": null,
      "id": "c0a488bf-4e12-4697-a54a-9829901a2105",
      "metadata": {
        "tags": [],
        "id": "c0a488bf-4e12-4697-a54a-9829901a2105"
      },
      "outputs": [],
      "source": [
        "#data.plot(kind=\"box\")\n",
        "sns.boxplot(data)\n",
        "plt.show()"
      ]
    },
    {
      "cell_type": "code",
      "execution_count": null,
      "id": "db5bec16-8f71-4365-81f2-997bd6d55d8c",
      "metadata": {
        "tags": [],
        "id": "db5bec16-8f71-4365-81f2-997bd6d55d8c"
      },
      "outputs": [],
      "source": [
        "#axs = data.plot.area(figsize=(12, 4), subplots=True)\n",
        "#plt.show()\n",
        "sns.histplot(data)\n",
        "plt.show()"
      ]
    },
    {
      "cell_type": "code",
      "execution_count": null,
      "id": "9ae06f26-25a1-46c8-9e5f-3021c7ae4d71",
      "metadata": {
        "tags": [],
        "id": "9ae06f26-25a1-46c8-9e5f-3021c7ae4d71"
      },
      "outputs": [],
      "source": [
        "%who_ls"
      ]
    },
    {
      "cell_type": "code",
      "execution_count": null,
      "id": "6e160833-e9c5-4c6f-9629-75ad22994b1c",
      "metadata": {
        "tags": [],
        "id": "6e160833-e9c5-4c6f-9629-75ad22994b1c"
      },
      "outputs": [],
      "source": [
        "%whos"
      ]
    },
    {
      "cell_type": "markdown",
      "id": "fdfe8d29-c8b6-4bf1-ac6e-7f3953d81c5d",
      "metadata": {
        "id": "fdfe8d29-c8b6-4bf1-ac6e-7f3953d81c5d"
      },
      "source": [
        "## Calc Total"
      ]
    },
    {
      "cell_type": "code",
      "execution_count": null,
      "id": "1b7a0a9b-ff04-40fb-9b1d-fdb9f82deec9",
      "metadata": {
        "tags": [],
        "id": "1b7a0a9b-ff04-40fb-9b1d-fdb9f82deec9"
      },
      "outputs": [],
      "source": [
        "if 'Total_new' in data_REF.columns:\n",
        "    print(\"Yes\")\n",
        "    del data_REF['Total_new']\n",
        "    data_REF\n",
        "else:\n",
        "    print(\"No\")\n",
        "total = data_REF.iloc[:,2:-1].astype(float).sum(axis=1)\n",
        "sns.histplot(total)\n",
        "plt.show()"
      ]
    },
    {
      "cell_type": "code",
      "execution_count": null,
      "id": "a7dc7f24-a138-4173-a280-7cd79ee9743e",
      "metadata": {
        "tags": [],
        "id": "a7dc7f24-a138-4173-a280-7cd79ee9743e"
      },
      "outputs": [],
      "source": [
        "data_REF_check = data_REF.copy()\n",
        "data_REF_check['Total_new'] = total\n",
        "#data_REF['Total_new'] = total\n",
        "#newData = data.copy()\n",
        "#print(total)\n",
        "#sns.histplot(total).set(title='Total Hist1')\n",
        "#plt.show()\n",
        "data_REF_check[data_REF_check[\"REFERENCE MINERAL\"]==\"Garnet\"][\"Total_new\"]\n",
        "#dr.loc[dr['Total_new']]\n",
        "#dr[\"Total_new\"]\n",
        "sns.histplot(data_REF_check[data_REF_check[\"REFERENCE MINERAL\"]==\"Garnet\"][\"Total_new\"]).set(title='Total Hist Ref_Check')\n",
        "plt.show()\n",
        "#print(data['Mineral'])\n",
        "\n",
        "#sns.histplot(data_REF).set(title='Hist ALL')\n",
        "#plt.show()"
      ]
    },
    {
      "cell_type": "code",
      "execution_count": null,
      "id": "01d4ed89-f936-474a-996e-b35a11797f03",
      "metadata": {
        "tags": [],
        "id": "01d4ed89-f936-474a-996e-b35a11797f03"
      },
      "outputs": [],
      "source": [
        "data_REF_check[data_REF_check[\"REFERENCE MINERAL\"]==\"Garnet\"].to_excel(\"outgrt.xlsx\")"
      ]
    },
    {
      "cell_type": "code",
      "execution_count": null,
      "id": "5be06e96-f37f-4e6f-9ded-66cded7abd47",
      "metadata": {
        "tags": [],
        "id": "5be06e96-f37f-4e6f-9ded-66cded7abd47"
      },
      "outputs": [],
      "source": [
        "data_REF['Total_new'].describe()"
      ]
    },
    {
      "cell_type": "code",
      "execution_count": null,
      "id": "73e704e3-d715-45a0-b4e2-72c5ae884384",
      "metadata": {
        "tags": [],
        "id": "73e704e3-d715-45a0-b4e2-72c5ae884384"
      },
      "outputs": [],
      "source": [
        "sns.scatterplot(data=data_REF, x=\"SIO2\", y=\"Total_new\", marker=\"X\")\n",
        "plt.show()"
      ]
    },
    {
      "cell_type": "code",
      "execution_count": null,
      "id": "def3eeda-9924-45b6-a94f-f082cf26b3e0",
      "metadata": {
        "tags": [],
        "id": "def3eeda-9924-45b6-a94f-f082cf26b3e0"
      },
      "outputs": [],
      "source": [
        "#!/Users/miki/miniconda3/bin/pip3 install seaborn"
      ]
    },
    {
      "cell_type": "code",
      "execution_count": null,
      "id": "0492cf45-3902-4994-b071-e7398541fe53",
      "metadata": {
        "tags": [],
        "id": "0492cf45-3902-4994-b071-e7398541fe53"
      },
      "outputs": [],
      "source": [
        "##!/Users/miki/miniconda3/bin/pip3 install git+https://github.com/adamerose/pandasgui.git\n"
      ]
    },
    {
      "cell_type": "code",
      "execution_count": null,
      "id": "90ec9c2d-dd58-4679-a232-588e70785c3d",
      "metadata": {
        "tags": [],
        "id": "90ec9c2d-dd58-4679-a232-588e70785c3d"
      },
      "outputs": [],
      "source": [
        "gui = show(data,dataGRT)"
      ]
    },
    {
      "cell_type": "code",
      "execution_count": null,
      "id": "c1184533-493e-4317-a380-c8d5a16bb4bd",
      "metadata": {
        "tags": [],
        "id": "c1184533-493e-4317-a380-c8d5a16bb4bd"
      },
      "outputs": [],
      "source": [
        "sns.histplot(data['SiO2']).set(title='Hist ALL')\n",
        "plt.show()"
      ]
    },
    {
      "cell_type": "code",
      "execution_count": null,
      "id": "01063b35-0517-4938-b2c9-4a98cad049f5",
      "metadata": {
        "id": "01063b35-0517-4938-b2c9-4a98cad049f5"
      },
      "outputs": [],
      "source": []
    }
  ],
  "metadata": {
    "kernelspec": {
      "display_name": "Python 3 (ipykernel)",
      "language": "python",
      "name": "python3"
    },
    "language_info": {
      "codemirror_mode": {
        "name": "ipython",
        "version": 3
      },
      "file_extension": ".py",
      "mimetype": "text/x-python",
      "name": "python",
      "nbconvert_exporter": "python",
      "pygments_lexer": "ipython3",
      "version": "3.11.5"
    },
    "colab": {
      "provenance": [],
      "include_colab_link": true
    }
  },
  "nbformat": 4,
  "nbformat_minor": 5
}