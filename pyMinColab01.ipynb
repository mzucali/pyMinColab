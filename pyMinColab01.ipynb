{
  "nbformat": 4,
  "nbformat_minor": 0,
  "metadata": {
    "colab": {
      "provenance": [],
      "authorship_tag": "ABX9TyO7owSzJuVq3LTOFzlWC2bp",
      "include_colab_link": true
    },
    "kernelspec": {
      "name": "python3",
      "display_name": "Python 3"
    },
    "language_info": {
      "name": "python"
    },
    "vp": {
      "vp_note_display": false,
      "vp_note_width": 0,
      "vp_section_display": false,
      "vp_position": {
        "width": 278
      }
    }
  },
  "cells": [
    {
      "cell_type": "markdown",
      "metadata": {
        "id": "view-in-github",
        "colab_type": "text"
      },
      "source": [
        "<a href=\"https://colab.research.google.com/github/mzucali/pyMinColab/blob/main/pyMinColab01.ipynb\" target=\"_parent\"><img src=\"https://colab.research.google.com/assets/colab-badge.svg\" alt=\"Open In Colab\"/></a>"
      ]
    },
    {
      "cell_type": "markdown",
      "source": [
        "# 3 January 2023 - first attempt to move pyMin to colab notebook"
      ],
      "metadata": {
        "id": "kwehhYxoyB-w"
      }
    },
    {
      "cell_type": "markdown",
      "source": [
        "Import statements"
      ],
      "metadata": {
        "id": "v_fGxMv2yLtI"
      }
    },
    {
      "cell_type": "code",
      "execution_count": 1,
      "metadata": {
        "id": "6AV2MXGxx62C",
        "colab": {
          "base_uri": "https://localhost:8080/"
        },
        "outputId": "d27c91aa-6d5c-4b92-f8d1-57962107a607"
      },
      "outputs": [
        {
          "output_type": "stream",
          "name": "stdout",
          "text": [
            "Looking in indexes: https://pypi.org/simple, https://us-python.pkg.dev/colab-wheels/public/simple/\n",
            "Collecting visualpython\n",
            "  Downloading visualpython-2.2.12-py3-none-any.whl (15.0 MB)\n",
            "\u001b[2K     \u001b[90m━━━━━━━━━━━━━━━━━━━━━━━━━━━━━━━━━━━━━━━━\u001b[0m \u001b[32m15.0/15.0 MB\u001b[0m \u001b[31m16.0 MB/s\u001b[0m eta \u001b[36m0:00:00\u001b[0m\n",
            "\u001b[?25hInstalling collected packages: visualpython\n",
            "Successfully installed visualpython-2.2.12\n",
            "Package install command: pip\n",
            "============================================================================================\n",
            "Copy visualpyhthon extension files ...\n",
            "--------------------------------------------------------------------------------------------\n",
            "Source Dir :  /usr/local/lib/python3.8/dist-packages/visualpython\n",
            "Target Dir :  /root/.local/share/jupyter/nbextensions/visualpython\n",
            "============================================================================================\n",
            "Enabling notebook extension visualpython/visualpython...\n",
            "Paths used for configuration of notebook: \n",
            "    \t/root/.jupyter/nbconfig/notebook.json\n",
            "Paths used for configuration of notebook: \n",
            "    \t\n",
            "      - Validating: \u001b[32mOK\u001b[0m\n",
            "Paths used for configuration of notebook: \n",
            "    \t/root/.jupyter/nbconfig/notebook.json\n"
          ]
        }
      ],
      "source": [
        "import os\n",
        "import sys\n",
        "from tkinter import *\n",
        "from tkinter import filedialog\n",
        "from tkinter import scrolledtext\n",
        "import numpy as np\n",
        "import pandas as pd\n",
        "import matplotlib.pyplot as plt\n",
        "%matplotlib inline\n",
        "import seaborn as sns\n",
        "# Visual Python: Data Analysis > Import\n",
        "!pip install visualpython\n",
        "!visualpy install\n"
      ]
    },
    {
      "cell_type": "markdown",
      "source": [
        "GitHub connect and import"
      ],
      "metadata": {
        "id": "aVY9SwelWzCi"
      }
    },
    {
      "cell_type": "code",
      "source": [
        "print(\"GitHub\")\n",
        "!git clone https://www.github.com/mzucali/pyMinColab.git\n",
        "##from google.colab import drive\n",
        "##drive.mount('/content/github/pyMinColab')\n",
        "#import sys\n",
        "#sys.path.insert(0,'/content/github/pyMinColab')"
      ],
      "metadata": {
        "id": "Y1YSuaMdaZgI",
        "colab": {
          "base_uri": "https://localhost:8080/"
        },
        "outputId": "a36457cc-db9f-426f-a96c-0be8ed8cc80d"
      },
      "execution_count": 1,
      "outputs": [
        {
          "output_type": "stream",
          "name": "stdout",
          "text": [
            "GitHub\n",
            "Cloning into 'pyMinColab'...\n",
            "warning: redirecting to https://github.com/mzucali/pyMinColab.git/\n",
            "remote: Enumerating objects: 32, done.\u001b[K\n",
            "remote: Counting objects: 100% (32/32), done.\u001b[K\n",
            "remote: Compressing objects: 100% (29/29), done.\u001b[K\n",
            "remote: Total 32 (delta 6), reused 0 (delta 0), pack-reused 0\u001b[K\n",
            "Unpacking objects: 100% (32/32), done.\n"
          ]
        }
      ]
    },
    {
      "cell_type": "code",
      "source": [
        "print(\"pwd: \")\n",
        "!pwd\n",
        "!ls\n",
        "%cd /content/pyMinColab/\n",
        "print(\"pwd: \")\n",
        "!pwd"
      ],
      "metadata": {
        "id": "r4iyKTQEFpiG",
        "outputId": "5c6070d3-668e-4ddc-b8d7-fb8363ee6e6b",
        "colab": {
          "base_uri": "https://localhost:8080/"
        }
      },
      "execution_count": 5,
      "outputs": [
        {
          "output_type": "stream",
          "name": "stdout",
          "text": [
            "pwd: \n",
            "/content/pyMinColab\n",
            "mincalclib  pyMinColab01.ipynb\tREADME.md  testData\n",
            "/content/pyMinColab\n",
            "pwd: \n",
            "/content/pyMinColab\n"
          ]
        }
      ]
    },
    {
      "cell_type": "markdown",
      "source": [
        "GDrive import"
      ],
      "metadata": {
        "id": "tEbAknH4WjKs"
      }
    },
    {
      "cell_type": "code",
      "source": [
        "from google.colab import drive\n",
        "drive.mount('/content/gdrive')\n",
        "import sys\n",
        "sys.path.insert(0,'/content/gdrive/MyDrive/Colab Notebooks/pyMinColab')\n",
        "%cd /content/gdrive/MyDrive/Colab Notebooks/pyMinColab\n",
        "print(\"pwd: \")\n",
        "!pwd\n",
        "!ls\n",
        "# import mincalclib.dataset\n",
        "# import formula\n",
        "# !less formula.py"
      ],
      "metadata": {
        "id": "8gMI9vmXSYtL",
        "colab": {
          "base_uri": "https://localhost:8080/"
        },
        "outputId": "5710ca3c-1c77-402a-b9f7-42e9750a6219"
      },
      "execution_count": 4,
      "outputs": [
        {
          "output_type": "stream",
          "name": "stdout",
          "text": [
            "Mounted at /content/gdrive\n",
            "/content/gdrive/MyDrive/Colab Notebooks/pyMinCoLab\n",
            "pwd: \n",
            "/content/gdrive/MyDrive/Colab Notebooks/pyMinCoLab\n",
            "mincalclib  pyMinColab01.ipynb\ttestData\n"
          ]
        }
      ]
    },
    {
      "cell_type": "code",
      "source": [
        "print(sys.version)\n",
        "print(sys.version_info)"
      ],
      "metadata": {
        "id": "bhjy8WlHyTzl"
      },
      "execution_count": null,
      "outputs": []
    },
    {
      "cell_type": "code",
      "source": [
        "!visualpy version"
      ],
      "metadata": {
        "id": "NfJHIFjg0D4-"
      },
      "execution_count": null,
      "outputs": []
    },
    {
      "cell_type": "markdown",
      "source": [
        "pyMin 04 January 2023"
      ],
      "metadata": {
        "id": "9I3g7hNG3716"
      }
    },
    {
      "cell_type": "code",
      "source": [
        "%cd /content/pyMinColab/\n",
        "\n",
        "#print(\"pwd1\")\n",
        "#!pwd\n",
        "from mincalclib import dataset"
      ],
      "metadata": {
        "id": "omH3kVks1912",
        "colab": {
          "base_uri": "https://localhost:8080/"
        },
        "outputId": "19b9b840-bc2f-469f-cefb-08d99c6d7aff"
      },
      "execution_count": 7,
      "outputs": [
        {
          "output_type": "stream",
          "name": "stdout",
          "text": [
            "/content/pyMinColab\n"
          ]
        }
      ]
    },
    {
      "cell_type": "code",
      "source": [
        "#from mincalclib import dataset\n",
        "#import dataset\n",
        "# WRITE HERE THE NAME OF YOUR INPUT FILE\n",
        "#inputfile = 'Mainz_19dec22.xlsx'\n",
        "#inputfile = '/content/gdrive/'\n",
        "inputfile = '/content/pyMinColab/testData/input_inbox_test.xls'\n",
        "dataset.dataset(inputfile) # RUN pyMin calculation"
      ],
      "metadata": {
        "id": "hhbZizIgYV8Q"
      },
      "execution_count": null,
      "outputs": []
    },
    {
      "cell_type": "markdown",
      "source": [
        "RUNNING!"
      ],
      "metadata": {
        "id": "3io0zalOem_E"
      }
    }
  ]
}