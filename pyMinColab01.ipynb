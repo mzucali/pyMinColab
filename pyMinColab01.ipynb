{
  "nbformat": 4,
  "nbformat_minor": 0,
  "metadata": {
    "colab": {
      "provenance": [],
      "authorship_tag": "ABX9TyP5CwHqTT3t/WU/qKAWr9+M",
      "include_colab_link": true
    },
    "kernelspec": {
      "name": "python3",
      "display_name": "Python 3"
    },
    "language_info": {
      "name": "python"
    },
    "vp": {
      "vp_note_display": false,
      "vp_note_width": 0,
      "vp_section_display": false,
      "vp_position": {
        "width": 278
      }
    }
  },
  "cells": [
    {
      "cell_type": "markdown",
      "metadata": {
        "id": "view-in-github",
        "colab_type": "text"
      },
      "source": [
        "<a href=\"https://colab.research.google.com/github/mzucali/pyMinColab/blob/main/pyMinColab01.ipynb\" target=\"_parent\"><img src=\"https://colab.research.google.com/assets/colab-badge.svg\" alt=\"Open In Colab\"/></a>"
      ]
    },
    {
      "cell_type": "markdown",
      "source": [
        "# 3 January 2023 - first attempt to move pyMin to colab notebook"
      ],
      "metadata": {
        "id": "kwehhYxoyB-w"
      }
    },
    {
      "cell_type": "markdown",
      "source": [
        "Import statements"
      ],
      "metadata": {
        "id": "v_fGxMv2yLtI"
      }
    },
    {
      "cell_type": "code",
      "execution_count": 1,
      "metadata": {
        "id": "6AV2MXGxx62C",
        "outputId": "04e6c631-b12c-41a5-95d8-752ace31dc85",
        "colab": {
          "base_uri": "https://localhost:8080/"
        }
      },
      "outputs": [
        {
          "output_type": "stream",
          "name": "stdout",
          "text": [
            "Looking in indexes: https://pypi.org/simple, https://us-python.pkg.dev/colab-wheels/public/simple/\n",
            "Collecting visualpython\n",
            "  Downloading visualpython-2.2.12-py3-none-any.whl (15.0 MB)\n",
            "\u001b[2K     \u001b[90m━━━━━━━━━━━━━━━━━━━━━━━━━━━━━━━━━━━━━━━━\u001b[0m \u001b[32m15.0/15.0 MB\u001b[0m \u001b[31m93.3 MB/s\u001b[0m eta \u001b[36m0:00:00\u001b[0m\n",
            "\u001b[?25hInstalling collected packages: visualpython\n",
            "Successfully installed visualpython-2.2.12\n",
            "Package install command: pip\n",
            "============================================================================================\n",
            "Copy visualpyhthon extension files ...\n",
            "--------------------------------------------------------------------------------------------\n",
            "Source Dir :  /usr/local/lib/python3.8/dist-packages/visualpython\n",
            "Target Dir :  /root/.local/share/jupyter/nbextensions/visualpython\n",
            "============================================================================================\n",
            "Enabling notebook extension visualpython/visualpython...\n",
            "Paths used for configuration of notebook: \n",
            "    \t/root/.jupyter/nbconfig/notebook.json\n",
            "Paths used for configuration of notebook: \n",
            "    \t\n",
            "      - Validating: \u001b[32mOK\u001b[0m\n",
            "Paths used for configuration of notebook: \n",
            "    \t/root/.jupyter/nbconfig/notebook.json\n"
          ]
        }
      ],
      "source": [
        "import os\n",
        "import sys\n",
        "from tkinter import *\n",
        "from tkinter import filedialog\n",
        "from tkinter import scrolledtext\n",
        "import numpy as np\n",
        "import pandas as pd\n",
        "import matplotlib.pyplot as plt\n",
        "%matplotlib inline\n",
        "import seaborn as sns\n",
        "# Visual Python: Data Analysis > Import\n",
        "!pip install visualpython\n",
        "!visualpy install\n"
      ]
    },
    {
      "cell_type": "markdown",
      "source": [
        "GitHub connect and import"
      ],
      "metadata": {
        "id": "aVY9SwelWzCi"
      }
    },
    {
      "cell_type": "code",
      "source": [
        "print(\"GitHub\")\n",
        "!git clone https://www.github.com/mzucali/pyMinColab.git\n",
        "from google.colab import drive\n",
        "import sys\n",
        "sys.path.insert(0,'/content/pyMinColab')\n",
        "%cd /content/pyMinCoLab\n",
        "print(\"pwd\")\n",
        "!pwd"
      ],
      "metadata": {
        "id": "Y1YSuaMdaZgI",
        "outputId": "f7743f2b-7190-4a48-db90-28d15e06aa59",
        "colab": {
          "base_uri": "https://localhost:8080/"
        }
      },
      "execution_count": 2,
      "outputs": [
        {
          "output_type": "stream",
          "name": "stdout",
          "text": [
            "GitHub\n",
            "Cloning into 'pyMinColab'...\n",
            "warning: redirecting to https://github.com/mzucali/pyMinColab.git/\n",
            "remote: Enumerating objects: 29, done.\u001b[K\n",
            "remote: Counting objects: 100% (29/29), done.\u001b[K\n",
            "remote: Compressing objects: 100% (26/26), done.\u001b[K\n",
            "remote: Total 29 (delta 4), reused 0 (delta 0), pack-reused 0\u001b[K\n",
            "Unpacking objects: 100% (29/29), done.\n",
            "pwd\n",
            "/content\n"
          ]
        }
      ]
    },
    {
      "cell_type": "markdown",
      "source": [
        "GDrive import"
      ],
      "metadata": {
        "id": "tEbAknH4WjKs"
      }
    },
    {
      "cell_type": "code",
      "source": [
        "from google.colab import drive\n",
        "drive.mount('/content/gdrive')\n",
        "import sys\n",
        "sys.path.insert(0,'/content/gdrive/MyDrive/Colab Notebooks/pyMinCoLab')\n",
        "%cd /content/gdrive/MyDrive/Colab Notebooks/pyMinCoLab\n",
        "print(\"pwd: \")\n",
        "!pwd\n",
        "!ls\n",
        "# import mincalclib.dataset\n",
        "# import formula\n",
        "# !less formula.py"
      ],
      "metadata": {
        "id": "8gMI9vmXSYtL",
        "outputId": "42423ea2-2f3b-46ce-a445-1ee99f10c2d9",
        "colab": {
          "base_uri": "https://localhost:8080/"
        }
      },
      "execution_count": 15,
      "outputs": [
        {
          "output_type": "stream",
          "name": "stdout",
          "text": [
            "Mounted at /content/gdrive\n",
            "/content/gdrive/MyDrive/Colab Notebooks/pyMinCoLab\n",
            "pwd: \n",
            "/content/gdrive/MyDrive/Colab Notebooks/pyMinCoLab\n",
            "mincalclib  pyMinColab01.ipynb\ttestData\n"
          ]
        }
      ]
    },
    {
      "cell_type": "code",
      "source": [
        "print(sys.version)\n",
        "print(sys.version_info)"
      ],
      "metadata": {
        "id": "bhjy8WlHyTzl",
        "outputId": "f7c81478-ffe2-498e-d1c5-a0910d5bfaf3",
        "colab": {
          "base_uri": "https://localhost:8080/"
        }
      },
      "execution_count": 4,
      "outputs": [
        {
          "output_type": "stream",
          "name": "stdout",
          "text": [
            "3.8.16 (default, Dec  7 2022, 01:12:13) \n",
            "[GCC 7.5.0]\n",
            "sys.version_info(major=3, minor=8, micro=16, releaselevel='final', serial=0)\n"
          ]
        }
      ]
    },
    {
      "cell_type": "code",
      "source": [
        "!visualpy version"
      ],
      "metadata": {
        "id": "NfJHIFjg0D4-",
        "outputId": "5193a735-0197-4457-e9dc-1467eacec6e9",
        "colab": {
          "base_uri": "https://localhost:8080/"
        }
      },
      "execution_count": 5,
      "outputs": [
        {
          "output_type": "stream",
          "name": "stdout",
          "text": [
            "Package install command: pip\n",
            "Visual Python 2.2.12\n"
          ]
        }
      ]
    },
    {
      "cell_type": "markdown",
      "source": [
        "pyMin 04 January 2023"
      ],
      "metadata": {
        "id": "9I3g7hNG3716"
      }
    },
    {
      "cell_type": "code",
      "source": [
        "%cd /content/pyMinCoLab/\n",
        "\n",
        "#print(\"pwd1\")\n",
        "#!pwd\n",
        "from mincalclib import dataset"
      ],
      "metadata": {
        "id": "omH3kVks1912",
        "outputId": "56c08745-c4fd-4201-e0c5-3c2b4197660c",
        "colab": {
          "base_uri": "https://localhost:8080/"
        }
      },
      "execution_count": 13,
      "outputs": [
        {
          "output_type": "stream",
          "name": "stdout",
          "text": [
            "[Errno 2] No such file or directory: '/content/pyMinCoLab/'\n",
            "/content/pyMinColab\n"
          ]
        }
      ]
    },
    {
      "cell_type": "code",
      "source": [
        "#from mincalclib import dataset\n",
        "#import dataset\n",
        "# WRITE HERE THE NAME OF YOUR INPUT FILE\n",
        "#inputfile = 'Mainz_19dec22.xlsx'\n",
        "inputfile = '/content/gdrive/'\n",
        "inputfile = '/content/pyMinCoLab/testData/input_inbox_test.xls'\n",
        "dataset.dataset(inputfile) # RUN pyMin calculation"
      ],
      "metadata": {
        "id": "hhbZizIgYV8Q"
      },
      "execution_count": null,
      "outputs": []
    },
    {
      "cell_type": "markdown",
      "source": [
        "RUNNING!"
      ],
      "metadata": {
        "id": "3io0zalOem_E"
      }
    }
  ]
}