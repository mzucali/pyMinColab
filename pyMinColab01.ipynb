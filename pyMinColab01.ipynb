{
  "nbformat": 4,
  "nbformat_minor": 0,
  "metadata": {
    "colab": {
      "provenance": [],
      "authorship_tag": "ABX9TyOqOz5Ab94CMI+2E45fqS9Y",
      "include_colab_link": true
    },
    "kernelspec": {
      "name": "python3",
      "display_name": "Python 3"
    },
    "language_info": {
      "name": "python"
    },
    "vp": {
      "vp_note_display": false,
      "vp_note_width": 0,
      "vp_section_display": false,
      "vp_position": {
        "width": 278
      }
    }
  },
  "cells": [
    {
      "cell_type": "markdown",
      "metadata": {
        "id": "view-in-github",
        "colab_type": "text"
      },
      "source": [
        "<a href=\"https://colab.research.google.com/github/mzucali/pyMinColab/blob/main/pyMinColab01.ipynb\" target=\"_parent\"><img src=\"https://colab.research.google.com/assets/colab-badge.svg\" alt=\"Open In Colab\"/></a>"
      ]
    },
    {
      "cell_type": "markdown",
      "source": [
        "# 3 January 2023 - first attempt to move pyMin to colab notebook"
      ],
      "metadata": {
        "id": "kwehhYxoyB-w"
      }
    },
    {
      "cell_type": "markdown",
      "source": [
        "Import statements"
      ],
      "metadata": {
        "id": "v_fGxMv2yLtI"
      }
    },
    {
      "cell_type": "code",
      "execution_count": null,
      "metadata": {
        "id": "6AV2MXGxx62C"
      },
      "outputs": [],
      "source": [
        "import os\n",
        "import sys\n",
        "from tkinter import *\n",
        "from tkinter import filedialog\n",
        "from tkinter import scrolledtext\n",
        "import numpy as np\n",
        "import pandas as pd\n",
        "import matplotlib.pyplot as plt\n",
        "%matplotlib inline\n",
        "import seaborn as sns\n",
        "# Visual Python: Data Analysis > Import\n",
        "!pip install visualpython\n",
        "!visualpy install\n"
      ]
    },
    {
      "cell_type": "markdown",
      "source": [
        "GitHub connect"
      ],
      "metadata": {
        "id": "aVY9SwelWzCi"
      }
    },
    {
      "cell_type": "code",
      "source": [
        "print(\"GitHub\")"
      ],
      "metadata": {
        "id": "Y1YSuaMdaZgI"
      },
      "execution_count": null,
      "outputs": []
    },
    {
      "cell_type": "markdown",
      "source": [
        "GDrive import"
      ],
      "metadata": {
        "id": "tEbAknH4WjKs"
      }
    },
    {
      "cell_type": "code",
      "source": [
        "#from google.colab import drive\n",
        "#drive.mount('/content/gdrive')\n",
        "#import sys\n",
        "#sys.path.insert(0,'/content/gdrive/MyDrive/Colab Notebooks/pyMinCoLab')\n",
        "#%cd /content/gdrive/MyDrive/Colab Notebooks/pyMinCoLab\n",
        "#print(\"pwd: \")\n",
        "#!pwd\n",
        "#!ls\n",
        "# import mincalclib.dataset\n",
        "# import formula\n",
        "# !less formula.py"
      ],
      "metadata": {
        "id": "8gMI9vmXSYtL"
      },
      "execution_count": null,
      "outputs": []
    },
    {
      "cell_type": "markdown",
      "source": [
        "GitHub import"
      ],
      "metadata": {
        "id": "yMcYDH4-vWLz"
      }
    },
    {
      "cell_type": "code",
      "source": [
        "!git clone https://www.github.com/mzucali/pyMinColab.git\n",
        "import sys\n",
        "sys.path.insert(0,'/content/pyMinColab')"
      ],
      "metadata": {
        "id": "xeoO1kw_vUjL"
      },
      "execution_count": null,
      "outputs": []
    },
    {
      "cell_type": "code",
      "source": [
        "print(sys.version)\n",
        "print(sys.version_info)"
      ],
      "metadata": {
        "id": "bhjy8WlHyTzl"
      },
      "execution_count": null,
      "outputs": []
    },
    {
      "cell_type": "code",
      "source": [
        "!visualpy version"
      ],
      "metadata": {
        "id": "NfJHIFjg0D4-"
      },
      "execution_count": null,
      "outputs": []
    },
    {
      "cell_type": "markdown",
      "source": [
        "pyMin 04 January 2023"
      ],
      "metadata": {
        "id": "9I3g7hNG3716"
      }
    },
    {
      "cell_type": "code",
      "source": [
        "%cd /content/gdrive/MyDrive/Colab Notebooks/pyMinCoLab\n",
        "print(\"pwd1\")\n",
        "!pwd"
      ],
      "metadata": {
        "colab": {
          "base_uri": "https://localhost:8080/"
        },
        "id": "omH3kVks1912",
        "outputId": "0177b5e0-2288-4eb6-8204-e0977bdb26ff"
      },
      "execution_count": null,
      "outputs": [
        {
          "output_type": "stream",
          "name": "stdout",
          "text": [
            "/content/gdrive/MyDrive/Colab Notebooks/pyMinCoLab\n",
            "pwd1\n",
            "/content/gdrive/MyDrive/Colab Notebooks/pyMinCoLab\n"
          ]
        }
      ]
    },
    {
      "cell_type": "code",
      "source": [
        "#from mincalclib import dataset\n",
        "#import dataset\n",
        "# WRITE HERE THE NAME OF YOUR INPUT FILE\n",
        "#inputfile = 'Mainz_19dec22.xlsx'\n",
        "inputfile = '/content/gdrive/MyDrive/Colab Notebooks/pyMinCoLab/testData/input_inbox_test.xls'\n",
        "dataset.dataset(inputfile) # RUN pyMin calculation"
      ],
      "metadata": {
        "id": "hhbZizIgYV8Q"
      },
      "execution_count": null,
      "outputs": []
    },
    {
      "cell_type": "markdown",
      "source": [
        "FUNZIONA!"
      ],
      "metadata": {
        "id": "3io0zalOem_E"
      }
    }
  ]
}