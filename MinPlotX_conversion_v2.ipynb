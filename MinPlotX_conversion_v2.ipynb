{
  "nbformat": 4,
  "nbformat_minor": 0,
  "metadata": {
    "colab": {
      "provenance": [],
      "authorship_tag": "ABX9TyPtanCWMkvL7sS4WCFiGIgy",
      "include_colab_link": true
    },
    "kernelspec": {
      "name": "python3",
      "display_name": "Python 3"
    },
    "language_info": {
      "name": "python"
    }
  },
  "cells": [
    {
      "cell_type": "markdown",
      "metadata": {
        "id": "view-in-github",
        "colab_type": "text"
      },
      "source": [
        "<a href=\"https://colab.research.google.com/github/mzucali/pyMinColab/blob/main/MinPlotX_conversion_v2.ipynb\" target=\"_parent\"><img src=\"https://colab.research.google.com/assets/colab-badge.svg\" alt=\"Open In Colab\"/></a>"
      ]
    },
    {
      "cell_type": "code",
      "execution_count": null,
      "metadata": {
        "id": "j0lLsONpg34B"
      },
      "outputs": [],
      "source": [
        "!pip install pandas xlsxwriter"
      ]
    },
    {
      "cell_type": "markdown",
      "source": [
        "QUESTO CODICE per separare in più file excel **ogni minerale**"
      ],
      "metadata": {
        "id": "NvQdEXWMhFN6"
      }
    },
    {
      "cell_type": "code",
      "source": [
        "import pandas as pd\n",
        "\n",
        "# Load the Excel file\n",
        "input_file = '16_17-1-25-ox.xlsx'  # Replace with your input file name\n",
        "output_file = 'output.xlsx'  # Replace with your desired output file name\n",
        "\n",
        "# Read the Excel file into a DataFrame\n",
        "df = pd.read_excel(input_file)\n",
        "\n",
        "# Get unique values in the 'mineral' column\n",
        "unique_minerals = df['mineral'].unique()\n",
        "\n",
        "# Create a Pandas Excel writer using XlsxWriter as the engine\n",
        "with pd.ExcelWriter(output_file, engine='xlsxwriter') as writer:\n",
        "    for mineral in unique_minerals:\n",
        "        # Filter the DataFrame for the current mineral\n",
        "        mineral_df = df[df['mineral'] == mineral]\n",
        "\n",
        "        # Write the DataFrame to a new sheet\n",
        "        mineral_df.to_excel(writer, sheet_name=mineral, index=False)\n",
        "\n",
        "print(f\"File has been split into sheets and saved as {output_file}\")"
      ],
      "metadata": {
        "id": "Kmm74-KTg_Uw"
      },
      "execution_count": null,
      "outputs": []
    },
    {
      "cell_type": "markdown",
      "source": [
        "QUESTO per convertire CSV files in excel"
      ],
      "metadata": {
        "id": "XcLbWNIchExn"
      }
    },
    {
      "cell_type": "code",
      "source": [
        "import pandas as pd\n",
        "\n",
        "def csv_to_excel(csv_file, excel_file):\n",
        "    # Read CSV into pandas DataFrame\n",
        "    df = pd.read_csv(csv_file, sep='\\t')\n",
        "\n",
        "    # Write DataFrame to Excel\n",
        "    df.to_excel(excel_file, index=False)\n",
        "\n",
        "# Replace 'input.csv' and 'output.xlsx' with your file paths\n",
        "csv_to_excel('/content/output_opx_apfu.csv', '/content/output_opx_apfu.xlsx')\n",
        "csv_to_excel('/content/output_opx_structuralformula.csv', '/content/output_opx_structuralformula.xlsx')"
      ],
      "metadata": {
        "id": "DaQBhkVKg_GU"
      },
      "execution_count": null,
      "outputs": []
    }
  ]
}