{
  "nbformat": 4,
  "nbformat_minor": 0,
  "metadata": {
    "colab": {
      "provenance": [],
      "authorship_tag": "ABX9TyNEH4e1sbozQUuG5tu8t+zA",
      "include_colab_link": true
    },
    "kernelspec": {
      "name": "python3",
      "display_name": "Python 3"
    },
    "language_info": {
      "name": "python"
    }
  },
  "cells": [
    {
      "cell_type": "markdown",
      "metadata": {
        "id": "view-in-github",
        "colab_type": "text"
      },
      "source": [
        "<a href=\"https://colab.research.google.com/github/mzucali/pyMinColab/blob/main/ExtractFromSummaryEMPA.ipynb\" target=\"_parent\"><img src=\"https://colab.research.google.com/assets/colab-badge.svg\" alt=\"Open In Colab\"/></a>"
      ]
    },
    {
      "cell_type": "markdown",
      "source": [
        "LEGGE IL FILE SUMMARY.TXT ed estrae DL e SD:\n",
        ">input=summary.txt\n",
        ">output=result.txt"
      ],
      "metadata": {
        "id": "ahx7kYpNKhAu"
      }
    },
    {
      "cell_type": "code",
      "source": [
        "# load and read summary file from EMPA\n",
        "from google.colab import files\n",
        "uploaded = files.upload()\n",
        "\n",
        "for fn in uploaded.keys():\n",
        "  print('User uploaded file \"{name}\" with length {length} bytes'.format(\n",
        "      name=fn, length=len(uploaded[fn])))"
      ],
      "metadata": {
        "id": "xmO9WzXojvoC",
        "colab": {
          "base_uri": "https://localhost:8080/",
          "height": 91
        },
        "outputId": "045044fd-436b-4bae-cf77-ed671e36953e"
      },
      "execution_count": 2,
      "outputs": [
        {
          "output_type": "display_data",
          "data": {
            "text/plain": [
              "<IPython.core.display.HTML object>"
            ],
            "text/html": [
              "\n",
              "     <input type=\"file\" id=\"files-add81c28-e941-4734-a988-dbe15da14e62\" name=\"files[]\" multiple disabled\n",
              "        style=\"border:none\" />\n",
              "     <output id=\"result-add81c28-e941-4734-a988-dbe15da14e62\">\n",
              "      Upload widget is only available when the cell has been executed in the\n",
              "      current browser session. Please rerun this cell to enable.\n",
              "      </output>\n",
              "      <script>// Copyright 2017 Google LLC\n",
              "//\n",
              "// Licensed under the Apache License, Version 2.0 (the \"License\");\n",
              "// you may not use this file except in compliance with the License.\n",
              "// You may obtain a copy of the License at\n",
              "//\n",
              "//      http://www.apache.org/licenses/LICENSE-2.0\n",
              "//\n",
              "// Unless required by applicable law or agreed to in writing, software\n",
              "// distributed under the License is distributed on an \"AS IS\" BASIS,\n",
              "// WITHOUT WARRANTIES OR CONDITIONS OF ANY KIND, either express or implied.\n",
              "// See the License for the specific language governing permissions and\n",
              "// limitations under the License.\n",
              "\n",
              "/**\n",
              " * @fileoverview Helpers for google.colab Python module.\n",
              " */\n",
              "(function(scope) {\n",
              "function span(text, styleAttributes = {}) {\n",
              "  const element = document.createElement('span');\n",
              "  element.textContent = text;\n",
              "  for (const key of Object.keys(styleAttributes)) {\n",
              "    element.style[key] = styleAttributes[key];\n",
              "  }\n",
              "  return element;\n",
              "}\n",
              "\n",
              "// Max number of bytes which will be uploaded at a time.\n",
              "const MAX_PAYLOAD_SIZE = 100 * 1024;\n",
              "\n",
              "function _uploadFiles(inputId, outputId) {\n",
              "  const steps = uploadFilesStep(inputId, outputId);\n",
              "  const outputElement = document.getElementById(outputId);\n",
              "  // Cache steps on the outputElement to make it available for the next call\n",
              "  // to uploadFilesContinue from Python.\n",
              "  outputElement.steps = steps;\n",
              "\n",
              "  return _uploadFilesContinue(outputId);\n",
              "}\n",
              "\n",
              "// This is roughly an async generator (not supported in the browser yet),\n",
              "// where there are multiple asynchronous steps and the Python side is going\n",
              "// to poll for completion of each step.\n",
              "// This uses a Promise to block the python side on completion of each step,\n",
              "// then passes the result of the previous step as the input to the next step.\n",
              "function _uploadFilesContinue(outputId) {\n",
              "  const outputElement = document.getElementById(outputId);\n",
              "  const steps = outputElement.steps;\n",
              "\n",
              "  const next = steps.next(outputElement.lastPromiseValue);\n",
              "  return Promise.resolve(next.value.promise).then((value) => {\n",
              "    // Cache the last promise value to make it available to the next\n",
              "    // step of the generator.\n",
              "    outputElement.lastPromiseValue = value;\n",
              "    return next.value.response;\n",
              "  });\n",
              "}\n",
              "\n",
              "/**\n",
              " * Generator function which is called between each async step of the upload\n",
              " * process.\n",
              " * @param {string} inputId Element ID of the input file picker element.\n",
              " * @param {string} outputId Element ID of the output display.\n",
              " * @return {!Iterable<!Object>} Iterable of next steps.\n",
              " */\n",
              "function* uploadFilesStep(inputId, outputId) {\n",
              "  const inputElement = document.getElementById(inputId);\n",
              "  inputElement.disabled = false;\n",
              "\n",
              "  const outputElement = document.getElementById(outputId);\n",
              "  outputElement.innerHTML = '';\n",
              "\n",
              "  const pickedPromise = new Promise((resolve) => {\n",
              "    inputElement.addEventListener('change', (e) => {\n",
              "      resolve(e.target.files);\n",
              "    });\n",
              "  });\n",
              "\n",
              "  const cancel = document.createElement('button');\n",
              "  inputElement.parentElement.appendChild(cancel);\n",
              "  cancel.textContent = 'Cancel upload';\n",
              "  const cancelPromise = new Promise((resolve) => {\n",
              "    cancel.onclick = () => {\n",
              "      resolve(null);\n",
              "    };\n",
              "  });\n",
              "\n",
              "  // Wait for the user to pick the files.\n",
              "  const files = yield {\n",
              "    promise: Promise.race([pickedPromise, cancelPromise]),\n",
              "    response: {\n",
              "      action: 'starting',\n",
              "    }\n",
              "  };\n",
              "\n",
              "  cancel.remove();\n",
              "\n",
              "  // Disable the input element since further picks are not allowed.\n",
              "  inputElement.disabled = true;\n",
              "\n",
              "  if (!files) {\n",
              "    return {\n",
              "      response: {\n",
              "        action: 'complete',\n",
              "      }\n",
              "    };\n",
              "  }\n",
              "\n",
              "  for (const file of files) {\n",
              "    const li = document.createElement('li');\n",
              "    li.append(span(file.name, {fontWeight: 'bold'}));\n",
              "    li.append(span(\n",
              "        `(${file.type || 'n/a'}) - ${file.size} bytes, ` +\n",
              "        `last modified: ${\n",
              "            file.lastModifiedDate ? file.lastModifiedDate.toLocaleDateString() :\n",
              "                                    'n/a'} - `));\n",
              "    const percent = span('0% done');\n",
              "    li.appendChild(percent);\n",
              "\n",
              "    outputElement.appendChild(li);\n",
              "\n",
              "    const fileDataPromise = new Promise((resolve) => {\n",
              "      const reader = new FileReader();\n",
              "      reader.onload = (e) => {\n",
              "        resolve(e.target.result);\n",
              "      };\n",
              "      reader.readAsArrayBuffer(file);\n",
              "    });\n",
              "    // Wait for the data to be ready.\n",
              "    let fileData = yield {\n",
              "      promise: fileDataPromise,\n",
              "      response: {\n",
              "        action: 'continue',\n",
              "      }\n",
              "    };\n",
              "\n",
              "    // Use a chunked sending to avoid message size limits. See b/62115660.\n",
              "    let position = 0;\n",
              "    do {\n",
              "      const length = Math.min(fileData.byteLength - position, MAX_PAYLOAD_SIZE);\n",
              "      const chunk = new Uint8Array(fileData, position, length);\n",
              "      position += length;\n",
              "\n",
              "      const base64 = btoa(String.fromCharCode.apply(null, chunk));\n",
              "      yield {\n",
              "        response: {\n",
              "          action: 'append',\n",
              "          file: file.name,\n",
              "          data: base64,\n",
              "        },\n",
              "      };\n",
              "\n",
              "      let percentDone = fileData.byteLength === 0 ?\n",
              "          100 :\n",
              "          Math.round((position / fileData.byteLength) * 100);\n",
              "      percent.textContent = `${percentDone}% done`;\n",
              "\n",
              "    } while (position < fileData.byteLength);\n",
              "  }\n",
              "\n",
              "  // All done.\n",
              "  yield {\n",
              "    response: {\n",
              "      action: 'complete',\n",
              "    }\n",
              "  };\n",
              "}\n",
              "\n",
              "scope.google = scope.google || {};\n",
              "scope.google.colab = scope.google.colab || {};\n",
              "scope.google.colab._files = {\n",
              "  _uploadFiles,\n",
              "  _uploadFilesContinue,\n",
              "};\n",
              "})(self);\n",
              "</script> "
            ]
          },
          "metadata": {}
        },
        {
          "output_type": "stream",
          "name": "stdout",
          "text": [
            "Saving summary.txt to summary.txt\n",
            "User uploaded file \"summary.txt\" with length 212586 bytes\n"
          ]
        }
      ]
    },
    {
      "cell_type": "code",
      "execution_count": null,
      "metadata": {
        "id": "2aRaAb3qjA1Z"
      },
      "outputs": [],
      "source": [
        "#@title\n",
        "# check PUO' essere SALTATO\n",
        "summary = fn\n",
        "print(fn)\n",
        "print(summary)\n",
        "with open(summary) as f:\n",
        "  lines = f.readlines()\n",
        "\n",
        "with open(summary) as f:\n",
        "  contents = f.read()\n",
        "  print(contents)\n"
      ]
    },
    {
      "cell_type": "code",
      "source": [
        "file_in = open(\"summary.txt\", \"r\")\n",
        "\n",
        "comments = []\n",
        "com=''\n",
        "for line in file_in:\n",
        "    line_s = line.split()\n",
        "    \n",
        "    try:\n",
        "        if(line_s[4] == \"Comment\"):\n",
        "          comments.append(line_s[6]) \n",
        "    except IndexError:\n",
        "        pass\n",
        "\n",
        "\n",
        "file_in.close()\n",
        "print(comments)"
      ],
      "metadata": {
        "colab": {
          "base_uri": "https://localhost:8080/"
        },
        "id": "CwxVJvjfzR_J",
        "outputId": "4d0da17a-7dbf-488c-82f6-37f62ca35bae"
      },
      "execution_count": 3,
      "outputs": [
        {
          "output_type": "stream",
          "name": "stdout",
          "text": [
            "['gross', 'ol', 'ompha', 'IV19-CC-1', 'IV19-CC-2', 'IV19-CC-3', 'IV19-CC-4', 'IV19-CC-5', 'IV19-CC-6', 'IV19-CC-7', 'IV19-CC-8', 'IV19-CC-9', 'IV19-CC-10', 'IV19-CC-11', 'IV19-CC-12', 'IV19-CC-13', 'IV19-CC-14', 'IV19-CC-15', 'IV19-CS-16', 'IV19-CS-17', 'IV19-CS-18', 'IV19-CS-19', 'IV19-CS-20', 'IV19-CS-21', 'IV19-CS-22', 'gross', 'ol', 'IV19-CQ-23', 'IV19-CC-24', 'IV19-CC-25', 'ZR18-C4-1', 'ZR18-C4-2', 'ZR18-C4-3', 'ZR18-C4-4', 'ZR18-C4-5', 'ZR18-C4-6', 'ZR18-C4-7', 'ZR18-C4-8', 'ZR18-C4-9', 'ZR18-C4-10', 'ZR18-C4-11', 'ZR18-C4-12', 'ZR18-C4-13', 'ZR18-C4-14', 'ZR18-C4-15', 'ZR18-C4-16', 'ZR18-C4-17', 'ZR18-C1.4-18', 'ZR18-C1.4-19', 'ZR18-C1.4-20', 'ZR18-C1.4-21', 'ZR18-C6-22', 'ZR18-C6-23', 'ZR18-C6-24', 'ZR18-C6-25', 'ZR18-C6-26', 'ZR18-C5-27', 'ZR18-C5-28', 'ZR18-C5-29', 'ZR18-C5-30', 'ompha', 'ompha', 'ZR28-D3-1', 'ZR28-D3-2', 'ZR28-D3-3', 'ZR28-D3-4', 'ZR28-E5-5', 'ZR28-E5-6', 'ZR28-E5-7', 'ZR28-H4-8', 'ZR28-H4-9', 'ZR28-H4-10', 'ZR28-H4-11', 'ZR28-H4-12', 'ZR28-H4-13', 'ZR28-H4-14', 'ZR28-H4-15', 'ZR28-H4-16', 'ZR28-H4-17', 'ZR28-H4-18', 'ZR28-H4-19', 'ZR28-H4-20', 'FZB0906-3C-1', 'FZB0906-3C-2', 'FZB0906-3C-3', 'FZB0906-3C-4', 'FZB0906-3C-5', 'FZB0906-3C-6', 'FZB0906-3C-7', 'FZB0906-2B-8', 'FZB0906-2B-9', 'FZB0906-6D-10', 'FZB0906-6D-11', 'FZB0906-6D-12', 'FZB0906-6D-13', 'FZB0906-6D-14', 'FZB0906-6D-15', 'FZB0906-6D-16', 'FZB0906-6D-17', 'FZB0906-3A-18', 'FZB0906-3A-19', 'FZB0906-3A-20', 'FZB0906-3A-21', 'FZB0906-3A-22', 'FZB0906-3A-23', 'FZB0906-3A-24']\n"
          ]
        }
      ]
    },
    {
      "cell_type": "code",
      "source": [
        "#QUESTO\n",
        "inFile = open(\"summary.txt\")\n",
        "outFile = open(\"result.txt\", \"w\")\n",
        "buffer = []\n",
        "print(\"buffer OUT: \",buffer)\n",
        "for line in inFile: \n",
        "    if line.startswith(\"Curr.(A) :\"):\n",
        "        buffer = ['ID\\t']\n",
        "        print(\"qui=>Curr.(A) :)\")\n",
        "        # print(\"buffer IN1: \",buffer, line)\n",
        "    elif line.startswith(\"Element\tf(chi)\"):\n",
        "      # QUI SI STOPPA E unisce gli elementi del buffer nel OUT\n",
        "        print(\"buffer IN1: \",buffer)\n",
        "        outFile.write(\"\".join(buffer))\n",
        "        \n",
        "        buffer = []\n",
        "        print(\"buffer IN2: \",buffer)\n",
        "    elif buffer:\n",
        "        # se il primo è partito e il secondo ancora non si è verificato allora\n",
        "        # BUFFER=> popolato di linee\n",
        "        line = '\\t'.join(line.split()) \n",
        "        buffer.append(line+'\\n')\n",
        "       \n",
        "inFile.close()\n",
        "outFile.close()"
      ],
      "metadata": {
        "id": "k5l9PNDcMfij"
      },
      "execution_count": null,
      "outputs": []
    },
    {
      "cell_type": "code",
      "source": [
        "import pandas\n",
        "data=pandas.read_table('result.txt')\n",
        "#print(data)\n",
        "#data.head()\n",
        "data\n",
        "#data.to_csv('data.txt')\n",
        "del data['Peak(mm)']\n",
        "del data['Net(cps)']\n",
        "del data['Bg-']\n",
        "del data['Bg+']\n",
        "\n",
        "data['sample'] = 'default value'\n",
        "data.to_excel(\"output.xlsx\")  "
      ],
      "metadata": {
        "id": "ftXfrjiQOThg"
      },
      "execution_count": 5,
      "outputs": []
    },
    {
      "cell_type": "code",
      "source": [
        "data"
      ],
      "metadata": {
        "id": "KBZM2K_WO7Z4"
      },
      "execution_count": null,
      "outputs": []
    },
    {
      "cell_type": "markdown",
      "source": [
        "FINE => il file risultante RESULT.TXT deve essere scaricato"
      ],
      "metadata": {
        "id": "Nat9QWgnKAPu"
      }
    },
    {
      "cell_type": "code",
      "source": [
        "#!/usr/bin/env python3\n",
        "# -*- coding: utf-8 -*-\n",
        "\"\"\"\n",
        "Created on Tue Mar 14 11:30:45 2023\n",
        "\n",
        "@author: alex\n",
        "\"\"\"\n",
        "\n",
        "file_in = open(\"summary.txt\", \"r\")\n",
        "outFile = open(\"result2.txt\", \"w\")\n",
        "\n",
        "lines = file_in.readlines()\n",
        "\n",
        "for i, line in enumerate(lines):\n",
        "    line_s = line.split()\n",
        "    if line_s:\n",
        "        try:\n",
        "            if(line_s[4] == \"Comment\"):\n",
        "                # Keep track of the comment value\n",
        "                comm = line_s[6]\n",
        "                # Just a spacing line\n",
        "                print()\n",
        "        except IndexError:\n",
        "            pass\n",
        "        \n",
        "        if(line_s[0] == \"Curr.(A)\"):\n",
        "#        if(line_s[0] == \"Element\t\"):  \n",
        "            print(\"ID {0} Comment\".format(lines[i+1][:-1]))\n",
        "            outFile.write(\"ID {0} Comment\\n\".format(lines[i+1][:-1]))\n",
        "            for j in range(2,12):\n",
        "                print(\"{0} {1}\\n\".format(lines[i+j][:-1], comm), end=\"\")\n",
        "                outFile.write(\"{0} {1}\\n\".format(lines[i+j][:-1], comm))\n",
        "                #outFile.write(\" {0}\\n\".format(lines))\n",
        "\n",
        "\n",
        "   \n",
        "\n",
        "file_in.close()\n",
        "outFile.close()\n"
      ],
      "metadata": {
        "id": "Sh1_nZ_vPbNw"
      },
      "execution_count": null,
      "outputs": []
    },
    {
      "cell_type": "code",
      "source": [
        "newopen = open(\"result3.txt\", \"w\")\n",
        "with open(\"result2.txt\") as f:\n",
        "  next(f)\n",
        "  for line in f:\n",
        "    if 'ID Element\tPeak(mm)' not in line:\n",
        "      newopen.write(line)\n",
        "      \n",
        "newopen.close()"
      ],
      "metadata": {
        "id": "a9APeDZ6oXi4"
      },
      "execution_count": 13,
      "outputs": []
    },
    {
      "cell_type": "code",
      "source": [
        "file_in2 = open(\"summary.txt\", \"r\")\n",
        "outFile = open(\"result4.txt\", \"w\")\n",
        "lines = file_in2.readlines()\n",
        "names = []\n",
        "Xs = []\n",
        "Ys = []\n",
        "\n",
        "for i, line in enumerate(lines):\n",
        "    line_s = line.split()\n",
        "    #print(line_s)\n",
        "    if line_s:\n",
        "        try:\n",
        "            if(line_s[4] == \"Comment\"):\n",
        "                # Keep track of the comment value\n",
        "                name = line_s[6]\n",
        "                names.append(name)\n",
        "                # Just a spacing line\n",
        "                #print(name) \n",
        "            elif(line_s[0] == \"Stage\"):\n",
        "                # Keep track of the comment value\n",
        "                x = line_s[3]\n",
        "                Xs.append(x)\n",
        "                y = line_s[5]\n",
        "                Ys.append(y)\n",
        "                # Just a spacing line\n",
        "                #print(x)\n",
        "        except IndexError:\n",
        "            pass\n",
        "\n",
        "import pandas as pd\n",
        "\n",
        "print(\"Sample: \",len(names))\n",
        "print(\"X: \", len(Xs))\n",
        "print(\"Y: \", len(Ys))\n",
        "out = pd.DataFrame(\n",
        "    {'Sample': names, \n",
        "     'X':Xs, \n",
        "     'Y':Ys\n",
        "     })\n",
        "#list(zip(names, Xs, Ys)))\n",
        "print(out)\n",
        "out.to_csv('coordinate.csv', index=False)"
      ],
      "metadata": {
        "colab": {
          "base_uri": "https://localhost:8080/"
        },
        "id": "faWDjUR_sZ_J",
        "outputId": "7f598316-534f-41e4-b7bb-b3db852f18ca"
      },
      "execution_count": 32,
      "outputs": [
        {
          "output_type": "stream",
          "name": "stdout",
          "text": [
            "Sample:  106\n",
            "X:  106\n",
            "Y:  106\n",
            "            Sample        X        Y\n",
            "0            gross  32.5465  28.5545\n",
            "1               ol  62.4680  22.2155\n",
            "2            ompha  58.6325  30.3200\n",
            "3        IV19-CC-1  41.5300  67.5810\n",
            "4        IV19-CC-2  40.1085  67.1640\n",
            "..             ...      ...      ...\n",
            "101  FZB0906-3A-20  58.3345  71.0505\n",
            "102  FZB0906-3A-21  58.3315  70.4375\n",
            "103  FZB0906-3A-22  58.2260  70.2735\n",
            "104  FZB0906-3A-23  57.7595  70.4585\n",
            "105  FZB0906-3A-24  57.8750  70.3270\n",
            "\n",
            "[106 rows x 3 columns]\n"
          ]
        }
      ]
    }
  ]
}