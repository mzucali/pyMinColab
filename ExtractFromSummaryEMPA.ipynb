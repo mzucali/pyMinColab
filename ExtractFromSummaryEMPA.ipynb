{
  "nbformat": 4,
  "nbformat_minor": 0,
  "metadata": {
    "colab": {
      "provenance": [],
      "authorship_tag": "ABX9TyN4gS/6fYRA2jAZCVvSg6yF",
      "include_colab_link": true
    },
    "kernelspec": {
      "name": "python3",
      "display_name": "Python 3"
    },
    "language_info": {
      "name": "python"
    }
  },
  "cells": [
    {
      "cell_type": "markdown",
      "metadata": {
        "id": "view-in-github",
        "colab_type": "text"
      },
      "source": [
        "<a href=\"https://colab.research.google.com/github/mzucali/pyMinColab/blob/main/ExtractFromSummaryEMPA.ipynb\" target=\"_parent\"><img src=\"https://colab.research.google.com/assets/colab-badge.svg\" alt=\"Open In Colab\"/></a>"
      ]
    },
    {
      "cell_type": "markdown",
      "source": [
        "LEGGE IL FILE SUMMARY.TXT ed estrae DL e SD:\n",
        "\n",
        "=>>input il file summary.txt o qualunque altro nome MA .TXT\n",
        "- start Marzo 2023\n",
        "- aggiornamento Novembre 2023"
      ],
      "metadata": {
        "id": "ahx7kYpNKhAu"
      }
    },
    {
      "cell_type": "code",
      "source": [
        "# load and read summary file from EMPA\n",
        "from google.colab import files\n",
        "uploaded = files.upload()\n",
        "\n",
        "for fn in uploaded.keys():\n",
        "  print('User uploaded file \"{name}\" with length {length} bytes'.format(\n",
        "      name=fn, length=len(uploaded[fn])))"
      ],
      "metadata": {
        "id": "xmO9WzXojvoC",
        "colab": {
          "base_uri": "https://localhost:8080/",
          "height": 92
        },
        "outputId": "aec59061-84bd-49fa-f203-b056c44b7ea4"
      },
      "execution_count": 1,
      "outputs": [
        {
          "output_type": "display_data",
          "data": {
            "text/plain": [
              "<IPython.core.display.HTML object>"
            ],
            "text/html": [
              "\n",
              "     <input type=\"file\" id=\"files-17fb26d4-a507-42f8-8b6a-e45ad662877f\" name=\"files[]\" multiple disabled\n",
              "        style=\"border:none\" />\n",
              "     <output id=\"result-17fb26d4-a507-42f8-8b6a-e45ad662877f\">\n",
              "      Upload widget is only available when the cell has been executed in the\n",
              "      current browser session. Please rerun this cell to enable.\n",
              "      </output>\n",
              "      <script>// Copyright 2017 Google LLC\n",
              "//\n",
              "// Licensed under the Apache License, Version 2.0 (the \"License\");\n",
              "// you may not use this file except in compliance with the License.\n",
              "// You may obtain a copy of the License at\n",
              "//\n",
              "//      http://www.apache.org/licenses/LICENSE-2.0\n",
              "//\n",
              "// Unless required by applicable law or agreed to in writing, software\n",
              "// distributed under the License is distributed on an \"AS IS\" BASIS,\n",
              "// WITHOUT WARRANTIES OR CONDITIONS OF ANY KIND, either express or implied.\n",
              "// See the License for the specific language governing permissions and\n",
              "// limitations under the License.\n",
              "\n",
              "/**\n",
              " * @fileoverview Helpers for google.colab Python module.\n",
              " */\n",
              "(function(scope) {\n",
              "function span(text, styleAttributes = {}) {\n",
              "  const element = document.createElement('span');\n",
              "  element.textContent = text;\n",
              "  for (const key of Object.keys(styleAttributes)) {\n",
              "    element.style[key] = styleAttributes[key];\n",
              "  }\n",
              "  return element;\n",
              "}\n",
              "\n",
              "// Max number of bytes which will be uploaded at a time.\n",
              "const MAX_PAYLOAD_SIZE = 100 * 1024;\n",
              "\n",
              "function _uploadFiles(inputId, outputId) {\n",
              "  const steps = uploadFilesStep(inputId, outputId);\n",
              "  const outputElement = document.getElementById(outputId);\n",
              "  // Cache steps on the outputElement to make it available for the next call\n",
              "  // to uploadFilesContinue from Python.\n",
              "  outputElement.steps = steps;\n",
              "\n",
              "  return _uploadFilesContinue(outputId);\n",
              "}\n",
              "\n",
              "// This is roughly an async generator (not supported in the browser yet),\n",
              "// where there are multiple asynchronous steps and the Python side is going\n",
              "// to poll for completion of each step.\n",
              "// This uses a Promise to block the python side on completion of each step,\n",
              "// then passes the result of the previous step as the input to the next step.\n",
              "function _uploadFilesContinue(outputId) {\n",
              "  const outputElement = document.getElementById(outputId);\n",
              "  const steps = outputElement.steps;\n",
              "\n",
              "  const next = steps.next(outputElement.lastPromiseValue);\n",
              "  return Promise.resolve(next.value.promise).then((value) => {\n",
              "    // Cache the last promise value to make it available to the next\n",
              "    // step of the generator.\n",
              "    outputElement.lastPromiseValue = value;\n",
              "    return next.value.response;\n",
              "  });\n",
              "}\n",
              "\n",
              "/**\n",
              " * Generator function which is called between each async step of the upload\n",
              " * process.\n",
              " * @param {string} inputId Element ID of the input file picker element.\n",
              " * @param {string} outputId Element ID of the output display.\n",
              " * @return {!Iterable<!Object>} Iterable of next steps.\n",
              " */\n",
              "function* uploadFilesStep(inputId, outputId) {\n",
              "  const inputElement = document.getElementById(inputId);\n",
              "  inputElement.disabled = false;\n",
              "\n",
              "  const outputElement = document.getElementById(outputId);\n",
              "  outputElement.innerHTML = '';\n",
              "\n",
              "  const pickedPromise = new Promise((resolve) => {\n",
              "    inputElement.addEventListener('change', (e) => {\n",
              "      resolve(e.target.files);\n",
              "    });\n",
              "  });\n",
              "\n",
              "  const cancel = document.createElement('button');\n",
              "  inputElement.parentElement.appendChild(cancel);\n",
              "  cancel.textContent = 'Cancel upload';\n",
              "  const cancelPromise = new Promise((resolve) => {\n",
              "    cancel.onclick = () => {\n",
              "      resolve(null);\n",
              "    };\n",
              "  });\n",
              "\n",
              "  // Wait for the user to pick the files.\n",
              "  const files = yield {\n",
              "    promise: Promise.race([pickedPromise, cancelPromise]),\n",
              "    response: {\n",
              "      action: 'starting',\n",
              "    }\n",
              "  };\n",
              "\n",
              "  cancel.remove();\n",
              "\n",
              "  // Disable the input element since further picks are not allowed.\n",
              "  inputElement.disabled = true;\n",
              "\n",
              "  if (!files) {\n",
              "    return {\n",
              "      response: {\n",
              "        action: 'complete',\n",
              "      }\n",
              "    };\n",
              "  }\n",
              "\n",
              "  for (const file of files) {\n",
              "    const li = document.createElement('li');\n",
              "    li.append(span(file.name, {fontWeight: 'bold'}));\n",
              "    li.append(span(\n",
              "        `(${file.type || 'n/a'}) - ${file.size} bytes, ` +\n",
              "        `last modified: ${\n",
              "            file.lastModifiedDate ? file.lastModifiedDate.toLocaleDateString() :\n",
              "                                    'n/a'} - `));\n",
              "    const percent = span('0% done');\n",
              "    li.appendChild(percent);\n",
              "\n",
              "    outputElement.appendChild(li);\n",
              "\n",
              "    const fileDataPromise = new Promise((resolve) => {\n",
              "      const reader = new FileReader();\n",
              "      reader.onload = (e) => {\n",
              "        resolve(e.target.result);\n",
              "      };\n",
              "      reader.readAsArrayBuffer(file);\n",
              "    });\n",
              "    // Wait for the data to be ready.\n",
              "    let fileData = yield {\n",
              "      promise: fileDataPromise,\n",
              "      response: {\n",
              "        action: 'continue',\n",
              "      }\n",
              "    };\n",
              "\n",
              "    // Use a chunked sending to avoid message size limits. See b/62115660.\n",
              "    let position = 0;\n",
              "    do {\n",
              "      const length = Math.min(fileData.byteLength - position, MAX_PAYLOAD_SIZE);\n",
              "      const chunk = new Uint8Array(fileData, position, length);\n",
              "      position += length;\n",
              "\n",
              "      const base64 = btoa(String.fromCharCode.apply(null, chunk));\n",
              "      yield {\n",
              "        response: {\n",
              "          action: 'append',\n",
              "          file: file.name,\n",
              "          data: base64,\n",
              "        },\n",
              "      };\n",
              "\n",
              "      let percentDone = fileData.byteLength === 0 ?\n",
              "          100 :\n",
              "          Math.round((position / fileData.byteLength) * 100);\n",
              "      percent.textContent = `${percentDone}% done`;\n",
              "\n",
              "    } while (position < fileData.byteLength);\n",
              "  }\n",
              "\n",
              "  // All done.\n",
              "  yield {\n",
              "    response: {\n",
              "      action: 'complete',\n",
              "    }\n",
              "  };\n",
              "}\n",
              "\n",
              "scope.google = scope.google || {};\n",
              "scope.google.colab = scope.google.colab || {};\n",
              "scope.google.colab._files = {\n",
              "  _uploadFiles,\n",
              "  _uploadFilesContinue,\n",
              "};\n",
              "})(self);\n",
              "</script> "
            ]
          },
          "metadata": {}
        },
        {
          "output_type": "stream",
          "name": "stdout",
          "text": [
            "Saving 4-4-23.txt to 4-4-23.txt\n",
            "User uploaded file \"4-4-23.txt\" with length 31803 bytes\n"
          ]
        }
      ]
    },
    {
      "cell_type": "code",
      "source": [
        "num_elements = input(\"QUANTI ELEMENTI ANALIZZATI? \")\n",
        "#num_elements = 11\n",
        "loop = int(num_elements)+2"
      ],
      "metadata": {
        "id": "FUPCtud4kAOn",
        "colab": {
          "base_uri": "https://localhost:8080/"
        },
        "outputId": "e8c4e2d6-9051-4dc6-bbb2-570c8eb184eb"
      },
      "execution_count": 2,
      "outputs": [
        {
          "name": "stdout",
          "output_type": "stream",
          "text": [
            "QUANTI ELEMENTI ANALIZZATI? 10\n"
          ]
        }
      ]
    },
    {
      "cell_type": "markdown",
      "source": [
        "Estrazione SD"
      ],
      "metadata": {
        "id": "z3B2NvZFyOVW"
      }
    },
    {
      "cell_type": "code",
      "source": [
        "#!/usr/bin/env python3\n",
        "# -*- coding: utf-8 -*-\n",
        "\"\"\"\n",
        "Created on Tue Mar 14 11:30:45 2023\n",
        "GRAZIE ALESSANDRO COMUNIAN\n",
        "@author: alex\n",
        "\"\"\"\n",
        "\n",
        "#file_in = open(\"summary.txt\", \"r\")\n",
        "file_in = open(fn,\"r\")\n",
        "outFile = open(\"result2_tmpSD.txt\", \"w\")\n",
        "\n",
        "lines = file_in.readlines()\n",
        "\n",
        "for i, line in enumerate(lines):\n",
        "    # Just a spacing line\n",
        "    #line_sp = line.split()\n",
        "    #print(line_sp)\n",
        "    line_s = line.split(\"\\t\")\n",
        "    #print(line_s)\n",
        "    if line_s:\n",
        "        try:\n",
        "            if(line_s[2] == \"Comment :\"):\n",
        "                #print(\"line_s[2]\",line_s[2])\n",
        "                # Keep track of the comment value\n",
        "                comm = line_s[3]\n",
        "                # Just a spacing line\n",
        "                #print(\"comm\",comm)\n",
        "        except IndexError:\n",
        "            pass\n",
        "\n",
        "        if(line_s[0] == \"Curr.(A) :\"):\n",
        "#        if(line_s[0] == \"Element\t\"):\n",
        "            #print(\"ID {0} Comment\".format(lines[i+1][:-1]))\n",
        "            outFile.write(\"ID {0} Comment\\n\".format(lines[i+1][:-1]))\n",
        "            for j in range(2,loop):\n",
        "                #print(\"{0} {1}\\n\".format(lines[i+j][:-1], comm), end=\"\")\n",
        "                outFile.write(\"{0} {1}\\n\".format(lines[i+j][:-1], comm))\n",
        "                #outFile.write(\" {0}\\n\".format(lines))\n",
        "\n",
        "file_in.close()\n",
        "outFile.close() #result2.txt\n",
        "\n",
        "print(\"completed SD extraction\")"
      ],
      "metadata": {
        "id": "Sh1_nZ_vPbNw",
        "colab": {
          "base_uri": "https://localhost:8080/"
        },
        "outputId": "3056198c-a42e-4b3f-b230-88f2ce860533"
      },
      "execution_count": 39,
      "outputs": [
        {
          "output_type": "stream",
          "name": "stdout",
          "text": [
            "completed SD extraction\n"
          ]
        }
      ]
    },
    {
      "cell_type": "markdown",
      "source": [
        "Remove spaces SD"
      ],
      "metadata": {
        "id": "5oBvlav1-F9O"
      }
    },
    {
      "cell_type": "code",
      "source": [
        "#RESULT3 con spazi e tab corretti SD\n",
        "newopen = open(\"result2_final_tmpSD.txt\", \"w\")\n",
        "with open(\"result2_tmpSD.txt\") as f:\n",
        "  first_line = f.readline()\n",
        "  first_line_split = first_line.split()\n",
        "  first_line = '\\t'.join(first_line_split)+'\\n'\n",
        "  newopen.write(first_line)\n",
        "  #print(first_line)\n",
        "\n",
        "with open(\"result2_tmpSD.txt\") as f:\n",
        "  for line in f:\n",
        "    if 'ID Element\tPeak(mm)' not in line:\n",
        "      line_split = line.split()\n",
        "      line = '\\t'.join(line_split)+'\\n'\n",
        "      #print(line)\n",
        "      newopen.write(line)\n",
        "newopen.close()\n",
        "\n",
        "\n",
        "input_file_path = 'result2_final_tmpSD.txt'\n",
        "output_file_path = 'result2_finalSD.txt'\n",
        "\n",
        "# Read the file and filter out empty lines\n",
        "with open(input_file_path, 'r') as file:\n",
        "    lines = file.readlines()\n",
        "    non_empty_lines = [line.strip() for line in lines if line.strip()]\n",
        "\n",
        "# Write non-empty lines back to the file\n",
        "with open(output_file_path, 'w') as file:\n",
        "    file.write('\\n'.join(non_empty_lines))\n",
        "\n",
        "\n",
        "os.remove(input_file_path)\n",
        "os.remove('result2_tmpSD.txt')\n",
        "\n",
        "\n",
        "print(\"completed SD\")"
      ],
      "metadata": {
        "id": "a9APeDZ6oXi4",
        "colab": {
          "base_uri": "https://localhost:8080/"
        },
        "outputId": "91ff7e49-3530-47af-e094-c9b701d37cb7"
      },
      "execution_count": 40,
      "outputs": [
        {
          "output_type": "stream",
          "name": "stdout",
          "text": [
            "completed\n"
          ]
        }
      ]
    },
    {
      "cell_type": "markdown",
      "source": [
        "Estrazione OX"
      ],
      "metadata": {
        "id": "FhSzR_aNyWkf"
      }
    },
    {
      "cell_type": "code",
      "source": [
        "#file_in = open(\"summary.txt\", \"r\")\n",
        "file_in = open(fn,\"r\")\n",
        "outFile = open(\"result2_tmpOx.txt\", \"w\")\n",
        "\n",
        "lines = file_in.readlines()\n",
        "\n",
        "for i, line in enumerate(lines):\n",
        "    # Just a spacing line\n",
        "    #line_sp = line.split()\n",
        "    #print(line_sp)\n",
        "    line_s = line.split(\"\\t\")\n",
        "    #line_s.index\n",
        "    #print(\"line_s1\",line_s)\n",
        "    if line_s:\n",
        "        try:\n",
        "            if(line_s[2] == \"Comment :\"):\n",
        "                #print(\"line_s[2]\",line_s[2])\n",
        "                # Keep track of the comment value\n",
        "                comm = line_s[3]\n",
        "                # Just a spacing line\n",
        "                #print(\"comm\",comm)\n",
        "        except IndexError:\n",
        "            pass\n",
        "        #print(\"line_s[0]\",line_s[2])\n",
        "        #print(\"line \",line)\n",
        "        if len(line_s) == 1:\n",
        "          pass\n",
        "        else:\n",
        "          if(line_s[1] == \"El.\"):\n",
        "            #print(\"lines[i][:-1] \",lines[i][:-1])\n",
        "            #print(\"ID {0} Comment\".format(lines[i][:-1]))\n",
        "            outFile.write(\"ID {0} Comment\\n\".format(lines[i][:-1]))\n",
        "            for j in range(2,loop+1): #loop+1 perchè non estrae un elemento\n",
        "              #print(\"{0} {1}\\n\".format(lines[i+j][:-1], comm), end=\"\")\n",
        "              outFile.write(\"{0} {1}\\n\".format(lines[i+j][:-1], comm))\n",
        "              #outFile.write(\" {0}\\n\".format(lines))\n",
        "\n",
        "file_in.close()\n",
        "outFile.close() #result2.txt\n",
        "\n",
        "print(\"completed OX extraction\")"
      ],
      "metadata": {
        "colab": {
          "base_uri": "https://localhost:8080/"
        },
        "id": "pfgKP1LU0dk9",
        "outputId": "7f693b91-f448-4e71-a893-b9e7ff0bf514"
      },
      "execution_count": 41,
      "outputs": [
        {
          "output_type": "stream",
          "name": "stdout",
          "text": [
            "completed OX extraction\n"
          ]
        }
      ]
    },
    {
      "cell_type": "code",
      "source": [
        "#RESULT3 con spazi e tab corretti OX\n",
        "newopen = open(\"result2_finalTmpOx.txt\", \"w\")\n",
        "with open(\"result2_tmpOx.txt\") as f:\n",
        "  first_line = f.readline()\n",
        "  first_line_split = first_line.split()\n",
        "  first_line = '\\t'.join(first_line_split)+'\\n'\n",
        "  newopen.write(first_line)\n",
        "  #print(first_line)\n",
        "\n",
        "with open(\"result2_tmpOx.txt\") as f:\n",
        "  for line in f:\n",
        "    if 'ID Element\tEl.' not in line:\n",
        "      line_split = line.split()\n",
        "      line = '\\t'.join(line_split)+'\\n'\n",
        "      #print(line)\n",
        "      newopen.write(line)\n",
        "newopen.close()\n",
        "\n",
        "input_file_path = 'result2_finalTmpOx.txt'\n",
        "output_file_path = 'result2_finalOx.txt'\n",
        "\n",
        "# Read the file and filter out empty lines\n",
        "with open(input_file_path, 'r') as file:\n",
        "    lines = file.readlines()\n",
        "    non_empty_lines = [line.strip() for line in lines if line.strip()]\n",
        "\n",
        "# Write non-empty lines back to the file\n",
        "with open(output_file_path, 'w') as file:\n",
        "    file.write('\\n'.join(non_empty_lines))\n",
        "\n",
        "os.remove(input_file_path)\n",
        "os.remove('result2_tmpOx.txt')\n",
        "\n",
        "print(\"completed OX\")"
      ],
      "metadata": {
        "colab": {
          "base_uri": "https://localhost:8080/"
        },
        "id": "BsAszU7qBeB_",
        "outputId": "f6a61cc9-b558-48b6-ba40-7e3298f31d32"
      },
      "execution_count": 42,
      "outputs": [
        {
          "output_type": "stream",
          "name": "stdout",
          "text": [
            "completed\n"
          ]
        }
      ]
    },
    {
      "cell_type": "markdown",
      "source": [
        "RESULT3.TXT con dati estratti di SD e DL"
      ],
      "metadata": {
        "id": "XkCr4ykTrOwd"
      }
    },
    {
      "cell_type": "markdown",
      "source": [
        "Extract X-Y coordinates"
      ],
      "metadata": {
        "id": "af8Li3FE9rfN"
      }
    },
    {
      "cell_type": "code",
      "source": [
        "# EXTRACT X and Y coodinates\n",
        "file_in2 = open(fn, \"r\")\n",
        "lines = file_in2.readlines()\n",
        "names = []\n",
        "Xs = []\n",
        "Ys = []\n",
        "Zs = []\n",
        "\n",
        "for i, line in enumerate(lines):\n",
        "    line_s = line.split()\n",
        "    #print(line_s)\n",
        "    if line_s:\n",
        "        try:\n",
        "            if(line_s[4] == \"Comment\"):\n",
        "                # Keep track of the comment value\n",
        "                name = line_s[6]\n",
        "                names.append(name)\n",
        "                # Just a spacing line\n",
        "            elif(line_s[0] == \"Stage\"):\n",
        "                # Keep track of the comment value\n",
        "                x = line_s[3]\n",
        "                Xs.append(x)\n",
        "                y = line_s[5]\n",
        "                Ys.append(y)\n",
        "                z = line_s[7]\n",
        "                Zs.append(z)\n",
        "                # Just a spacing line\n",
        "        except IndexError:\n",
        "            pass\n",
        "\n",
        "import pandas as pd\n",
        "# Just a spacing line\n",
        "print(\"Sample: \",len(names))\n",
        "print(\"X: \", len(Xs))\n",
        "print(\"Y: \", len(Ys))\n",
        "print(\"Z: \", len(Zs))\n",
        "out = pd.DataFrame(\n",
        "    {'Sample': names,\n",
        "     'X':Xs,\n",
        "     'Y':Ys,\n",
        "     'Z':Zs\n",
        "     })\n",
        "# Just a spacing line\n",
        "#print(out)\n",
        "out.to_csv('coordinate.csv', index=False)"
      ],
      "metadata": {
        "id": "faWDjUR_sZ_J"
      },
      "execution_count": null,
      "outputs": []
    },
    {
      "cell_type": "markdown",
      "source": [
        "Delete temporary *files*"
      ],
      "metadata": {
        "id": "j4rIv5f59zvU"
      }
    },
    {
      "cell_type": "code",
      "source": [
        "\n",
        "import os\n",
        "file_path = 'result2_tmpSD.txt'\n",
        "if os.path.exists(file_path):\n",
        "    # Delete the file\n",
        "    os.remove(file_path)\n",
        "    print(f\"File '{file_path}' has been deleted.\")\n",
        "else:\n",
        "    print(f\"File '{file_path}' does not exist.\")\n",
        "\n",
        "file_path = 'result2_final_tmpSD.txt'\n",
        "if os.path.exists(file_path):\n",
        "    # Delete the file\n",
        "    os.remove(file_path)\n",
        "    print(f\"File '{file_path}' has been deleted.\")\n",
        "else:\n",
        "    print(f\"File '{file_path}' does not exist.\")\n",
        "\n"
      ],
      "metadata": {
        "id": "kpSqSjh1kxzD"
      },
      "execution_count": null,
      "outputs": []
    },
    {
      "cell_type": "markdown",
      "source": [
        "COORDINATE.CSV con sample name e coordinate X e Y"
      ],
      "metadata": {
        "id": "wtj4NXthrYcf"
      }
    },
    {
      "cell_type": "markdown",
      "source": [
        "TUTTO DA **SCARICARE**"
      ],
      "metadata": {
        "id": "1uC6qsferhUc"
      }
    }
  ]
}