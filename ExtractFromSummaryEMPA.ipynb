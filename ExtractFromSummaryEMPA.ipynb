{
  "nbformat": 4,
  "nbformat_minor": 0,
  "metadata": {
    "colab": {
      "provenance": [],
      "authorship_tag": "ABX9TyNo1tWEJ9xBWtIV40f0HUZ8",
      "include_colab_link": true
    },
    "kernelspec": {
      "name": "python3",
      "display_name": "Python 3"
    },
    "language_info": {
      "name": "python"
    }
  },
  "cells": [
    {
      "cell_type": "markdown",
      "metadata": {
        "id": "view-in-github",
        "colab_type": "text"
      },
      "source": [
        "<a href=\"https://colab.research.google.com/github/mzucali/pyMinColab/blob/main/ExtractFromSummaryEMPA.ipynb\" target=\"_parent\"><img src=\"https://colab.research.google.com/assets/colab-badge.svg\" alt=\"Open In Colab\"/></a>"
      ]
    },
    {
      "cell_type": "markdown",
      "source": [
        "LEGGE IL FILE SUMMARY.TXT ed estrae DL e SD:\n",
        "\n",
        "=>>input il file summary.txt o qualunque altro nome MA .TXT\n",
        "- start Marzo 2023\n",
        "- aggiornamento Novembre 2023"
      ],
      "metadata": {
        "id": "ahx7kYpNKhAu"
      }
    },
    {
      "cell_type": "code",
      "source": [
        "# load and read summary file from EMPA\n",
        "from google.colab import files\n",
        "uploaded = files.upload()\n",
        "\n",
        "for fn in uploaded.keys():\n",
        "  print('User uploaded file \"{name}\" with length {length} bytes'.format(\n",
        "      name=fn, length=len(uploaded[fn])))"
      ],
      "metadata": {
        "id": "xmO9WzXojvoC"
      },
      "execution_count": null,
      "outputs": []
    },
    {
      "cell_type": "code",
      "source": [
        "num_elements = input(\"QUANTI ELEMENTI ANALIZZATI? \")\n",
        "#num_elements = 11\n",
        "loop = int(num_elements)+2"
      ],
      "metadata": {
        "id": "FUPCtud4kAOn"
      },
      "execution_count": null,
      "outputs": []
    },
    {
      "cell_type": "markdown",
      "source": [
        "Estrazione SD"
      ],
      "metadata": {
        "id": "z3B2NvZFyOVW"
      }
    },
    {
      "cell_type": "code",
      "source": [
        "#!/usr/bin/env python3\n",
        "# -*- coding: utf-8 -*-\n",
        "\"\"\"\n",
        "Created on Tue Mar 14 11:30:45 2023\n",
        "GRAZIE ALESSANDRO COMUNIAN\n",
        "@author: alex\n",
        "\"\"\"\n",
        "\n",
        "#file_in = open(\"summary.txt\", \"r\")\n",
        "file_in = open(fn,\"r\")\n",
        "outFile = open(\"result2_tmpSD.txt\", \"w\")\n",
        "\n",
        "lines = file_in.readlines()\n",
        "\n",
        "for i, line in enumerate(lines):\n",
        "    # Just a spacing line\n",
        "    #line_sp = line.split()\n",
        "    #print(line_sp)\n",
        "    line_s = line.split(\"\\t\")\n",
        "    #print(line_s)\n",
        "    if line_s:\n",
        "        try:\n",
        "            if(line_s[2] == \"Comment :\"):\n",
        "                #print(\"line_s[2]\",line_s[2])\n",
        "                # Keep track of the comment value\n",
        "                comm = line_s[3]\n",
        "                # Just a spacing line\n",
        "                #print(\"comm\",comm)\n",
        "        except IndexError:\n",
        "            pass\n",
        "\n",
        "        if(line_s[0] == \"Curr.(A) :\"):\n",
        "#        if(line_s[0] == \"Element\t\"):\n",
        "            #print(\"ID {0} Comment\".format(lines[i+1][:-1]))\n",
        "            outFile.write(\"ID {0} Comment\\n\".format(lines[i+1][:-1]))\n",
        "            for j in range(2,loop):\n",
        "                #print(\"{0} {1}\\n\".format(lines[i+j][:-1], comm), end=\"\")\n",
        "                outFile.write(\"{0} {1}\\n\".format(lines[i+j][:-1], comm))\n",
        "                #outFile.write(\" {0}\\n\".format(lines))\n",
        "\n",
        "file_in.close()\n",
        "outFile.close() #result2.txt\n",
        "\n",
        "print(\"completed SD extraction\")"
      ],
      "metadata": {
        "id": "Sh1_nZ_vPbNw"
      },
      "execution_count": null,
      "outputs": []
    },
    {
      "cell_type": "markdown",
      "source": [
        "Remove spaces SD"
      ],
      "metadata": {
        "id": "5oBvlav1-F9O"
      }
    },
    {
      "cell_type": "code",
      "source": [
        "#RESULT3 con spazi e tab corretti SD\n",
        "newopen = open(\"result2_final_tmpSD.txt\", \"w\")\n",
        "with open(\"result2_tmpSD.txt\") as f:\n",
        "  first_line = f.readline()\n",
        "  first_line_split = first_line.split()\n",
        "  first_line = '\\t'.join(first_line_split)+'\\n'\n",
        "  newopen.write(first_line)\n",
        "  #print(first_line)\n",
        "\n",
        "with open(\"result2_tmpSD.txt\") as f:\n",
        "  for line in f:\n",
        "    if 'ID Element\tPeak(mm)' not in line:\n",
        "      line_split = line.split()\n",
        "      line = '\\t'.join(line_split)+'\\n'\n",
        "      #print(line)\n",
        "      newopen.write(line)\n",
        "newopen.close()\n",
        "\n",
        "\n",
        "input_file_path = 'result2_final_tmpSD.txt'\n",
        "output_file_path = 'result2_finalSD.txt'\n",
        "\n",
        "# Read the file and filter out empty lines\n",
        "with open(input_file_path, 'r') as file:\n",
        "    lines = file.readlines()\n",
        "    non_empty_lines = [line.strip() for line in lines if line.strip()]\n",
        "\n",
        "# Write non-empty lines back to the file\n",
        "with open(output_file_path, 'w') as file:\n",
        "    file.write('\\n'.join(non_empty_lines))\n",
        "\n",
        "import os\n",
        "os.remove(input_file_path)\n",
        "os.remove('result2_tmpSD.txt')\n",
        "\n",
        "\n",
        "print(\"completed SD\")"
      ],
      "metadata": {
        "id": "a9APeDZ6oXi4"
      },
      "execution_count": null,
      "outputs": []
    },
    {
      "cell_type": "markdown",
      "source": [
        "Estrazione OX"
      ],
      "metadata": {
        "id": "FhSzR_aNyWkf"
      }
    },
    {
      "cell_type": "code",
      "source": [
        "#file_in = open(\"summary.txt\", \"r\")\n",
        "file_in = open(fn,\"r\")\n",
        "outFile = open(\"result2_tmpOx.txt\", \"w\")\n",
        "\n",
        "lines = file_in.readlines()\n",
        "\n",
        "for i, line in enumerate(lines):\n",
        "    # Just a spacing line\n",
        "    #line_sp = line.split()\n",
        "    #print(line_sp)\n",
        "    line_s = line.split(\"\\t\")\n",
        "    #line_s.index\n",
        "    #print(\"line_s1\",line_s)\n",
        "    if line_s:\n",
        "        try:\n",
        "            if(line_s[2] == \"Comment :\"):\n",
        "                #print(\"line_s[2]\",line_s[2])\n",
        "                # Keep track of the comment value\n",
        "                comm = line_s[3]\n",
        "                # Just a spacing line\n",
        "                #print(\"comm\",comm)\n",
        "        except IndexError:\n",
        "            pass\n",
        "        #print(\"line_s[0]\",line_s[2])\n",
        "        #print(\"line \",line)\n",
        "        if len(line_s) == 1:\n",
        "          pass\n",
        "        else:\n",
        "          if(line_s[1] == \"El.\"):\n",
        "            #print(\"lines[i][:-1] \",lines[i][:-1])\n",
        "            #print(\"ID {0} Comment\".format(lines[i][:-1]))\n",
        "            outFile.write(\"ID {0} Comment\\n\".format(lines[i][:-1]))\n",
        "            for j in range(1,loop-1): #loop+1 perchè non estrae un elemento\n",
        "              #print(\"{0} {1}\\n\".format(lines[i+j][:-1], comm), end=\"\")\n",
        "              outFile.write(\"{0} {1}\\n\".format(lines[i+j][:-1], comm))\n",
        "              #outFile.write(\" {0}\\n\".format(lines))\n",
        "\n",
        "file_in.close()\n",
        "outFile.close() #result2.txt\n",
        "\n",
        "print(\"completed OX extraction\")"
      ],
      "metadata": {
        "id": "pfgKP1LU0dk9"
      },
      "execution_count": null,
      "outputs": []
    },
    {
      "cell_type": "code",
      "source": [
        "#RESULT3 con spazi e tab corretti OX\n",
        "newopen = open(\"result2_finalTmpOx.txt\", \"w\")\n",
        "with open(\"result2_tmpOx.txt\") as f:\n",
        "  first_line = f.readline()\n",
        "  first_line_split = first_line.split()\n",
        "  first_line = '\\t'.join(first_line_split)+'\\n'\n",
        "  newopen.write(first_line)\n",
        "  #print(first_line)\n",
        "\n",
        "with open(\"result2_tmpOx.txt\") as f:\n",
        "  for line in f:\n",
        "    if 'ID Element\tEl.' not in line:\n",
        "      line_split = line.split()\n",
        "      line = '\\t'.join(line_split)+'\\n'\n",
        "      #print(line)\n",
        "      newopen.write(line)\n",
        "newopen.close()\n",
        "\n",
        "input_file_path = 'result2_finalTmpOx.txt'\n",
        "output_file_path = 'result2_finalOx.txt'\n",
        "\n",
        "# Read the file and filter out empty lines\n",
        "with open(input_file_path, 'r') as file:\n",
        "    lines = file.readlines()\n",
        "    non_empty_lines = [line.strip() for line in lines if line.strip()]\n",
        "\n",
        "# Write non-empty lines back to the file\n",
        "with open(output_file_path, 'w') as file:\n",
        "    file.write('\\n'.join(non_empty_lines))\n",
        "\n",
        "os.remove(input_file_path)\n",
        "os.remove('result2_tmpOx.txt')\n",
        "\n",
        "print(\"completed OX\")"
      ],
      "metadata": {
        "id": "BsAszU7qBeB_"
      },
      "execution_count": null,
      "outputs": []
    },
    {
      "cell_type": "markdown",
      "source": [
        "RESULT3.TXT con dati estratti di SD e DL"
      ],
      "metadata": {
        "id": "XkCr4ykTrOwd"
      }
    },
    {
      "cell_type": "markdown",
      "source": [
        "Extract X-Y coordinates"
      ],
      "metadata": {
        "id": "af8Li3FE9rfN"
      }
    },
    {
      "cell_type": "code",
      "source": [
        "# EXTRACT X and Y coodinates\n",
        "file_in2 = open(fn, \"r\")\n",
        "lines = file_in2.readlines()\n",
        "names = []\n",
        "Xs = []\n",
        "Ys = []\n",
        "Zs = []\n",
        "\n",
        "for i, line in enumerate(lines):\n",
        "    line_s = line.split()\n",
        "    #print(line_s)\n",
        "    if line_s:\n",
        "        try:\n",
        "            if(line_s[4] == \"Comment\"):\n",
        "                # Keep track of the comment value\n",
        "                name = line_s[6]\n",
        "                names.append(name)\n",
        "                # Just a spacing line\n",
        "            elif(line_s[0] == \"Stage\"):\n",
        "                # Keep track of the comment value\n",
        "                x = line_s[3]\n",
        "                Xs.append(x)\n",
        "                y = line_s[5]\n",
        "                Ys.append(y)\n",
        "                z = line_s[7]\n",
        "                Zs.append(z)\n",
        "                # Just a spacing line\n",
        "        except IndexError:\n",
        "            pass\n",
        "\n",
        "import pandas as pd\n",
        "# Just a spacing line\n",
        "print(\"Sample: \",len(names))\n",
        "print(\"X: \", len(Xs))\n",
        "print(\"Y: \", len(Ys))\n",
        "print(\"Z: \", len(Zs))\n",
        "out = pd.DataFrame(\n",
        "    {'Sample': names,\n",
        "     'X':Xs,\n",
        "     'Y':Ys,\n",
        "     'Z':Zs\n",
        "     })\n",
        "# Just a spacing line\n",
        "#print(out)\n",
        "out.to_csv('coordinate.csv', index=False)"
      ],
      "metadata": {
        "id": "faWDjUR_sZ_J"
      },
      "execution_count": null,
      "outputs": []
    },
    {
      "cell_type": "markdown",
      "source": [
        "COORDINATE.CSV con sample name e coordinate X e Y"
      ],
      "metadata": {
        "id": "wtj4NXthrYcf"
      }
    },
    {
      "cell_type": "markdown",
      "source": [
        "TUTTO DA **SCARICARE**"
      ],
      "metadata": {
        "id": "1uC6qsferhUc"
      }
    }
  ]
}