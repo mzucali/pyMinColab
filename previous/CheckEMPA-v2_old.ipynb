{
 "cells": [
  {
   "cell_type": "markdown",
   "id": "0ba7eb0b-614e-4107-a6d5-20a24e8a576d",
   "metadata": {},
   "source": [
    "# CHECK ANALISI EMPA"
   ]
  },
  {
   "cell_type": "code",
   "execution_count": null,
   "id": "cc1817e8-5b1f-4d55-a9a4-fdfa46c6d572",
   "metadata": {},
   "outputs": [],
   "source": [
    "import sys\n",
    "print('Python: {}'.format(sys.version))\n",
    "# scipy\n",
    "import scipy\n",
    "print('scipy: {}'.format(scipy.__version__))\n",
    "# numpy\n",
    "import numpy\n",
    "print('numpy: {}'.format(numpy.__version__))\n",
    "# matplotlib\n",
    "import matplotlib\n",
    "print('matplotlib: {}'.format(matplotlib.__version__))\n",
    "# pandas\n",
    "import pandas\n",
    "print('pandas: {}'.format(pandas.__version__))\n",
    "# scikit-learn\n",
    "import sklearn\n",
    "print('sklearn: {}'.format(sklearn.__version__))\n",
    "import pandasgui\n",
    "import ipympl\n",
    "#%matplotlib widget\n",
    "import seaborn as sns\n",
    "import ipywidgets as widgets\n",
    "import io"
   ]
  },
  {
   "cell_type": "code",
   "execution_count": null,
   "id": "69cd00d0-b2ef-4f50-ae37-1c04787e0b12",
   "metadata": {},
   "outputs": [],
   "source": [
    "from pandas import read_csv, read_excel\n",
    "from pandas.plotting import scatter_matrix\n",
    "from matplotlib import pyplot as plt\n",
    "from pandasgui import show"
   ]
  },
  {
   "cell_type": "markdown",
   "id": "48cf3f80-9bf4-411c-9567-8b24556d127f",
   "metadata": {
    "jp-MarkdownHeadingCollapsed": true,
    "tags": []
   },
   "source": [
    "## UPLOAD DATA FILE"
   ]
  },
  {
   "cell_type": "code",
   "execution_count": null,
   "id": "bd87507d-9db1-44b5-99aa-6756bb2d40b5",
   "metadata": {
    "tags": []
   },
   "outputs": [],
   "source": [
    "uploader=widgets.FileUpload(\n",
    "    accept='*.xlsx',  # Accepted file extension e.g. '.txt', '.pdf', 'image/*', 'image/*,.pdf'\n",
    "    multiple=False  # True to accept multiple files upload else False\n",
    ")"
   ]
  },
  {
   "cell_type": "code",
   "execution_count": null,
   "id": "31b247a9-dc75-44ad-908c-7ba36ee761f4",
   "metadata": {
    "tags": []
   },
   "outputs": [],
   "source": [
    "uploader"
   ]
  },
  {
   "cell_type": "code",
   "execution_count": null,
   "id": "2163c347-e5c8-4302-a412-19d535060709",
   "metadata": {
    "tags": []
   },
   "outputs": [],
   "source": [
    "uploader.value[0]\n",
    "uploaded_file = uploader.value[0]\n",
    "data=read_excel(io.BytesIO(uploaded_file.content))"
   ]
  },
  {
   "cell_type": "markdown",
   "id": "0cab7764-b4aa-481a-8f07-e5b112f75ef1",
   "metadata": {},
   "source": [
    "## RUN"
   ]
  },
  {
   "cell_type": "code",
   "execution_count": null,
   "id": "edf06771-c570-496d-b73b-13f061b7d7f2",
   "metadata": {
    "tags": []
   },
   "outputs": [],
   "source": [
    "fnOX='/Users/miki/Dropbox/Mac/Downloads/9-3-23-ox.txt'\n",
    "fnSD='/Users/miki/Dropbox/Mac/Downloads/9-3-23-SD.txt'\n",
    "\n",
    "\n",
    "#fnSummary='/Users/miki/Dropbox/Development/MLMachineLearning/pythonML/ML_test2023/minerals/testSD/4-4-23.txt'\n",
    "#OX = read_csv(fnOX, sep='\\t', skiprows=2, skipfooter=5, engine='python') #engine='python'\n",
    "#OX = read_csv(fnOX)\n",
    "#OX = read_csv(fnOX, skiprows=2, sep='\\t')[:-5]\n",
    "#SD = read_csv(fnSD, skiprows=2, sep='\\t')[:-5]\n",
    "OX = read_csv(fnOX, sep='\\t')\n",
    "#OX = read_csv(fnOX, sep='\\t', skiprows=[1])\n",
    "SD = read_csv(fnSD, sep='\\t', skiprows=[1])\n",
    "print(OX)\n",
    "print(SD)\n",
    "#print(OX.columns)\n",
    "#OX.rename(columns=lambda x: x.replace(' ', ''), inplace=True)\n",
    "print(OX.columns)\n",
    "#print(SD.columns)\n",
    "#SD.rename(columns=lambda x: x.replace(' ', ''), inplace=True)\n",
    "print(SD.columns)"
   ]
  },
  {
   "cell_type": "code",
   "execution_count": null,
   "id": "3c98c018-e14d-437c-bf49-1583fc9c6c1a",
   "metadata": {
    "tags": []
   },
   "outputs": [],
   "source": [
    "OX.head()"
   ]
  },
  {
   "cell_type": "code",
   "execution_count": null,
   "id": "4d1477db-5cbe-4940-889b-a11ce2ef22fa",
   "metadata": {
    "tags": []
   },
   "outputs": [],
   "source": [
    "SD.head()"
   ]
  },
  {
   "cell_type": "code",
   "execution_count": null,
   "id": "25944679-aac4-4a52-aa3e-99b2d8d054bf",
   "metadata": {
    "tags": []
   },
   "outputs": [],
   "source": [
    "## kjkajkja\n",
    "plt.scatter(OX.SiO2, SD.Si, label='Si', color='blue')\n",
    "plt.scatter(OX.Al2O3, SD.Al, label='Al', color='red')\n",
    "plt.scatter(OX.MnO, SD.Mn, label='Mn', color='yellow')\n",
    "plt.scatter(OX.FeO, SD.Fe, label='Fe', color='black')\n",
    "#plt.scatter(OX.Na2O, SD.Na, label='Na', color='orange')\n",
    "#plt.scatter(OX.TiO2, SD.Ti, label='Ti', color='black', marker='s')\n",
    "\n",
    "#plt.scatter(df1['X'], df1['Y'], label='DataFrame 1', color='blue')\n",
    "\n",
    "# Adding labels and title\n",
    "plt.ylabel('SD %')\n",
    "plt.xlabel('Ox wt%')\n",
    "plt.title('Scatter Plot from Different DataFrames')\n",
    "#plt.xlim(0, 100)\n",
    "#plt.ylim(0, 100)\n",
    "# Adding legend\n",
    "plt.legend()\n",
    "\n",
    "plt.show()"
   ]
  },
  {
   "cell_type": "code",
   "execution_count": null,
   "id": "72e79453-93b6-47d4-a6d7-ff6d8a308269",
   "metadata": {
    "tags": []
   },
   "outputs": [],
   "source": [
    "data.head(3)\n",
    "data.tail(3)\n",
    "data.index\n",
    "data.columns\n"
   ]
  },
  {
   "cell_type": "code",
   "execution_count": null,
   "id": "c8b82181-fe50-4350-8878-cbed209f4502",
   "metadata": {
    "tags": []
   },
   "outputs": [],
   "source": [
    "#data = read_excel(infile)\n",
    "#\n",
    "data['Mineral'].unique()\n",
    "data[data['Mineral']==\"grt\"].plot()\n",
    "plt.show()"
   ]
  },
  {
   "cell_type": "code",
   "execution_count": null,
   "id": "3b59a9ba-8ebb-488e-baae-381a259e0e85",
   "metadata": {
    "tags": []
   },
   "outputs": [],
   "source": [
    "data.to_numpy()"
   ]
  },
  {
   "cell_type": "markdown",
   "id": "85d55316-a00c-403c-84e7-a132b7d2123d",
   "metadata": {},
   "source": [
    "## UPLOAD REFERENCE FILE"
   ]
  },
  {
   "cell_type": "code",
   "execution_count": 17,
   "id": "62a88155-f49b-44c4-afd4-c30ca1f279d0",
   "metadata": {
    "tags": []
   },
   "outputs": [],
   "source": [
    "#infile = '/Users/miki/Dropbox/Development/MLMachineLearning/pythonML/ML_test2023/minerals/test_minerals_ML.xlsx'\n",
    "#reference= '/Users/miki/Dropbox/Development/MLMachineLearning/pythonML/ML_test2023/minerals/QMIN_ALLminerals.xlsx'\n",
    "reference= '/Users/miki/Dropbox/Development/MLMachineLearning/pythonML/QMineral_Modeller-master/data_input/minerals_balanced.csv'\n",
    "#referenceGRT= '/Users/miki/Dropbox/Development/MLMachineLearning/pythonML/ML_test2023/minerals/garnet_model.xlsx'"
   ]
  },
  {
   "cell_type": "code",
   "execution_count": 18,
   "id": "cfe0c160-8df7-48d2-b36d-3c99ef2ec5aa",
   "metadata": {
    "tags": []
   },
   "outputs": [
    {
     "name": "stdout",
     "output_type": "stream",
     "text": [
      "(286738, 31)\n"
     ]
    }
   ],
   "source": [
    "#data_REF = read_excel(reference)\n",
    "data_REF = read_csv(reference)\n",
    "print(data_REF.shape)"
   ]
  },
  {
   "cell_type": "code",
   "execution_count": null,
   "id": "ecba6e82-56fd-4d5e-8abc-a775c3b0ce8f",
   "metadata": {
    "tags": []
   },
   "outputs": [],
   "source": [
    "data_REF.head(3)\n",
    "#data_REF.tail(5)\n",
    "#data_REF[\"GROUP\"].unique()\n",
    "\n",
    "#dataGRT.plot()\n",
    "#plt.show()\n",
    "#data_REF[\"TOTAL\"].head(3)\n",
    "#data_REF[\"TOTAL\"].describe()"
   ]
  },
  {
   "cell_type": "code",
   "execution_count": null,
   "id": "8d6b516f-fab1-48e8-894d-ed6c4885e641",
   "metadata": {
    "tags": []
   },
   "outputs": [],
   "source": [
    "#data_REF.plot()\n",
    "data_REF[data_REF[\"GROUP\"]==\"GARNET\"].shape\n",
    "data_REF[data_REF[\"GROUP\"]==\"GARNET\"].head()\n",
    "#data_REF[data_REF[\"GROUP\"]==\"GARNET\"]."
   ]
  },
  {
   "cell_type": "code",
   "execution_count": null,
   "id": "9bf868e5-da63-4053-922f-3a4a43824bb7",
   "metadata": {
    "tags": []
   },
   "outputs": [],
   "source": [
    "#data_REF[data_REF[\"GROUP\"]==\"GARNET\"].plot(x=\"SOMA\", y=[\"SIO2\", \"MGO\",\"AL2O3\"])\n",
    "#data_REF[data_REF[\"GROUP\"]==\"GARNET\"].plot(kind=\"scatter\",x=\"SOMA\", y=\"SIO2\")\n",
    "#data_REF[data_REF[\"GROUP\"]==\"GARNET\"].to_excel('GARNET.xlsx')\n",
    "#plt.show()\n",
    "sum = data_REF[data_REF[\"GROUP\"]==\"GARNET\"].iloc[:,7:-2].astype(float).sum(axis=1)\n",
    "sum"
   ]
  },
  {
   "cell_type": "code",
   "execution_count": null,
   "id": "96616a8a-58ac-402f-9812-790ea698fb02",
   "metadata": {
    "tags": []
   },
   "outputs": [],
   "source": [
    "data_REF.head(3)\n",
    "data_REF[\"SOMA\"].describe()"
   ]
  },
  {
   "cell_type": "code",
   "execution_count": null,
   "id": "3ea25b72-3e20-4ac6-befb-565d451904e9",
   "metadata": {
    "tags": []
   },
   "outputs": [],
   "source": [
    "sns.scatterplot( x=data_REF[\"SOMA\"], y=data_REF[\"SIO2\"])\n",
    "plt.show()\n",
    "data_REF[\"SOMA\"].describe()"
   ]
  },
  {
   "cell_type": "code",
   "execution_count": null,
   "id": "951776d7-739b-474f-a83e-a7d21dbf8916",
   "metadata": {
    "tags": []
   },
   "outputs": [],
   "source": [
    "data_REF[\"GROUP\"].unique()"
   ]
  },
  {
   "cell_type": "code",
   "execution_count": null,
   "id": "68c211f8-9d50-4369-9dfa-e45572cf4ab6",
   "metadata": {
    "tags": []
   },
   "outputs": [],
   "source": [
    "data_REF[data_REF['GROUP']==\"GARNET\"].size"
   ]
  },
  {
   "cell_type": "code",
   "execution_count": null,
   "id": "1b431e7a-0231-4baa-b775-1de7ac950141",
   "metadata": {
    "tags": []
   },
   "outputs": [],
   "source": []
  },
  {
   "cell_type": "code",
   "execution_count": null,
   "id": "a625342b-ac84-4590-a35e-99760b464e4c",
   "metadata": {
    "tags": []
   },
   "outputs": [],
   "source": [
    "#data_REF['Totale'].plot()\n",
    "grt=data_REF[data_REF['GROUP']==\"GARNET\"]\n",
    "sns.scatterplot(data=grt, x=\"SIO2\", y=sum)\n",
    "plt.show()\n",
    "sns.histoplot(data=grt)"
   ]
  },
  {
   "cell_type": "code",
   "execution_count": null,
   "id": "3bfccd36-6891-4ee0-a1f6-70bc7a41dd68",
   "metadata": {
    "tags": []
   },
   "outputs": [],
   "source": []
  },
  {
   "cell_type": "markdown",
   "id": "a0ae2e71-4b6c-4c97-a8a5-cbbe328ec242",
   "metadata": {
    "tags": []
   },
   "source": [
    "## Filter DATA by MINERAL "
   ]
  },
  {
   "cell_type": "code",
   "execution_count": null,
   "id": "ad08daf8-3b7c-44c6-b601-57041286064e",
   "metadata": {
    "tags": []
   },
   "outputs": [],
   "source": [
    "#isGrt = data(data['Mineral']==\"GT\" | data['Mineral']==\"grt\")\n",
    "isGrt = data['Mineral']==\"grt\"\n",
    "#isGrt = data['Mineral']==\"grt\"\n",
    "isGrt\n",
    "\n",
    "#gapminder_2002 = gapminder[is_2002]\n",
    "data_isGrt = data[isGrt]\n",
    "sns.scatterplot(data=data_REF[data_REF['GROUP']==\"GARNET\"], x=\"SIO2\", y=\"AL2O3\", hue=\"GROUP\", palette=['red'])\n",
    "#sns.scatterplot(data=data, x=\"SiO2\", y=\"Al2O3\",  hue=\"Mineral\")\n",
    "plt.show()\n",
    "sns.scatterplot(data=data_isGrt, x=\"SiO2\", y=\"Al2O3\", hue=\"Mineral\", marker=\"X\", palette=['blue'])\n",
    "\n",
    "plt.show()\n"
   ]
  },
  {
   "cell_type": "code",
   "execution_count": null,
   "id": "c0a488bf-4e12-4697-a54a-9829901a2105",
   "metadata": {
    "tags": []
   },
   "outputs": [],
   "source": [
    "#data.plot(kind=\"box\")\n",
    "sns.boxplot(data)\n",
    "plt.show()"
   ]
  },
  {
   "cell_type": "code",
   "execution_count": null,
   "id": "db5bec16-8f71-4365-81f2-997bd6d55d8c",
   "metadata": {
    "tags": []
   },
   "outputs": [],
   "source": [
    "#axs = data.plot.area(figsize=(12, 4), subplots=True)\n",
    "#plt.show()\n",
    "sns.histplot(data)\n",
    "plt.show()"
   ]
  },
  {
   "cell_type": "code",
   "execution_count": null,
   "id": "9ae06f26-25a1-46c8-9e5f-3021c7ae4d71",
   "metadata": {
    "tags": []
   },
   "outputs": [],
   "source": [
    "%who_ls"
   ]
  },
  {
   "cell_type": "code",
   "execution_count": null,
   "id": "6e160833-e9c5-4c6f-9629-75ad22994b1c",
   "metadata": {
    "tags": []
   },
   "outputs": [],
   "source": [
    "%whos"
   ]
  },
  {
   "cell_type": "markdown",
   "id": "fdfe8d29-c8b6-4bf1-ac6e-7f3953d81c5d",
   "metadata": {},
   "source": [
    "## Calc Total"
   ]
  },
  {
   "cell_type": "code",
   "execution_count": null,
   "id": "1b7a0a9b-ff04-40fb-9b1d-fdb9f82deec9",
   "metadata": {
    "tags": []
   },
   "outputs": [],
   "source": [
    "if 'Total_new' in data_REF.columns:\n",
    "    print(\"Yes\")\n",
    "    del data_REF['Total_new']\n",
    "    data_REF\n",
    "else:\n",
    "    print(\"No\")\n",
    "total = data_REF.iloc[:,2:-1].astype(float).sum(axis=1)\n",
    "sns.histplot(total)\n",
    "plt.show()"
   ]
  },
  {
   "cell_type": "code",
   "execution_count": null,
   "id": "a7dc7f24-a138-4173-a280-7cd79ee9743e",
   "metadata": {
    "tags": []
   },
   "outputs": [],
   "source": [
    "data_REF_check = data_REF.copy()\n",
    "data_REF_check['Total_new'] = total\n",
    "#data_REF['Total_new'] = total\n",
    "#newData = data.copy()\n",
    "#print(total)\n",
    "#sns.histplot(total).set(title='Total Hist1')\n",
    "#plt.show()\n",
    "data_REF_check[data_REF_check[\"REFERENCE MINERAL\"]==\"Garnet\"][\"Total_new\"]\n",
    "#dr.loc[dr['Total_new']]\n",
    "#dr[\"Total_new\"]\n",
    "sns.histplot(data_REF_check[data_REF_check[\"REFERENCE MINERAL\"]==\"Garnet\"][\"Total_new\"]).set(title='Total Hist Ref_Check')\n",
    "plt.show()\n",
    "#print(data['Mineral'])\n",
    "\n",
    "#sns.histplot(data_REF).set(title='Hist ALL')\n",
    "#plt.show()"
   ]
  },
  {
   "cell_type": "code",
   "execution_count": null,
   "id": "01d4ed89-f936-474a-996e-b35a11797f03",
   "metadata": {
    "tags": []
   },
   "outputs": [],
   "source": [
    "data_REF_check[data_REF_check[\"REFERENCE MINERAL\"]==\"Garnet\"].to_excel(\"outgrt.xlsx\")"
   ]
  },
  {
   "cell_type": "code",
   "execution_count": null,
   "id": "5be06e96-f37f-4e6f-9ded-66cded7abd47",
   "metadata": {
    "tags": []
   },
   "outputs": [],
   "source": [
    "data_REF['Total_new'].describe()"
   ]
  },
  {
   "cell_type": "code",
   "execution_count": null,
   "id": "73e704e3-d715-45a0-b4e2-72c5ae884384",
   "metadata": {
    "tags": []
   },
   "outputs": [],
   "source": [
    "sns.scatterplot(data=data_REF, x=\"SIO2\", y=\"Total_new\", marker=\"X\")\n",
    "plt.show()"
   ]
  },
  {
   "cell_type": "code",
   "execution_count": null,
   "id": "def3eeda-9924-45b6-a94f-f082cf26b3e0",
   "metadata": {
    "tags": []
   },
   "outputs": [],
   "source": [
    "#!/Users/miki/miniconda3/bin/pip3 install seaborn"
   ]
  },
  {
   "cell_type": "code",
   "execution_count": null,
   "id": "0492cf45-3902-4994-b071-e7398541fe53",
   "metadata": {
    "tags": []
   },
   "outputs": [],
   "source": [
    "##!/Users/miki/miniconda3/bin/pip3 install git+https://github.com/adamerose/pandasgui.git\n"
   ]
  },
  {
   "cell_type": "code",
   "execution_count": null,
   "id": "90ec9c2d-dd58-4679-a232-588e70785c3d",
   "metadata": {
    "tags": []
   },
   "outputs": [],
   "source": [
    "gui = show(data,dataGRT)"
   ]
  },
  {
   "cell_type": "code",
   "execution_count": null,
   "id": "c1184533-493e-4317-a380-c8d5a16bb4bd",
   "metadata": {
    "tags": []
   },
   "outputs": [],
   "source": [
    "sns.histplot(data['SiO2']).set(title='Hist ALL')\n",
    "plt.show()"
   ]
  },
  {
   "cell_type": "code",
   "execution_count": null,
   "id": "01063b35-0517-4938-b2c9-4a98cad049f5",
   "metadata": {},
   "outputs": [],
   "source": []
  }
 ],
 "metadata": {
  "kernelspec": {
   "display_name": "Python 3 (ipykernel)",
   "language": "python",
   "name": "python3"
  },
  "language_info": {
   "codemirror_mode": {
    "name": "ipython",
    "version": 3
   },
   "file_extension": ".py",
   "mimetype": "text/x-python",
   "name": "python",
   "nbconvert_exporter": "python",
   "pygments_lexer": "ipython3",
   "version": "3.11.5"
  },
  "widgets": {
   "application/vnd.jupyter.widget-state+json": {
    "state": {
     "0369b9bbcc7649eebc124f1e4ca794fa": {
      "buffers": [
       {
        "data": "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",
        "encoding": "base64",
        "path": [
         "value",
         0,
         "content"
        ]
       }
      ],
      "model_module": "@jupyter-widgets/controls",
      "model_module_version": "2.0.0",
      "model_name": "FileUploadModel",
      "state": {
       "accept": "*.xlsx",
       "description_allow_html": false,
       "layout": "IPY_MODEL_a0073b52db47419d88d481b1793ade55",
       "style": "IPY_MODEL_4d8a598468804623afd8afd8e216bebd",
       "value": [
        {
         "last_modified": 1698001511309,
         "name": "test_minerals_ML.xlsx",
         "size": 49192,
         "type": "application/vnd.openxmlformats-officedocument.spreadsheetml.sheet"
        }
       ]
      }
     },
     "2c98cd7bbc124923a6319be060210d77": {
      "model_module": "jupyter-matplotlib",
      "model_module_version": "^0.11",
      "model_name": "MPLCanvasModel",
      "state": {
       "_data_url": "data:image/png;base64,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",
       "_figure_label": "Figure 1",
       "_model_module_version": "^0.11",
       "_size": [
        640,
        480
       ],
       "_view_module_version": "^0.11",
       "layout": "IPY_MODEL_b6789f8df6bb47ba82be007a205cc0a1",
       "toolbar": "IPY_MODEL_2e0a6701ed8749c499ef1f3c5d6dd57e",
       "toolbar_position": "left"
      }
     },
     "2e0a6701ed8749c499ef1f3c5d6dd57e": {
      "model_module": "jupyter-matplotlib",
      "model_module_version": "^0.11",
      "model_name": "ToolbarModel",
      "state": {
       "_model_module_version": "^0.11",
       "_view_module_version": "^0.11",
       "collapsed": true,
       "layout": "IPY_MODEL_3cafff89bc5a4156a21271bf37296235",
       "orientation": "vertical",
       "toolitems": [
        [
         "Home",
         "Reset original view",
         "home",
         "home"
        ],
        [
         "Back",
         "Back to previous view",
         "arrow-left",
         "back"
        ],
        [
         "Forward",
         "Forward to next view",
         "arrow-right",
         "forward"
        ],
        [
         "Pan",
         "Left button pans, Right button zooms\nx/y fixes axis, CTRL fixes aspect",
         "arrows",
         "pan"
        ],
        [
         "Zoom",
         "Zoom to rectangle\nx/y fixes axis",
         "square-o",
         "zoom"
        ],
        [
         "Download",
         "Download plot",
         "floppy-o",
         "save_figure"
        ]
       ]
      }
     },
     "3cafff89bc5a4156a21271bf37296235": {
      "model_module": "@jupyter-widgets/base",
      "model_module_version": "2.0.0",
      "model_name": "LayoutModel",
      "state": {}
     },
     "4d8a598468804623afd8afd8e216bebd": {
      "model_module": "@jupyter-widgets/controls",
      "model_module_version": "2.0.0",
      "model_name": "ButtonStyleModel",
      "state": {
       "font_family": null,
       "font_size": null,
       "font_style": null,
       "font_variant": null,
       "font_weight": null,
       "text_color": null,
       "text_decoration": null
      }
     },
     "a0073b52db47419d88d481b1793ade55": {
      "model_module": "@jupyter-widgets/base",
      "model_module_version": "2.0.0",
      "model_name": "LayoutModel",
      "state": {}
     },
     "b6789f8df6bb47ba82be007a205cc0a1": {
      "model_module": "@jupyter-widgets/base",
      "model_module_version": "2.0.0",
      "model_name": "LayoutModel",
      "state": {}
     }
    },
    "version_major": 2,
    "version_minor": 0
   }
  }
 },
 "nbformat": 4,
 "nbformat_minor": 5
}
