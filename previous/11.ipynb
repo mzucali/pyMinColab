{
  "nbformat": 4,
  "nbformat_minor": 0,
  "metadata": {
    "colab": {
      "provenance": [],
      "authorship_tag": "ABX9TyP6Z86mzr1UzCmnEUlSBSqq",
      "include_colab_link": true
    },
    "kernelspec": {
      "name": "python3",
      "display_name": "Python 3"
    },
    "language_info": {
      "name": "python"
    },
    "vp": {
      "vp_note_display": false,
      "vp_note_width": 0,
      "vp_section_display": false,
      "vp_position": {
        "width": 278
      }
    }
  },
  "cells": [
    {
      "cell_type": "markdown",
      "metadata": {
        "id": "view-in-github",
        "colab_type": "text"
      },
      "source": [
        "<a href=\"https://colab.research.google.com/github/mzucali/pyMinColab/\" target=\"_parent\"><img src=\"https://colab.research.google.com/assets/colab-badge.svg\" alt=\"Open In Colab\"/></a>"
      ]
    },
    {
      "cell_type": "markdown",
      "source": [
        "# pyMIN Colab version\n",
        "January 2023 - first attempt to move pyMin to colab notebook \n",
        "\n",
        "by **Michele Zucali**, Department of Earth Sciences - University of Milan - Italy \n",
        "\n",
        "[https://github.com/mzucali/pyMinColab]"
      ],
      "metadata": {
        "id": "kwehhYxoyB-w"
      }
    },
    {
      "cell_type": "markdown",
      "source": [
        "This is a **basic code** to re-calculate mineral structural formula for rock-forming mineral starting from SEM-EMPA data, Wt% of oxides (e.g., SiO2, Al2O3, MgO, etc.).\n",
        "\n",
        "\n",
        "---\n",
        "\n",
        "\n",
        "### INPUT FILE PREPARATION\n",
        "1) **INPUT** file format is preferibly XLSX but XLS, TAB, CSV, TXT are also accepted. \n",
        "\n",
        "2) **MANDATORY** **headers** are **Sample, Mineral** and **oxides** names (e.g. SiO2, Al2O3, MgO, etc.). Case **INSENSITIVE**, so SIO2, SIo2, SiO2, sio2, siO2, sIo2, ALL accepted!\n",
        "\n",
        "3) **REMOVE** any column with numerical data NOT oxides names (e.g., TOTAL), but you can leave any text comment\n",
        "\n",
        "4) **SAMPLE** column is FREE and reports sample your labels (e.g., 2mZB26_domain2_Grt34)\n",
        "\n",
        "5) **MINERAL** column is **mandatory** and report a label specific for the mineral phase (e.g., grt, als, ttn, amp, etc...). Mineral has a **specific** list with a large number of cases. \n",
        "\n",
        "HERE links to an **[Example_INPUT_FILE](https://github.com/mzucali/pyMinColab/blob/8f00b4148f715caabdbe38331063c9e9c2679e84/testData/example_input_file.xlsx)** (xlsx) [https://github.com/mzucali/pyMinColab/blob/8f00b4148f715caabdbe38331063c9e9c2679e84/testData/example_input_file.xlsx] and **[MINERAL_lables](https://github.com/mzucali/pyMinColab/blob/8f00b4148f715caabdbe38331063c9e9c2679e84/testData/labelsMIN.xlsx)** [https://github.com/mzucali/pyMinColab/blob/8f00b4148f715caabdbe38331063c9e9c2679e84/testData/labelsMIN.xlsx]"
      ],
      "metadata": {
        "id": "48b-GnzuSFCY"
      }
    },
    {
      "cell_type": "markdown",
      "source": [
        "**HOW TO RUN your INPUT File**\n",
        "\n",
        "\n",
        "---\n",
        "\n",
        "\n",
        "1) select Run All from Runtime menu\n",
        "\n",
        "2) select Choose Files form the button appeared at the bottom of this page (as your run Run All not before)\n",
        "\n",
        "3) it will start the computation with a LONG list of outputs as it finished a folder **mydata** will be created with your **input** file, the **output** file (inputdilename_OUT)\n",
        "\n",
        "4) you can download the output"
      ],
      "metadata": {
        "id": "XiL95iMJRuiS"
      }
    },
    {
      "cell_type": "markdown",
      "source": [
        "Import statements"
      ],
      "metadata": {
        "id": "v_fGxMv2yLtI"
      }
    },
    {
      "cell_type": "code",
      "execution_count": 1,
      "metadata": {
        "id": "6AV2MXGxx62C"
      },
      "outputs": [],
      "source": [
        "import os\n",
        "import sys\n",
        "from tkinter import *\n",
        "from tkinter import filedialog\n",
        "from tkinter import scrolledtext\n",
        "import numpy as np\n",
        "import pandas as pd\n",
        "import matplotlib.pyplot as plt\n",
        "%matplotlib inline\n",
        "import seaborn as sns\n",
        "# Visual Python: Data Analysis > Import\n",
        "#!pip install visualpython\n",
        "#!visualpy install\n",
        "#!visualpy version\n",
        "\n",
        "# **GitHub** connect and import\n",
        "print(\"GitHub\")\n",
        "!git clone https://www.github.com/mzucali/pyMinColab.git\n",
        "##from google.colab import drive\n",
        "##drive.mount('/content/github/pyMinColab')\n",
        "#import sys\n",
        "#sys.path.insert(0,'/content/github/pyMinColab')\n",
        "print(\"pwd: \")\n",
        "!pwd\n",
        "!ls\n",
        "%cd /content/pyMinColab/\n",
        "print(\"pwd: \")\n",
        "!pwd\n",
        "# GDrive import alternative solution - uncomment if needed\n",
        "#from google.colab import drive\n",
        "#drive.mount('/content/gdrive')\n",
        "#import sys\n",
        "#sys.path.insert(0,'/content/gdrive/MyDrive/Colab Notebooks/pyMinColab')\n",
        "#%cd /content/gdrive/MyDrive/Colab Notebooks/pyMinColab\n",
        "#print(\"pwd: \")\n",
        "#!pwd\n",
        "#!ls\n",
        "\n",
        "# SYS check\n",
        "#print(sys.version)\n",
        "#print(sys.version_info)\n",
        "%cd /content/pyMinColab/\n",
        "\n",
        "#print(\"pwd1\")\n",
        "#!pwd\n",
        "from mincalclib import dataset"
      ]
    },
    {
      "cell_type": "markdown",
      "source": [
        "***choose File from the button below***, **XLSX (preferred)** or xls, csv, tab, txt"
      ],
      "metadata": {
        "id": "3XELn2AiI52m"
      }
    },
    {
      "cell_type": "code",
      "source": [
        "!mkdir '/content/pyMinColab/mydata'\n",
        "%cd /content/pyMinColab/mydata/\n",
        "from google.colab import files\n",
        "uploaded = list(files.upload())[0]\n",
        "print(\"uploaded file: \", uploaded)\n",
        "##inputfile = '/content/pyMinColab/testData/CHANGE_YOUR_FILENAME.xlsx'\n",
        "##inputfile = '/content/pyMinColab/testData/input_inbox_test.xls'\n",
        "dataset.dataset(uploaded) # RUN pyMin calculation\n",
        "%cd /content/"
      ],
      "metadata": {
        "id": "hhbZizIgYV8Q"
      },
      "execution_count": null,
      "outputs": []
    },
    {
      "cell_type": "markdown",
      "source": [
        "**DOWNLOAD YOUR FILE from myData before closing.**"
      ],
      "metadata": {
        "id": "8thJ42KVGnVO"
      }
    },
    {
      "cell_type": "markdown",
      "source": [
        "8th January 2023, it works!\n",
        "by Michele Zucali\n",
        "https://github.com/mzucali/pyMinColab/"
      ],
      "metadata": {
        "id": "3io0zalOem_E"
      }
    }
  ]
}
