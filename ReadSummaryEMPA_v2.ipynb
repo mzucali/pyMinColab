{
  "nbformat": 4,
  "nbformat_minor": 0,
  "metadata": {
    "colab": {
      "provenance": [],
      "authorship_tag": "ABX9TyP9+yp6CJOZo/j41/arMxXL",
      "include_colab_link": true
    },
    "kernelspec": {
      "name": "python3",
      "display_name": "Python 3"
    },
    "language_info": {
      "name": "python"
    }
  },
  "cells": [
    {
      "cell_type": "markdown",
      "metadata": {
        "id": "view-in-github",
        "colab_type": "text"
      },
      "source": [
        "<a href=\"https://colab.research.google.com/github/mzucali/pyMinColab/blob/main/ReadSummaryEMPA_v2.ipynb\" target=\"_parent\"><img src=\"https://colab.research.google.com/assets/colab-badge.svg\" alt=\"Open In Colab\"/></a>"
      ]
    },
    {
      "cell_type": "markdown",
      "source": [
        "LEGGE IL FILE SUMMARY.TXT ed estrae DL e SD:\n",
        ">input=summary.txt\n",
        ">output=result.txt"
      ],
      "metadata": {
        "id": "ahx7kYpNKhAu"
      }
    },
    {
      "cell_type": "code",
      "source": [
        "# load and read summary file from EMPA\n",
        "from google.colab import files\n",
        "uploaded = files.upload()\n",
        "\n",
        "for fn in uploaded.keys():\n",
        "  print('User uploaded file \"{name}\" with length {length} bytes'.format(\n",
        "      name=fn, length=len(uploaded[fn])))"
      ],
      "metadata": {
        "id": "xmO9WzXojvoC",
        "colab": {
          "base_uri": "https://localhost:8080/",
          "height": 91
        },
        "outputId": "169f2079-fb51-4d35-d3f7-eae61a7dce45"
      },
      "execution_count": 1,
      "outputs": [
        {
          "output_type": "display_data",
          "data": {
            "text/plain": [
              "<IPython.core.display.HTML object>"
            ],
            "text/html": [
              "\n",
              "     <input type=\"file\" id=\"files-f9bbb390-6f71-4a48-947f-6e53ae2f9357\" name=\"files[]\" multiple disabled\n",
              "        style=\"border:none\" />\n",
              "     <output id=\"result-f9bbb390-6f71-4a48-947f-6e53ae2f9357\">\n",
              "      Upload widget is only available when the cell has been executed in the\n",
              "      current browser session. Please rerun this cell to enable.\n",
              "      </output>\n",
              "      <script>// Copyright 2017 Google LLC\n",
              "//\n",
              "// Licensed under the Apache License, Version 2.0 (the \"License\");\n",
              "// you may not use this file except in compliance with the License.\n",
              "// You may obtain a copy of the License at\n",
              "//\n",
              "//      http://www.apache.org/licenses/LICENSE-2.0\n",
              "//\n",
              "// Unless required by applicable law or agreed to in writing, software\n",
              "// distributed under the License is distributed on an \"AS IS\" BASIS,\n",
              "// WITHOUT WARRANTIES OR CONDITIONS OF ANY KIND, either express or implied.\n",
              "// See the License for the specific language governing permissions and\n",
              "// limitations under the License.\n",
              "\n",
              "/**\n",
              " * @fileoverview Helpers for google.colab Python module.\n",
              " */\n",
              "(function(scope) {\n",
              "function span(text, styleAttributes = {}) {\n",
              "  const element = document.createElement('span');\n",
              "  element.textContent = text;\n",
              "  for (const key of Object.keys(styleAttributes)) {\n",
              "    element.style[key] = styleAttributes[key];\n",
              "  }\n",
              "  return element;\n",
              "}\n",
              "\n",
              "// Max number of bytes which will be uploaded at a time.\n",
              "const MAX_PAYLOAD_SIZE = 100 * 1024;\n",
              "\n",
              "function _uploadFiles(inputId, outputId) {\n",
              "  const steps = uploadFilesStep(inputId, outputId);\n",
              "  const outputElement = document.getElementById(outputId);\n",
              "  // Cache steps on the outputElement to make it available for the next call\n",
              "  // to uploadFilesContinue from Python.\n",
              "  outputElement.steps = steps;\n",
              "\n",
              "  return _uploadFilesContinue(outputId);\n",
              "}\n",
              "\n",
              "// This is roughly an async generator (not supported in the browser yet),\n",
              "// where there are multiple asynchronous steps and the Python side is going\n",
              "// to poll for completion of each step.\n",
              "// This uses a Promise to block the python side on completion of each step,\n",
              "// then passes the result of the previous step as the input to the next step.\n",
              "function _uploadFilesContinue(outputId) {\n",
              "  const outputElement = document.getElementById(outputId);\n",
              "  const steps = outputElement.steps;\n",
              "\n",
              "  const next = steps.next(outputElement.lastPromiseValue);\n",
              "  return Promise.resolve(next.value.promise).then((value) => {\n",
              "    // Cache the last promise value to make it available to the next\n",
              "    // step of the generator.\n",
              "    outputElement.lastPromiseValue = value;\n",
              "    return next.value.response;\n",
              "  });\n",
              "}\n",
              "\n",
              "/**\n",
              " * Generator function which is called between each async step of the upload\n",
              " * process.\n",
              " * @param {string} inputId Element ID of the input file picker element.\n",
              " * @param {string} outputId Element ID of the output display.\n",
              " * @return {!Iterable<!Object>} Iterable of next steps.\n",
              " */\n",
              "function* uploadFilesStep(inputId, outputId) {\n",
              "  const inputElement = document.getElementById(inputId);\n",
              "  inputElement.disabled = false;\n",
              "\n",
              "  const outputElement = document.getElementById(outputId);\n",
              "  outputElement.innerHTML = '';\n",
              "\n",
              "  const pickedPromise = new Promise((resolve) => {\n",
              "    inputElement.addEventListener('change', (e) => {\n",
              "      resolve(e.target.files);\n",
              "    });\n",
              "  });\n",
              "\n",
              "  const cancel = document.createElement('button');\n",
              "  inputElement.parentElement.appendChild(cancel);\n",
              "  cancel.textContent = 'Cancel upload';\n",
              "  const cancelPromise = new Promise((resolve) => {\n",
              "    cancel.onclick = () => {\n",
              "      resolve(null);\n",
              "    };\n",
              "  });\n",
              "\n",
              "  // Wait for the user to pick the files.\n",
              "  const files = yield {\n",
              "    promise: Promise.race([pickedPromise, cancelPromise]),\n",
              "    response: {\n",
              "      action: 'starting',\n",
              "    }\n",
              "  };\n",
              "\n",
              "  cancel.remove();\n",
              "\n",
              "  // Disable the input element since further picks are not allowed.\n",
              "  inputElement.disabled = true;\n",
              "\n",
              "  if (!files) {\n",
              "    return {\n",
              "      response: {\n",
              "        action: 'complete',\n",
              "      }\n",
              "    };\n",
              "  }\n",
              "\n",
              "  for (const file of files) {\n",
              "    const li = document.createElement('li');\n",
              "    li.append(span(file.name, {fontWeight: 'bold'}));\n",
              "    li.append(span(\n",
              "        `(${file.type || 'n/a'}) - ${file.size} bytes, ` +\n",
              "        `last modified: ${\n",
              "            file.lastModifiedDate ? file.lastModifiedDate.toLocaleDateString() :\n",
              "                                    'n/a'} - `));\n",
              "    const percent = span('0% done');\n",
              "    li.appendChild(percent);\n",
              "\n",
              "    outputElement.appendChild(li);\n",
              "\n",
              "    const fileDataPromise = new Promise((resolve) => {\n",
              "      const reader = new FileReader();\n",
              "      reader.onload = (e) => {\n",
              "        resolve(e.target.result);\n",
              "      };\n",
              "      reader.readAsArrayBuffer(file);\n",
              "    });\n",
              "    // Wait for the data to be ready.\n",
              "    let fileData = yield {\n",
              "      promise: fileDataPromise,\n",
              "      response: {\n",
              "        action: 'continue',\n",
              "      }\n",
              "    };\n",
              "\n",
              "    // Use a chunked sending to avoid message size limits. See b/62115660.\n",
              "    let position = 0;\n",
              "    do {\n",
              "      const length = Math.min(fileData.byteLength - position, MAX_PAYLOAD_SIZE);\n",
              "      const chunk = new Uint8Array(fileData, position, length);\n",
              "      position += length;\n",
              "\n",
              "      const base64 = btoa(String.fromCharCode.apply(null, chunk));\n",
              "      yield {\n",
              "        response: {\n",
              "          action: 'append',\n",
              "          file: file.name,\n",
              "          data: base64,\n",
              "        },\n",
              "      };\n",
              "\n",
              "      let percentDone = fileData.byteLength === 0 ?\n",
              "          100 :\n",
              "          Math.round((position / fileData.byteLength) * 100);\n",
              "      percent.textContent = `${percentDone}% done`;\n",
              "\n",
              "    } while (position < fileData.byteLength);\n",
              "  }\n",
              "\n",
              "  // All done.\n",
              "  yield {\n",
              "    response: {\n",
              "      action: 'complete',\n",
              "    }\n",
              "  };\n",
              "}\n",
              "\n",
              "scope.google = scope.google || {};\n",
              "scope.google.colab = scope.google.colab || {};\n",
              "scope.google.colab._files = {\n",
              "  _uploadFiles,\n",
              "  _uploadFilesContinue,\n",
              "};\n",
              "})(self);\n",
              "</script> "
            ]
          },
          "metadata": {}
        },
        {
          "output_type": "stream",
          "name": "stdout",
          "text": [
            "Saving summary.txt to summary.txt\n",
            "User uploaded file \"summary.txt\" with length 212586 bytes\n"
          ]
        }
      ]
    },
    {
      "cell_type": "code",
      "execution_count": null,
      "metadata": {
        "id": "2aRaAb3qjA1Z"
      },
      "outputs": [],
      "source": [
        "#@title\n",
        "# check PUO' essere SALTATO\n",
        "summary = fn\n",
        "print(fn)\n",
        "print(summary)\n",
        "with open(summary) as f:\n",
        "  lines = f.readlines()\n",
        "\n",
        "with open(summary) as f:\n",
        "  contents = f.read()\n",
        "  print(contents)\n"
      ]
    },
    {
      "cell_type": "code",
      "source": [
        "file_in = open(\"summary.txt\", \"r\")\n",
        "\n",
        "comments = []\n",
        "com=''\n",
        "for line in file_in:\n",
        "    line_s = line.split()\n",
        "    \n",
        "    try:\n",
        "        if(line_s[4] == \"Comment\"):\n",
        "          comments.append(line_s[6]) \n",
        "    except IndexError:\n",
        "        pass\n",
        "\n",
        "\n",
        "file_in.close()\n",
        "print(comments)"
      ],
      "metadata": {
        "id": "CwxVJvjfzR_J"
      },
      "execution_count": null,
      "outputs": []
    },
    {
      "cell_type": "code",
      "source": [
        "#QUESTO\n",
        "inFile = open(\"summary.txt\")\n",
        "outFile = open(\"result.txt\", \"w\")\n",
        "buffer = []\n",
        "print(\"buffer OUT: \",buffer)\n",
        "for line in inFile: \n",
        "    if line.startswith(\"Curr.(A) :\"):\n",
        "        buffer = ['ID\\t']\n",
        "        print(\"qui=>Curr.(A) :)\")\n",
        "        # print(\"buffer IN1: \",buffer, line)\n",
        "    elif line.startswith(\"Element\tf(chi)\"):\n",
        "      # QUI SI STOPPA E unisce gli elementi del buffer nel OUT\n",
        "        print(\"buffer IN1: \",buffer)\n",
        "        outFile.write(\"\".join(buffer))\n",
        "        \n",
        "        buffer = []\n",
        "        print(\"buffer IN2: \",buffer)\n",
        "    elif buffer:\n",
        "        # se il primo è partito e il secondo ancora non si è verificato allora\n",
        "        # BUFFER=> popolato di linee\n",
        "        line = '\\t'.join(line.split()) \n",
        "        buffer.append(line+'\\n')\n",
        "       \n",
        "inFile.close()\n",
        "outFile.close()"
      ],
      "metadata": {
        "id": "k5l9PNDcMfij"
      },
      "execution_count": null,
      "outputs": []
    },
    {
      "cell_type": "code",
      "source": [
        "import pandas\n",
        "data=pandas.read_table('result.txt')\n",
        "#print(data)\n",
        "#data.head()\n",
        "data\n",
        "#data.to_csv('data.txt')\n",
        "del data['Peak(mm)']\n",
        "del data['Net(cps)']\n",
        "del data['Bg-']\n",
        "del data['Bg+']\n",
        "\n",
        "data['sample'] = 'default value'\n",
        "data.to_excel(\"output.xlsx\")  "
      ],
      "metadata": {
        "id": "ftXfrjiQOThg"
      },
      "execution_count": 16,
      "outputs": []
    },
    {
      "cell_type": "code",
      "source": [
        "data"
      ],
      "metadata": {
        "id": "KBZM2K_WO7Z4"
      },
      "execution_count": null,
      "outputs": []
    },
    {
      "cell_type": "markdown",
      "source": [
        "FINE => il file risultante RESULT.TXT deve essere scaricato"
      ],
      "metadata": {
        "id": "Nat9QWgnKAPu"
      }
    },
    {
      "cell_type": "code",
      "source": [
        "#!/usr/bin/env python3\n",
        "# -*- coding: utf-8 -*-\n",
        "\"\"\"\n",
        "Created on Tue Mar 14 11:30:45 2023\n",
        "\n",
        "@author: alex\n",
        "\"\"\"\n",
        "\n",
        "file_in = open(\"summary.txt\", \"r\")\n",
        "outFile = open(\"result2.txt\", \"w\")\n",
        "\n",
        "lines = file_in.readlines()\n",
        "\n",
        "for i, line in enumerate(lines):\n",
        "    line_s = line.split()\n",
        "    if line_s:\n",
        "        try:\n",
        "            if(line_s[4] == \"Comment\"):\n",
        "                # Keep track of the comment value\n",
        "                comm = line_s[6]\n",
        "                # Just a spacing line\n",
        "                print()\n",
        "        except IndexError:\n",
        "            pass\n",
        "        \n",
        "        if(line_s[0] == \"Curr.(A)\"):\n",
        "#        if(line_s[0] == \"Element\t\"):  \n",
        "            print(\"ID {0} Comment\".format(lines[i+1][:-1]))\n",
        "            outFile.write(\"ID {0} Comment\".format(lines[i+1][:-1]))\n",
        "            for j in range(2,12):\n",
        "                print(\"{0} {1}\\n\".format(lines[i+j][:-1], comm), end=\"\")\n",
        "                #outFile.write(\"{0} {1}\\n\".format(lines[i+j][:-1], comm), end=\"\")\n",
        "                outFile.write(\" {0}\\n\".format(lines))\n",
        "\n",
        "\n",
        "   \n",
        "\n",
        "file_in.close()"
      ],
      "metadata": {
        "id": "Sh1_nZ_vPbNw"
      },
      "execution_count": null,
      "outputs": []
    }
  ]
}