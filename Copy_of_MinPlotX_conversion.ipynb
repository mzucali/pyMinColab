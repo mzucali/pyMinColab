{
  "nbformat": 4,
  "nbformat_minor": 0,
  "metadata": {
    "colab": {
      "provenance": [],
      "authorship_tag": "ABX9TyNxHZ7taKCPb7mpOqExHGzu",
      "include_colab_link": true
    },
    "kernelspec": {
      "name": "python3",
      "display_name": "Python 3"
    },
    "language_info": {
      "name": "python"
    }
  },
  "cells": [
    {
      "cell_type": "markdown",
      "metadata": {
        "id": "view-in-github",
        "colab_type": "text"
      },
      "source": [
        "<a href=\"https://colab.research.google.com/github/mzucali/pyMinColab/blob/main/Copy_of_MinPlotX_conversion.ipynb\" target=\"_parent\"><img src=\"https://colab.research.google.com/assets/colab-badge.svg\" alt=\"Open In Colab\"/></a>"
      ]
    },
    {
      "cell_type": "code",
      "source": [
        "!pip install pandas xlsxwriter"
      ],
      "metadata": {
        "id": "CrcrVgS1QdxZ"
      },
      "execution_count": null,
      "outputs": []
    },
    {
      "cell_type": "markdown",
      "source": [
        "QUESTO CODICE per separare in più file excel **ogni minerale**"
      ],
      "metadata": {
        "id": "iJnb-g0CU1oq"
      }
    },
    {
      "cell_type": "code",
      "execution_count": null,
      "metadata": {
        "id": "kRfjTFktP5Uj"
      },
      "outputs": [],
      "source": [
        "import pandas as pd\n",
        "\n",
        "# Load the Excel file\n",
        "input_file = '16_17-1-25-ox.xlsx'  # Replace with your input file name\n",
        "output_file = 'output.xlsx'  # Replace with your desired output file name\n",
        "\n",
        "# Read the Excel file into a DataFrame\n",
        "df = pd.read_excel(input_file)\n",
        "\n",
        "# Get unique values in the 'mineral' column\n",
        "unique_minerals = df['Mineral'].unique()\n",
        "\n",
        "# Create a Pandas Excel writer using XlsxWriter as the engine\n",
        "with pd.ExcelWriter(output_file, engine='xlsxwriter') as writer:\n",
        "    for mineral in unique_minerals:\n",
        "        # Filter the DataFrame for the current mineral\n",
        "        mineral_df = df[df['Mineral'] == mineral]\n",
        "\n",
        "        # Write the DataFrame to a new sheet\n",
        "        mineral_df.to_excel(writer, sheet_name=mineral, index=False)\n",
        "\n",
        "print(f\"File has been split into sheets and saved as {output_file}\")"
      ]
    },
    {
      "cell_type": "markdown",
      "source": [
        "QUESTO per convertire CSV files in excel"
      ],
      "metadata": {
        "id": "Mj1iJfj8VAny"
      }
    },
    {
      "cell_type": "code",
      "source": [
        "import pandas as pd\n",
        "\n",
        "def csv_to_excel(csv_file, excel_file):\n",
        "    # Read CSV into pandas DataFrame\n",
        "    df = pd.read_csv(csv_file, sep='\\t')\n",
        "\n",
        "    # Write DataFrame to Excel\n",
        "    df.to_excel(excel_file, index=False)\n",
        "\n",
        "# Replace 'input.csv' and 'output.xlsx' with your file paths\n",
        "csv_to_excel('/content/output_opx_structuralformula.csv', '/content/output_opx_structuralformula.xlsx')\n"
      ],
      "metadata": {
        "id": "Dozirhh3oegC"
      },
      "execution_count": null,
      "outputs": []
    }
  ]
}